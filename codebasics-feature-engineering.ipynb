{
 "cells": [
  {
   "cell_type": "code",
   "execution_count": 1,
   "id": "5ef63c46",
   "metadata": {
    "_cell_guid": "b1076dfc-b9ad-4769-8c92-a6c4dae69d19",
    "_uuid": "8f2839f25d086af736a60e9eeb907d3b93b6e0e5",
    "execution": {
     "iopub.execute_input": "2021-10-26T18:03:00.272892Z",
     "iopub.status.busy": "2021-10-26T18:03:00.271643Z",
     "iopub.status.idle": "2021-10-26T18:03:00.661072Z",
     "shell.execute_reply": "2021-10-26T18:03:00.661589Z",
     "shell.execute_reply.started": "2021-10-26T18:02:32.938513Z"
    },
    "papermill": {
     "duration": 0.415533,
     "end_time": "2021-10-26T18:03:00.661896",
     "exception": false,
     "start_time": "2021-10-26T18:03:00.246363",
     "status": "completed"
    },
    "tags": []
   },
   "outputs": [
    {
     "data": {
      "text/html": [
       "<div>\n",
       "<style scoped>\n",
       "    .dataframe tbody tr th:only-of-type {\n",
       "        vertical-align: middle;\n",
       "    }\n",
       "\n",
       "    .dataframe tbody tr th {\n",
       "        vertical-align: top;\n",
       "    }\n",
       "\n",
       "    .dataframe thead th {\n",
       "        text-align: right;\n",
       "    }\n",
       "</style>\n",
       "<table border=\"1\" class=\"dataframe\">\n",
       "  <thead>\n",
       "    <tr style=\"text-align: right;\">\n",
       "      <th></th>\n",
       "      <th>earn</th>\n",
       "      <th>height</th>\n",
       "      <th>sex</th>\n",
       "      <th>ed</th>\n",
       "      <th>age</th>\n",
       "      <th>race</th>\n",
       "    </tr>\n",
       "  </thead>\n",
       "  <tbody>\n",
       "    <tr>\n",
       "      <th>0</th>\n",
       "      <td>50000.0</td>\n",
       "      <td>74.424439</td>\n",
       "      <td>male</td>\n",
       "      <td>16</td>\n",
       "      <td>45</td>\n",
       "      <td>white</td>\n",
       "    </tr>\n",
       "    <tr>\n",
       "      <th>1</th>\n",
       "      <td>60000.0</td>\n",
       "      <td>65.537543</td>\n",
       "      <td>female</td>\n",
       "      <td>16</td>\n",
       "      <td>58</td>\n",
       "      <td>white</td>\n",
       "    </tr>\n",
       "    <tr>\n",
       "      <th>2</th>\n",
       "      <td>30000.0</td>\n",
       "      <td>63.629198</td>\n",
       "      <td>female</td>\n",
       "      <td>16</td>\n",
       "      <td>29</td>\n",
       "      <td>white</td>\n",
       "    </tr>\n",
       "    <tr>\n",
       "      <th>3</th>\n",
       "      <td>50000.0</td>\n",
       "      <td>63.108562</td>\n",
       "      <td>female</td>\n",
       "      <td>16</td>\n",
       "      <td>91</td>\n",
       "      <td>other</td>\n",
       "    </tr>\n",
       "    <tr>\n",
       "      <th>4</th>\n",
       "      <td>51000.0</td>\n",
       "      <td>63.402484</td>\n",
       "      <td>female</td>\n",
       "      <td>17</td>\n",
       "      <td>39</td>\n",
       "      <td>white</td>\n",
       "    </tr>\n",
       "    <tr>\n",
       "      <th>...</th>\n",
       "      <td>...</td>\n",
       "      <td>...</td>\n",
       "      <td>...</td>\n",
       "      <td>...</td>\n",
       "      <td>...</td>\n",
       "      <td>...</td>\n",
       "    </tr>\n",
       "    <tr>\n",
       "      <th>1187</th>\n",
       "      <td>19000.0</td>\n",
       "      <td>72.165733</td>\n",
       "      <td>male</td>\n",
       "      <td>12</td>\n",
       "      <td>29</td>\n",
       "      <td>white</td>\n",
       "    </tr>\n",
       "    <tr>\n",
       "      <th>1188</th>\n",
       "      <td>15000.0</td>\n",
       "      <td>61.135800</td>\n",
       "      <td>female</td>\n",
       "      <td>18</td>\n",
       "      <td>82</td>\n",
       "      <td>white</td>\n",
       "    </tr>\n",
       "    <tr>\n",
       "      <th>1189</th>\n",
       "      <td>8000.0</td>\n",
       "      <td>63.664164</td>\n",
       "      <td>female</td>\n",
       "      <td>12</td>\n",
       "      <td>33</td>\n",
       "      <td>white</td>\n",
       "    </tr>\n",
       "    <tr>\n",
       "      <th>1190</th>\n",
       "      <td>60000.0</td>\n",
       "      <td>71.925836</td>\n",
       "      <td>male</td>\n",
       "      <td>12</td>\n",
       "      <td>50</td>\n",
       "      <td>white</td>\n",
       "    </tr>\n",
       "    <tr>\n",
       "      <th>1191</th>\n",
       "      <td>6000.0</td>\n",
       "      <td>68.368486</td>\n",
       "      <td>male</td>\n",
       "      <td>12</td>\n",
       "      <td>27</td>\n",
       "      <td>white</td>\n",
       "    </tr>\n",
       "  </tbody>\n",
       "</table>\n",
       "<p>1192 rows × 6 columns</p>\n",
       "</div>"
      ],
      "text/plain": [
       "         earn     height     sex  ed  age   race\n",
       "0     50000.0  74.424439    male  16   45  white\n",
       "1     60000.0  65.537543  female  16   58  white\n",
       "2     30000.0  63.629198  female  16   29  white\n",
       "3     50000.0  63.108562  female  16   91  other\n",
       "4     51000.0  63.402484  female  17   39  white\n",
       "...       ...        ...     ...  ..  ...    ...\n",
       "1187  19000.0  72.165733    male  12   29  white\n",
       "1188  15000.0  61.135800  female  18   82  white\n",
       "1189   8000.0  63.664164  female  12   33  white\n",
       "1190  60000.0  71.925836    male  12   50  white\n",
       "1191   6000.0  68.368486    male  12   27  white\n",
       "\n",
       "[1192 rows x 6 columns]"
      ]
     },
     "execution_count": 1,
     "metadata": {},
     "output_type": "execute_result"
    }
   ],
   "source": [
    "import pandas as pd\n",
    "\n",
    "df = pd.read_csv('https://raw.githubusercontent.com/hadley/r4ds/master/data/heights.csv')\n",
    "df"
   ]
  },
  {
   "cell_type": "code",
   "execution_count": 2,
   "id": "674f7fe1",
   "metadata": {
    "execution": {
     "iopub.execute_input": "2021-10-26T18:03:00.702961Z",
     "iopub.status.busy": "2021-10-26T18:03:00.702290Z",
     "iopub.status.idle": "2021-10-26T18:03:00.713248Z",
     "shell.execute_reply": "2021-10-26T18:03:00.713762Z",
     "shell.execute_reply.started": "2021-10-26T18:02:33.099332Z"
    },
    "papermill": {
     "duration": 0.031908,
     "end_time": "2021-10-26T18:03:00.713960",
     "exception": false,
     "start_time": "2021-10-26T18:03:00.682052",
     "status": "completed"
    },
    "tags": []
   },
   "outputs": [
    {
     "data": {
      "text/plain": [
       "75.15891392426795"
      ]
     },
     "execution_count": 2,
     "metadata": {},
     "output_type": "execute_result"
    }
   ],
   "source": [
    "max_thresold = df['height'].quantile(0.99)\n",
    "max_thresold"
   ]
  },
  {
   "cell_type": "code",
   "execution_count": 3,
   "id": "30987e8b",
   "metadata": {
    "execution": {
     "iopub.execute_input": "2021-10-26T18:03:00.757108Z",
     "iopub.status.busy": "2021-10-26T18:03:00.756445Z",
     "iopub.status.idle": "2021-10-26T18:03:00.762566Z",
     "shell.execute_reply": "2021-10-26T18:03:00.762036Z",
     "shell.execute_reply.started": "2021-10-26T18:02:33.109312Z"
    },
    "papermill": {
     "duration": 0.029482,
     "end_time": "2021-10-26T18:03:00.762715",
     "exception": false,
     "start_time": "2021-10-26T18:03:00.733233",
     "status": "completed"
    },
    "tags": []
   },
   "outputs": [
    {
     "data": {
      "text/plain": [
       "62.874164566711954"
      ]
     },
     "execution_count": 3,
     "metadata": {},
     "output_type": "execute_result"
    }
   ],
   "source": [
    "min_thresold = df['height'].quantile(0.15)\n",
    "min_thresold"
   ]
  },
  {
   "cell_type": "code",
   "execution_count": 4,
   "id": "9b026fb4",
   "metadata": {
    "execution": {
     "iopub.execute_input": "2021-10-26T18:03:00.801762Z",
     "iopub.status.busy": "2021-10-26T18:03:00.801152Z",
     "iopub.status.idle": "2021-10-26T18:03:00.821209Z",
     "shell.execute_reply": "2021-10-26T18:03:00.820448Z",
     "shell.execute_reply.started": "2021-10-26T18:02:33.126661Z"
    },
    "papermill": {
     "duration": 0.040861,
     "end_time": "2021-10-26T18:03:00.821354",
     "exception": false,
     "start_time": "2021-10-26T18:03:00.780493",
     "status": "completed"
    },
    "tags": []
   },
   "outputs": [
    {
     "data": {
      "text/html": [
       "<div>\n",
       "<style scoped>\n",
       "    .dataframe tbody tr th:only-of-type {\n",
       "        vertical-align: middle;\n",
       "    }\n",
       "\n",
       "    .dataframe tbody tr th {\n",
       "        vertical-align: top;\n",
       "    }\n",
       "\n",
       "    .dataframe thead th {\n",
       "        text-align: right;\n",
       "    }\n",
       "</style>\n",
       "<table border=\"1\" class=\"dataframe\">\n",
       "  <thead>\n",
       "    <tr style=\"text-align: right;\">\n",
       "      <th></th>\n",
       "      <th>earn</th>\n",
       "      <th>height</th>\n",
       "      <th>sex</th>\n",
       "      <th>ed</th>\n",
       "      <th>age</th>\n",
       "      <th>race</th>\n",
       "    </tr>\n",
       "  </thead>\n",
       "  <tbody>\n",
       "    <tr>\n",
       "      <th>6</th>\n",
       "      <td>29000.0</td>\n",
       "      <td>61.656326</td>\n",
       "      <td>female</td>\n",
       "      <td>12</td>\n",
       "      <td>49</td>\n",
       "      <td>white</td>\n",
       "    </tr>\n",
       "    <tr>\n",
       "      <th>20</th>\n",
       "      <td>5000.0</td>\n",
       "      <td>62.375527</td>\n",
       "      <td>female</td>\n",
       "      <td>13</td>\n",
       "      <td>51</td>\n",
       "      <td>white</td>\n",
       "    </tr>\n",
       "    <tr>\n",
       "      <th>34</th>\n",
       "      <td>7500.0</td>\n",
       "      <td>61.178223</td>\n",
       "      <td>female</td>\n",
       "      <td>14</td>\n",
       "      <td>78</td>\n",
       "      <td>white</td>\n",
       "    </tr>\n",
       "    <tr>\n",
       "      <th>43</th>\n",
       "      <td>11000.0</td>\n",
       "      <td>60.450660</td>\n",
       "      <td>female</td>\n",
       "      <td>12</td>\n",
       "      <td>21</td>\n",
       "      <td>hispanic</td>\n",
       "    </tr>\n",
       "    <tr>\n",
       "      <th>45</th>\n",
       "      <td>20000.0</td>\n",
       "      <td>61.814919</td>\n",
       "      <td>female</td>\n",
       "      <td>12</td>\n",
       "      <td>29</td>\n",
       "      <td>white</td>\n",
       "    </tr>\n",
       "    <tr>\n",
       "      <th>...</th>\n",
       "      <td>...</td>\n",
       "      <td>...</td>\n",
       "      <td>...</td>\n",
       "      <td>...</td>\n",
       "      <td>...</td>\n",
       "      <td>...</td>\n",
       "    </tr>\n",
       "    <tr>\n",
       "      <th>1173</th>\n",
       "      <td>31000.0</td>\n",
       "      <td>61.965598</td>\n",
       "      <td>female</td>\n",
       "      <td>14</td>\n",
       "      <td>39</td>\n",
       "      <td>white</td>\n",
       "    </tr>\n",
       "    <tr>\n",
       "      <th>1178</th>\n",
       "      <td>20000.0</td>\n",
       "      <td>62.137132</td>\n",
       "      <td>female</td>\n",
       "      <td>17</td>\n",
       "      <td>30</td>\n",
       "      <td>white</td>\n",
       "    </tr>\n",
       "    <tr>\n",
       "      <th>1179</th>\n",
       "      <td>15000.0</td>\n",
       "      <td>59.776290</td>\n",
       "      <td>female</td>\n",
       "      <td>12</td>\n",
       "      <td>76</td>\n",
       "      <td>black</td>\n",
       "    </tr>\n",
       "    <tr>\n",
       "      <th>1181</th>\n",
       "      <td>2000.0</td>\n",
       "      <td>60.197099</td>\n",
       "      <td>female</td>\n",
       "      <td>6</td>\n",
       "      <td>67</td>\n",
       "      <td>hispanic</td>\n",
       "    </tr>\n",
       "    <tr>\n",
       "      <th>1188</th>\n",
       "      <td>15000.0</td>\n",
       "      <td>61.135800</td>\n",
       "      <td>female</td>\n",
       "      <td>18</td>\n",
       "      <td>82</td>\n",
       "      <td>white</td>\n",
       "    </tr>\n",
       "  </tbody>\n",
       "</table>\n",
       "<p>179 rows × 6 columns</p>\n",
       "</div>"
      ],
      "text/plain": [
       "         earn     height     sex  ed  age      race\n",
       "6     29000.0  61.656326  female  12   49     white\n",
       "20     5000.0  62.375527  female  13   51     white\n",
       "34     7500.0  61.178223  female  14   78     white\n",
       "43    11000.0  60.450660  female  12   21  hispanic\n",
       "45    20000.0  61.814919  female  12   29     white\n",
       "...       ...        ...     ...  ..  ...       ...\n",
       "1173  31000.0  61.965598  female  14   39     white\n",
       "1178  20000.0  62.137132  female  17   30     white\n",
       "1179  15000.0  59.776290  female  12   76     black\n",
       "1181   2000.0  60.197099  female   6   67  hispanic\n",
       "1188  15000.0  61.135800  female  18   82     white\n",
       "\n",
       "[179 rows x 6 columns]"
      ]
     },
     "execution_count": 4,
     "metadata": {},
     "output_type": "execute_result"
    }
   ],
   "source": [
    "df[df['height']<min_thresold]"
   ]
  },
  {
   "cell_type": "code",
   "execution_count": 5,
   "id": "ec9cfa80",
   "metadata": {
    "execution": {
     "iopub.execute_input": "2021-10-26T18:03:00.872841Z",
     "iopub.status.busy": "2021-10-26T18:03:00.871394Z",
     "iopub.status.idle": "2021-10-26T18:03:00.891944Z",
     "shell.execute_reply": "2021-10-26T18:03:00.891319Z",
     "shell.execute_reply.started": "2021-10-26T18:02:33.149280Z"
    },
    "papermill": {
     "duration": 0.051511,
     "end_time": "2021-10-26T18:03:00.892102",
     "exception": false,
     "start_time": "2021-10-26T18:03:00.840591",
     "status": "completed"
    },
    "tags": []
   },
   "outputs": [
    {
     "data": {
      "text/html": [
       "<div>\n",
       "<style scoped>\n",
       "    .dataframe tbody tr th:only-of-type {\n",
       "        vertical-align: middle;\n",
       "    }\n",
       "\n",
       "    .dataframe tbody tr th {\n",
       "        vertical-align: top;\n",
       "    }\n",
       "\n",
       "    .dataframe thead th {\n",
       "        text-align: right;\n",
       "    }\n",
       "</style>\n",
       "<table border=\"1\" class=\"dataframe\">\n",
       "  <thead>\n",
       "    <tr style=\"text-align: right;\">\n",
       "      <th></th>\n",
       "      <th>earn</th>\n",
       "      <th>height</th>\n",
       "      <th>ed</th>\n",
       "      <th>age</th>\n",
       "    </tr>\n",
       "  </thead>\n",
       "  <tbody>\n",
       "    <tr>\n",
       "      <th>count</th>\n",
       "      <td>1192.000000</td>\n",
       "      <td>1192.000000</td>\n",
       "      <td>1192.000000</td>\n",
       "      <td>1192.000000</td>\n",
       "    </tr>\n",
       "    <tr>\n",
       "      <th>mean</th>\n",
       "      <td>23154.773490</td>\n",
       "      <td>66.915154</td>\n",
       "      <td>13.504195</td>\n",
       "      <td>41.378356</td>\n",
       "    </tr>\n",
       "    <tr>\n",
       "      <th>std</th>\n",
       "      <td>19472.296925</td>\n",
       "      <td>3.853968</td>\n",
       "      <td>2.420175</td>\n",
       "      <td>15.867428</td>\n",
       "    </tr>\n",
       "    <tr>\n",
       "      <th>min</th>\n",
       "      <td>200.000000</td>\n",
       "      <td>57.503219</td>\n",
       "      <td>3.000000</td>\n",
       "      <td>18.000000</td>\n",
       "    </tr>\n",
       "    <tr>\n",
       "      <th>25%</th>\n",
       "      <td>10000.000000</td>\n",
       "      <td>64.009746</td>\n",
       "      <td>12.000000</td>\n",
       "      <td>29.000000</td>\n",
       "    </tr>\n",
       "    <tr>\n",
       "      <th>50%</th>\n",
       "      <td>20000.000000</td>\n",
       "      <td>66.451265</td>\n",
       "      <td>13.000000</td>\n",
       "      <td>38.000000</td>\n",
       "    </tr>\n",
       "    <tr>\n",
       "      <th>75%</th>\n",
       "      <td>30000.000000</td>\n",
       "      <td>69.848100</td>\n",
       "      <td>16.000000</td>\n",
       "      <td>51.000000</td>\n",
       "    </tr>\n",
       "    <tr>\n",
       "      <th>max</th>\n",
       "      <td>200000.000000</td>\n",
       "      <td>77.051282</td>\n",
       "      <td>18.000000</td>\n",
       "      <td>91.000000</td>\n",
       "    </tr>\n",
       "  </tbody>\n",
       "</table>\n",
       "</div>"
      ],
      "text/plain": [
       "                earn       height           ed          age\n",
       "count    1192.000000  1192.000000  1192.000000  1192.000000\n",
       "mean    23154.773490    66.915154    13.504195    41.378356\n",
       "std     19472.296925     3.853968     2.420175    15.867428\n",
       "min       200.000000    57.503219     3.000000    18.000000\n",
       "25%     10000.000000    64.009746    12.000000    29.000000\n",
       "50%     20000.000000    66.451265    13.000000    38.000000\n",
       "75%     30000.000000    69.848100    16.000000    51.000000\n",
       "max    200000.000000    77.051282    18.000000    91.000000"
      ]
     },
     "execution_count": 5,
     "metadata": {},
     "output_type": "execute_result"
    }
   ],
   "source": [
    "df.describe()"
   ]
  },
  {
   "cell_type": "code",
   "execution_count": 6,
   "id": "8d924edb",
   "metadata": {
    "execution": {
     "iopub.execute_input": "2021-10-26T18:03:00.933740Z",
     "iopub.status.busy": "2021-10-26T18:03:00.933049Z",
     "iopub.status.idle": "2021-10-26T18:03:00.945726Z",
     "shell.execute_reply": "2021-10-26T18:03:00.945047Z",
     "shell.execute_reply.started": "2021-10-26T18:02:33.178224Z"
    },
    "papermill": {
     "duration": 0.034607,
     "end_time": "2021-10-26T18:03:00.945884",
     "exception": false,
     "start_time": "2021-10-26T18:03:00.911277",
     "status": "completed"
    },
    "tags": []
   },
   "outputs": [
    {
     "data": {
      "text/html": [
       "<div>\n",
       "<style scoped>\n",
       "    .dataframe tbody tr th:only-of-type {\n",
       "        vertical-align: middle;\n",
       "    }\n",
       "\n",
       "    .dataframe tbody tr th {\n",
       "        vertical-align: top;\n",
       "    }\n",
       "\n",
       "    .dataframe thead th {\n",
       "        text-align: right;\n",
       "    }\n",
       "</style>\n",
       "<table border=\"1\" class=\"dataframe\">\n",
       "  <thead>\n",
       "    <tr style=\"text-align: right;\">\n",
       "      <th></th>\n",
       "      <th>sex</th>\n",
       "      <th>height</th>\n",
       "    </tr>\n",
       "  </thead>\n",
       "  <tbody>\n",
       "    <tr>\n",
       "      <th>0</th>\n",
       "      <td>male</td>\n",
       "      <td>74.424439</td>\n",
       "    </tr>\n",
       "    <tr>\n",
       "      <th>1</th>\n",
       "      <td>female</td>\n",
       "      <td>65.537543</td>\n",
       "    </tr>\n",
       "    <tr>\n",
       "      <th>2</th>\n",
       "      <td>female</td>\n",
       "      <td>63.629198</td>\n",
       "    </tr>\n",
       "    <tr>\n",
       "      <th>3</th>\n",
       "      <td>female</td>\n",
       "      <td>63.108562</td>\n",
       "    </tr>\n",
       "    <tr>\n",
       "      <th>4</th>\n",
       "      <td>female</td>\n",
       "      <td>63.402484</td>\n",
       "    </tr>\n",
       "    <tr>\n",
       "      <th>...</th>\n",
       "      <td>...</td>\n",
       "      <td>...</td>\n",
       "    </tr>\n",
       "    <tr>\n",
       "      <th>1187</th>\n",
       "      <td>male</td>\n",
       "      <td>72.165733</td>\n",
       "    </tr>\n",
       "    <tr>\n",
       "      <th>1188</th>\n",
       "      <td>female</td>\n",
       "      <td>61.135800</td>\n",
       "    </tr>\n",
       "    <tr>\n",
       "      <th>1189</th>\n",
       "      <td>female</td>\n",
       "      <td>63.664164</td>\n",
       "    </tr>\n",
       "    <tr>\n",
       "      <th>1190</th>\n",
       "      <td>male</td>\n",
       "      <td>71.925836</td>\n",
       "    </tr>\n",
       "    <tr>\n",
       "      <th>1191</th>\n",
       "      <td>male</td>\n",
       "      <td>68.368486</td>\n",
       "    </tr>\n",
       "  </tbody>\n",
       "</table>\n",
       "<p>1192 rows × 2 columns</p>\n",
       "</div>"
      ],
      "text/plain": [
       "         sex     height\n",
       "0       male  74.424439\n",
       "1     female  65.537543\n",
       "2     female  63.629198\n",
       "3     female  63.108562\n",
       "4     female  63.402484\n",
       "...      ...        ...\n",
       "1187    male  72.165733\n",
       "1188  female  61.135800\n",
       "1189  female  63.664164\n",
       "1190    male  71.925836\n",
       "1191    male  68.368486\n",
       "\n",
       "[1192 rows x 2 columns]"
      ]
     },
     "execution_count": 6,
     "metadata": {},
     "output_type": "execute_result"
    }
   ],
   "source": [
    "df[['sex','height']]"
   ]
  },
  {
   "cell_type": "code",
   "execution_count": 7,
   "id": "1ccb29b1",
   "metadata": {
    "execution": {
     "iopub.execute_input": "2021-10-26T18:03:00.992241Z",
     "iopub.status.busy": "2021-10-26T18:03:00.991470Z",
     "iopub.status.idle": "2021-10-26T18:03:01.272161Z",
     "shell.execute_reply": "2021-10-26T18:03:01.271365Z",
     "shell.execute_reply.started": "2021-10-26T18:02:33.193358Z"
    },
    "papermill": {
     "duration": 0.306783,
     "end_time": "2021-10-26T18:03:01.272316",
     "exception": false,
     "start_time": "2021-10-26T18:03:00.965533",
     "status": "completed"
    },
    "tags": []
   },
   "outputs": [
    {
     "data": {
      "image/png": "[encoded data removed]",
      "text/plain": [
       "<Figure size 432x288 with 1 Axes>"
      ]
     },
     "metadata": {
      "needs_background": "light"
     },
     "output_type": "display_data"
    }
   ],
   "source": [
    "import matplotlib.pyplot as plt\n",
    "plt.hist(df['height'],bins=20,rwidth=0.8)\n",
    "plt.xlabel('height')\n",
    "plt.ylabel('count')\n",
    "plt.show()"
   ]
  },
  {
   "cell_type": "code",
   "execution_count": 8,
   "id": "49acf5fa",
   "metadata": {
    "execution": {
     "iopub.execute_input": "2021-10-26T18:03:01.321016Z",
     "iopub.status.busy": "2021-10-26T18:03:01.320314Z",
     "iopub.status.idle": "2021-10-26T18:03:02.344543Z",
     "shell.execute_reply": "2021-10-26T18:03:02.343607Z",
     "shell.execute_reply.started": "2021-10-26T18:02:33.454981Z"
    },
    "papermill": {
     "duration": 1.051477,
     "end_time": "2021-10-26T18:03:02.344716",
     "exception": false,
     "start_time": "2021-10-26T18:03:01.293239",
     "status": "completed"
    },
    "tags": []
   },
   "outputs": [
    {
     "data": {
      "text/plain": [
       "[<matplotlib.lines.Line2D at 0x7f875ae5d890>]"
      ]
     },
     "execution_count": 8,
     "metadata": {},
     "output_type": "execute_result"
    },
    {
     "data": {
      "image/png": "[encoded data removed]",
      "text/plain": [
       "<Figure size 432x288 with 1 Axes>"
      ]
     },
     "metadata": {
      "needs_background": "light"
     },
     "output_type": "display_data"
    }
   ],
   "source": [
    "from scipy.stats import norm\n",
    "import numpy as np\n",
    "\n",
    "plt.hist(df['height'],bins=20,rwidth=0.8,density=True)\n",
    "plt.xlabel('height')\n",
    "plt.ylabel('count')\n",
    "\n",
    "rng = np.arange(df['height'].min(), df['height'].max(),0.1)\n",
    "plt.plot(rng,norm.pdf(rng,df['height'].mean(), df['height'].std()))\n"
   ]
  },
  {
   "cell_type": "code",
   "execution_count": 9,
   "id": "3c248a9a",
   "metadata": {
    "execution": {
     "iopub.execute_input": "2021-10-26T18:03:02.396696Z",
     "iopub.status.busy": "2021-10-26T18:03:02.395804Z",
     "iopub.status.idle": "2021-10-26T18:03:02.399010Z",
     "shell.execute_reply": "2021-10-26T18:03:02.399526Z",
     "shell.execute_reply.started": "2021-10-26T18:02:33.737856Z"
    },
    "papermill": {
     "duration": 0.032422,
     "end_time": "2021-10-26T18:03:02.399707",
     "exception": false,
     "start_time": "2021-10-26T18:03:02.367285",
     "status": "completed"
    },
    "tags": []
   },
   "outputs": [
    {
     "data": {
      "text/plain": [
       "66.91515376107574"
      ]
     },
     "execution_count": 9,
     "metadata": {},
     "output_type": "execute_result"
    }
   ],
   "source": [
    "df['height'].mean()"
   ]
  },
  {
   "cell_type": "code",
   "execution_count": 10,
   "id": "4870ea31",
   "metadata": {
    "execution": {
     "iopub.execute_input": "2021-10-26T18:03:02.449585Z",
     "iopub.status.busy": "2021-10-26T18:03:02.448475Z",
     "iopub.status.idle": "2021-10-26T18:03:02.453001Z",
     "shell.execute_reply": "2021-10-26T18:03:02.452380Z",
     "shell.execute_reply.started": "2021-10-26T18:02:33.747236Z"
    },
    "papermill": {
     "duration": 0.031671,
     "end_time": "2021-10-26T18:03:02.453145",
     "exception": false,
     "start_time": "2021-10-26T18:03:02.421474",
     "status": "completed"
    },
    "tags": []
   },
   "outputs": [
    {
     "data": {
      "text/plain": [
       "3.853967839832441"
      ]
     },
     "execution_count": 10,
     "metadata": {},
     "output_type": "execute_result"
    }
   ],
   "source": [
    "df['height'].std()"
   ]
  },
  {
   "cell_type": "code",
   "execution_count": 11,
   "id": "d457eed1",
   "metadata": {
    "execution": {
     "iopub.execute_input": "2021-10-26T18:03:02.504702Z",
     "iopub.status.busy": "2021-10-26T18:03:02.503649Z",
     "iopub.status.idle": "2021-10-26T18:03:02.507969Z",
     "shell.execute_reply": "2021-10-26T18:03:02.507405Z",
     "shell.execute_reply.started": "2021-10-26T18:02:33.759520Z"
    },
    "papermill": {
     "duration": 0.032614,
     "end_time": "2021-10-26T18:03:02.508127",
     "exception": false,
     "start_time": "2021-10-26T18:03:02.475513",
     "status": "completed"
    },
    "tags": []
   },
   "outputs": [
    {
     "data": {
      "text/plain": [
       "78.47705728057306"
      ]
     },
     "execution_count": 11,
     "metadata": {},
     "output_type": "execute_result"
    }
   ],
   "source": [
    "upper_limit = df['height'].mean() + 3*df['height'].std()\n",
    "upper_limit"
   ]
  },
  {
   "cell_type": "code",
   "execution_count": 12,
   "id": "b9e2eaa3",
   "metadata": {
    "execution": {
     "iopub.execute_input": "2021-10-26T18:03:02.558831Z",
     "iopub.status.busy": "2021-10-26T18:03:02.558114Z",
     "iopub.status.idle": "2021-10-26T18:03:02.560641Z",
     "shell.execute_reply": "2021-10-26T18:03:02.561153Z",
     "shell.execute_reply.started": "2021-10-26T18:02:33.773396Z"
    },
    "papermill": {
     "duration": 0.030783,
     "end_time": "2021-10-26T18:03:02.561325",
     "exception": false,
     "start_time": "2021-10-26T18:03:02.530542",
     "status": "completed"
    },
    "tags": []
   },
   "outputs": [
    {
     "data": {
      "text/plain": [
       "55.35325024157842"
      ]
     },
     "execution_count": 12,
     "metadata": {},
     "output_type": "execute_result"
    }
   ],
   "source": [
    "lower_limit = df['height'].mean() - 3*df['height'].std()\n",
    "lower_limit"
   ]
  },
  {
   "cell_type": "code",
   "execution_count": 13,
   "id": "19b9ab72",
   "metadata": {
    "execution": {
     "iopub.execute_input": "2021-10-26T18:03:02.609904Z",
     "iopub.status.busy": "2021-10-26T18:03:02.609213Z",
     "iopub.status.idle": "2021-10-26T18:03:02.619059Z",
     "shell.execute_reply": "2021-10-26T18:03:02.619792Z",
     "shell.execute_reply.started": "2021-10-26T18:02:33.783485Z"
    },
    "papermill": {
     "duration": 0.036029,
     "end_time": "2021-10-26T18:03:02.619999",
     "exception": false,
     "start_time": "2021-10-26T18:03:02.583970",
     "status": "completed"
    },
    "tags": []
   },
   "outputs": [
    {
     "data": {
      "text/html": [
       "<div>\n",
       "<style scoped>\n",
       "    .dataframe tbody tr th:only-of-type {\n",
       "        vertical-align: middle;\n",
       "    }\n",
       "\n",
       "    .dataframe tbody tr th {\n",
       "        vertical-align: top;\n",
       "    }\n",
       "\n",
       "    .dataframe thead th {\n",
       "        text-align: right;\n",
       "    }\n",
       "</style>\n",
       "<table border=\"1\" class=\"dataframe\">\n",
       "  <thead>\n",
       "    <tr style=\"text-align: right;\">\n",
       "      <th></th>\n",
       "      <th>earn</th>\n",
       "      <th>height</th>\n",
       "      <th>sex</th>\n",
       "      <th>ed</th>\n",
       "      <th>age</th>\n",
       "      <th>race</th>\n",
       "    </tr>\n",
       "  </thead>\n",
       "  <tbody>\n",
       "  </tbody>\n",
       "</table>\n",
       "</div>"
      ],
      "text/plain": [
       "Empty DataFrame\n",
       "Columns: [earn, height, sex, ed, age, race]\n",
       "Index: []"
      ]
     },
     "execution_count": 13,
     "metadata": {},
     "output_type": "execute_result"
    }
   ],
   "source": [
    "# to find outliers\n",
    "df[(df['height']>upper_limit) | (df['height']<lower_limit)]"
   ]
  },
  {
   "cell_type": "markdown",
   "id": "f7e4f0d6",
   "metadata": {
    "papermill": {
     "duration": 0.023557,
     "end_time": "2021-10-26T18:03:02.666627",
     "exception": false,
     "start_time": "2021-10-26T18:03:02.643070",
     "status": "completed"
    },
    "tags": []
   },
   "source": [
    "**now alternate way to remove outliers is zscore**"
   ]
  },
  {
   "cell_type": "code",
   "execution_count": 14,
   "id": "d5ad79a9",
   "metadata": {
    "execution": {
     "iopub.execute_input": "2021-10-26T18:03:02.717426Z",
     "iopub.status.busy": "2021-10-26T18:03:02.716691Z",
     "iopub.status.idle": "2021-10-26T18:03:02.722816Z",
     "shell.execute_reply": "2021-10-26T18:03:02.723390Z",
     "shell.execute_reply.started": "2021-10-26T18:02:33.803259Z"
    },
    "papermill": {
     "duration": 0.033743,
     "end_time": "2021-10-26T18:03:02.723561",
     "exception": false,
     "start_time": "2021-10-26T18:03:02.689818",
     "status": "completed"
    },
    "tags": []
   },
   "outputs": [],
   "source": [
    "df['zscore'] =  (df['height'] - df['height'].mean())/df['height'].std()"
   ]
  },
  {
   "cell_type": "code",
   "execution_count": 15,
   "id": "c71f018b",
   "metadata": {
    "execution": {
     "iopub.execute_input": "2021-10-26T18:03:02.777125Z",
     "iopub.status.busy": "2021-10-26T18:03:02.776382Z",
     "iopub.status.idle": "2021-10-26T18:03:02.791157Z",
     "shell.execute_reply": "2021-10-26T18:03:02.791785Z",
     "shell.execute_reply.started": "2021-10-26T18:02:33.810912Z"
    },
    "papermill": {
     "duration": 0.045235,
     "end_time": "2021-10-26T18:03:02.791962",
     "exception": false,
     "start_time": "2021-10-26T18:03:02.746727",
     "status": "completed"
    },
    "tags": []
   },
   "outputs": [
    {
     "data": {
      "text/html": [
       "<div>\n",
       "<style scoped>\n",
       "    .dataframe tbody tr th:only-of-type {\n",
       "        vertical-align: middle;\n",
       "    }\n",
       "\n",
       "    .dataframe tbody tr th {\n",
       "        vertical-align: top;\n",
       "    }\n",
       "\n",
       "    .dataframe thead th {\n",
       "        text-align: right;\n",
       "    }\n",
       "</style>\n",
       "<table border=\"1\" class=\"dataframe\">\n",
       "  <thead>\n",
       "    <tr style=\"text-align: right;\">\n",
       "      <th></th>\n",
       "      <th>earn</th>\n",
       "      <th>height</th>\n",
       "      <th>sex</th>\n",
       "      <th>ed</th>\n",
       "      <th>age</th>\n",
       "      <th>race</th>\n",
       "      <th>zscore</th>\n",
       "    </tr>\n",
       "  </thead>\n",
       "  <tbody>\n",
       "    <tr>\n",
       "      <th>0</th>\n",
       "      <td>50000.0</td>\n",
       "      <td>74.424439</td>\n",
       "      <td>male</td>\n",
       "      <td>16</td>\n",
       "      <td>45</td>\n",
       "      <td>white</td>\n",
       "      <td>1.948456</td>\n",
       "    </tr>\n",
       "    <tr>\n",
       "      <th>1</th>\n",
       "      <td>60000.0</td>\n",
       "      <td>65.537543</td>\n",
       "      <td>female</td>\n",
       "      <td>16</td>\n",
       "      <td>58</td>\n",
       "      <td>white</td>\n",
       "      <td>-0.357453</td>\n",
       "    </tr>\n",
       "    <tr>\n",
       "      <th>2</th>\n",
       "      <td>30000.0</td>\n",
       "      <td>63.629198</td>\n",
       "      <td>female</td>\n",
       "      <td>16</td>\n",
       "      <td>29</td>\n",
       "      <td>white</td>\n",
       "      <td>-0.852616</td>\n",
       "    </tr>\n",
       "    <tr>\n",
       "      <th>3</th>\n",
       "      <td>50000.0</td>\n",
       "      <td>63.108562</td>\n",
       "      <td>female</td>\n",
       "      <td>16</td>\n",
       "      <td>91</td>\n",
       "      <td>other</td>\n",
       "      <td>-0.987707</td>\n",
       "    </tr>\n",
       "    <tr>\n",
       "      <th>4</th>\n",
       "      <td>51000.0</td>\n",
       "      <td>63.402484</td>\n",
       "      <td>female</td>\n",
       "      <td>17</td>\n",
       "      <td>39</td>\n",
       "      <td>white</td>\n",
       "      <td>-0.911443</td>\n",
       "    </tr>\n",
       "    <tr>\n",
       "      <th>...</th>\n",
       "      <td>...</td>\n",
       "      <td>...</td>\n",
       "      <td>...</td>\n",
       "      <td>...</td>\n",
       "      <td>...</td>\n",
       "      <td>...</td>\n",
       "      <td>...</td>\n",
       "    </tr>\n",
       "    <tr>\n",
       "      <th>1187</th>\n",
       "      <td>19000.0</td>\n",
       "      <td>72.165733</td>\n",
       "      <td>male</td>\n",
       "      <td>12</td>\n",
       "      <td>29</td>\n",
       "      <td>white</td>\n",
       "      <td>1.362383</td>\n",
       "    </tr>\n",
       "    <tr>\n",
       "      <th>1188</th>\n",
       "      <td>15000.0</td>\n",
       "      <td>61.135800</td>\n",
       "      <td>female</td>\n",
       "      <td>18</td>\n",
       "      <td>82</td>\n",
       "      <td>white</td>\n",
       "      <td>-1.499585</td>\n",
       "    </tr>\n",
       "    <tr>\n",
       "      <th>1189</th>\n",
       "      <td>8000.0</td>\n",
       "      <td>63.664164</td>\n",
       "      <td>female</td>\n",
       "      <td>12</td>\n",
       "      <td>33</td>\n",
       "      <td>white</td>\n",
       "      <td>-0.843544</td>\n",
       "    </tr>\n",
       "    <tr>\n",
       "      <th>1190</th>\n",
       "      <td>60000.0</td>\n",
       "      <td>71.925836</td>\n",
       "      <td>male</td>\n",
       "      <td>12</td>\n",
       "      <td>50</td>\n",
       "      <td>white</td>\n",
       "      <td>1.300136</td>\n",
       "    </tr>\n",
       "    <tr>\n",
       "      <th>1191</th>\n",
       "      <td>6000.0</td>\n",
       "      <td>68.368486</td>\n",
       "      <td>male</td>\n",
       "      <td>12</td>\n",
       "      <td>27</td>\n",
       "      <td>white</td>\n",
       "      <td>0.377100</td>\n",
       "    </tr>\n",
       "  </tbody>\n",
       "</table>\n",
       "<p>1192 rows × 7 columns</p>\n",
       "</div>"
      ],
      "text/plain": [
       "         earn     height     sex  ed  age   race    zscore\n",
       "0     50000.0  74.424439    male  16   45  white  1.948456\n",
       "1     60000.0  65.537543  female  16   58  white -0.357453\n",
       "2     30000.0  63.629198  female  16   29  white -0.852616\n",
       "3     50000.0  63.108562  female  16   91  other -0.987707\n",
       "4     51000.0  63.402484  female  17   39  white -0.911443\n",
       "...       ...        ...     ...  ..  ...    ...       ...\n",
       "1187  19000.0  72.165733    male  12   29  white  1.362383\n",
       "1188  15000.0  61.135800  female  18   82  white -1.499585\n",
       "1189   8000.0  63.664164  female  12   33  white -0.843544\n",
       "1190  60000.0  71.925836    male  12   50  white  1.300136\n",
       "1191   6000.0  68.368486    male  12   27  white  0.377100\n",
       "\n",
       "[1192 rows x 7 columns]"
      ]
     },
     "execution_count": 15,
     "metadata": {},
     "output_type": "execute_result"
    }
   ],
   "source": [
    "df"
   ]
  },
  {
   "cell_type": "code",
   "execution_count": 16,
   "id": "8b4a9ff5",
   "metadata": {
    "execution": {
     "iopub.execute_input": "2021-10-26T18:03:02.843338Z",
     "iopub.status.busy": "2021-10-26T18:03:02.842660Z",
     "iopub.status.idle": "2021-10-26T18:03:02.852379Z",
     "shell.execute_reply": "2021-10-26T18:03:02.852955Z",
     "shell.execute_reply.started": "2021-10-26T18:02:33.839875Z"
    },
    "papermill": {
     "duration": 0.037605,
     "end_time": "2021-10-26T18:03:02.853138",
     "exception": false,
     "start_time": "2021-10-26T18:03:02.815533",
     "status": "completed"
    },
    "tags": []
   },
   "outputs": [
    {
     "data": {
      "text/html": [
       "<div>\n",
       "<style scoped>\n",
       "    .dataframe tbody tr th:only-of-type {\n",
       "        vertical-align: middle;\n",
       "    }\n",
       "\n",
       "    .dataframe tbody tr th {\n",
       "        vertical-align: top;\n",
       "    }\n",
       "\n",
       "    .dataframe thead th {\n",
       "        text-align: right;\n",
       "    }\n",
       "</style>\n",
       "<table border=\"1\" class=\"dataframe\">\n",
       "  <thead>\n",
       "    <tr style=\"text-align: right;\">\n",
       "      <th></th>\n",
       "      <th>earn</th>\n",
       "      <th>height</th>\n",
       "      <th>sex</th>\n",
       "      <th>ed</th>\n",
       "      <th>age</th>\n",
       "      <th>race</th>\n",
       "      <th>zscore</th>\n",
       "    </tr>\n",
       "  </thead>\n",
       "  <tbody>\n",
       "  </tbody>\n",
       "</table>\n",
       "</div>"
      ],
      "text/plain": [
       "Empty DataFrame\n",
       "Columns: [earn, height, sex, ed, age, race, zscore]\n",
       "Index: []"
      ]
     },
     "execution_count": 16,
     "metadata": {},
     "output_type": "execute_result"
    }
   ],
   "source": [
    "df[df['zscore']>3]"
   ]
  },
  {
   "cell_type": "code",
   "execution_count": 17,
   "id": "e6f47e06",
   "metadata": {
    "execution": {
     "iopub.execute_input": "2021-10-26T18:03:02.907082Z",
     "iopub.status.busy": "2021-10-26T18:03:02.906371Z",
     "iopub.status.idle": "2021-10-26T18:03:02.916021Z",
     "shell.execute_reply": "2021-10-26T18:03:02.916678Z",
     "shell.execute_reply.started": "2021-10-26T18:02:33.858667Z"
    },
    "papermill": {
     "duration": 0.037634,
     "end_time": "2021-10-26T18:03:02.916878",
     "exception": false,
     "start_time": "2021-10-26T18:03:02.879244",
     "status": "completed"
    },
    "tags": []
   },
   "outputs": [
    {
     "data": {
      "text/html": [
       "<div>\n",
       "<style scoped>\n",
       "    .dataframe tbody tr th:only-of-type {\n",
       "        vertical-align: middle;\n",
       "    }\n",
       "\n",
       "    .dataframe tbody tr th {\n",
       "        vertical-align: top;\n",
       "    }\n",
       "\n",
       "    .dataframe thead th {\n",
       "        text-align: right;\n",
       "    }\n",
       "</style>\n",
       "<table border=\"1\" class=\"dataframe\">\n",
       "  <thead>\n",
       "    <tr style=\"text-align: right;\">\n",
       "      <th></th>\n",
       "      <th>earn</th>\n",
       "      <th>height</th>\n",
       "      <th>sex</th>\n",
       "      <th>ed</th>\n",
       "      <th>age</th>\n",
       "      <th>race</th>\n",
       "      <th>zscore</th>\n",
       "    </tr>\n",
       "  </thead>\n",
       "  <tbody>\n",
       "  </tbody>\n",
       "</table>\n",
       "</div>"
      ],
      "text/plain": [
       "Empty DataFrame\n",
       "Columns: [earn, height, sex, ed, age, race, zscore]\n",
       "Index: []"
      ]
     },
     "execution_count": 17,
     "metadata": {},
     "output_type": "execute_result"
    }
   ],
   "source": [
    "df[df['zscore']<-3]"
   ]
  },
  {
   "cell_type": "code",
   "execution_count": 18,
   "id": "441b3824",
   "metadata": {
    "execution": {
     "iopub.execute_input": "2021-10-26T18:03:02.970450Z",
     "iopub.status.busy": "2021-10-26T18:03:02.969765Z",
     "iopub.status.idle": "2021-10-26T18:03:03.105496Z",
     "shell.execute_reply": "2021-10-26T18:03:03.104945Z",
     "shell.execute_reply.started": "2021-10-26T18:02:33.870455Z"
    },
    "papermill": {
     "duration": 0.163436,
     "end_time": "2021-10-26T18:03:03.105702",
     "exception": false,
     "start_time": "2021-10-26T18:03:02.942266",
     "status": "completed"
    },
    "tags": []
   },
   "outputs": [
    {
     "data": {
      "text/html": [
       "<div>\n",
       "<style scoped>\n",
       "    .dataframe tbody tr th:only-of-type {\n",
       "        vertical-align: middle;\n",
       "    }\n",
       "\n",
       "    .dataframe tbody tr th {\n",
       "        vertical-align: top;\n",
       "    }\n",
       "\n",
       "    .dataframe thead th {\n",
       "        text-align: right;\n",
       "    }\n",
       "</style>\n",
       "<table border=\"1\" class=\"dataframe\">\n",
       "  <thead>\n",
       "    <tr style=\"text-align: right;\">\n",
       "      <th></th>\n",
       "      <th>earn</th>\n",
       "      <th>height</th>\n",
       "      <th>ed</th>\n",
       "      <th>age</th>\n",
       "      <th>zscore</th>\n",
       "    </tr>\n",
       "  </thead>\n",
       "  <tbody>\n",
       "    <tr>\n",
       "      <th>count</th>\n",
       "      <td>1192.000000</td>\n",
       "      <td>1192.000000</td>\n",
       "      <td>1192.000000</td>\n",
       "      <td>1192.000000</td>\n",
       "      <td>1.192000e+03</td>\n",
       "    </tr>\n",
       "    <tr>\n",
       "      <th>mean</th>\n",
       "      <td>23154.773490</td>\n",
       "      <td>66.915154</td>\n",
       "      <td>13.504195</td>\n",
       "      <td>41.378356</td>\n",
       "      <td>-2.684747e-16</td>\n",
       "    </tr>\n",
       "    <tr>\n",
       "      <th>std</th>\n",
       "      <td>19472.296925</td>\n",
       "      <td>3.853968</td>\n",
       "      <td>2.420175</td>\n",
       "      <td>15.867428</td>\n",
       "      <td>1.000000e+00</td>\n",
       "    </tr>\n",
       "    <tr>\n",
       "      <th>min</th>\n",
       "      <td>200.000000</td>\n",
       "      <td>57.503219</td>\n",
       "      <td>3.000000</td>\n",
       "      <td>18.000000</td>\n",
       "      <td>-2.442142e+00</td>\n",
       "    </tr>\n",
       "    <tr>\n",
       "      <th>25%</th>\n",
       "      <td>10000.000000</td>\n",
       "      <td>64.009746</td>\n",
       "      <td>12.000000</td>\n",
       "      <td>29.000000</td>\n",
       "      <td>-7.538745e-01</td>\n",
       "    </tr>\n",
       "    <tr>\n",
       "      <th>50%</th>\n",
       "      <td>20000.000000</td>\n",
       "      <td>66.451265</td>\n",
       "      <td>13.000000</td>\n",
       "      <td>38.000000</td>\n",
       "      <td>-1.203665e-01</td>\n",
       "    </tr>\n",
       "    <tr>\n",
       "      <th>75%</th>\n",
       "      <td>30000.000000</td>\n",
       "      <td>69.848100</td>\n",
       "      <td>16.000000</td>\n",
       "      <td>51.000000</td>\n",
       "      <td>7.610199e-01</td>\n",
       "    </tr>\n",
       "    <tr>\n",
       "      <th>max</th>\n",
       "      <td>200000.000000</td>\n",
       "      <td>77.051282</td>\n",
       "      <td>18.000000</td>\n",
       "      <td>91.000000</td>\n",
       "      <td>2.630050e+00</td>\n",
       "    </tr>\n",
       "  </tbody>\n",
       "</table>\n",
       "</div>"
      ],
      "text/plain": [
       "                earn       height           ed          age        zscore\n",
       "count    1192.000000  1192.000000  1192.000000  1192.000000  1.192000e+03\n",
       "mean    23154.773490    66.915154    13.504195    41.378356 -2.684747e-16\n",
       "std     19472.296925     3.853968     2.420175    15.867428  1.000000e+00\n",
       "min       200.000000    57.503219     3.000000    18.000000 -2.442142e+00\n",
       "25%     10000.000000    64.009746    12.000000    29.000000 -7.538745e-01\n",
       "50%     20000.000000    66.451265    13.000000    38.000000 -1.203665e-01\n",
       "75%     30000.000000    69.848100    16.000000    51.000000  7.610199e-01\n",
       "max    200000.000000    77.051282    18.000000    91.000000  2.630050e+00"
      ]
     },
     "execution_count": 18,
     "metadata": {},
     "output_type": "execute_result"
    }
   ],
   "source": [
    "df.describe()"
   ]
  },
  {
   "cell_type": "code",
   "execution_count": null,
   "id": "431b8f5b",
   "metadata": {
    "papermill": {
     "duration": 0.024684,
     "end_time": "2021-10-26T18:03:03.155390",
     "exception": false,
     "start_time": "2021-10-26T18:03:03.130706",
     "status": "completed"
    },
    "tags": []
   },
   "outputs": [],
   "source": []
  }
 ],
 "metadata": {
  "kernelspec": {
   "display_name": "Python 3",
   "language": "python",
   "name": "python3"
  },
  "language_info": {
   "codemirror_mode": {
    "name": "ipython",
    "version": 3
   },
   "file_extension": ".py",
   "mimetype": "text/x-python",
   "name": "python",
   "nbconvert_exporter": "python",
   "pygments_lexer": "ipython3",
   "version": "3.7.10"
  },
  "papermill": {
   "default_parameters": {},
   "duration": 13.423216,
   "end_time": "2021-10-26T18:03:03.892366",
   "environment_variables": {},
   "exception": null,
   "input_path": "__notebook__.ipynb",
   "output_path": "__notebook__.ipynb",
   "parameters": {},
   "start_time": "2021-10-26T18:02:50.469150",
   "version": "2.3.3"
  }
 },
 "nbformat": 4,
 "nbformat_minor": 5
}
