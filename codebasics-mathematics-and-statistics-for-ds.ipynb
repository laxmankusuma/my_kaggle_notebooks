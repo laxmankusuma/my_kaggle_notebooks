{
 "cells": [
  {
   "cell_type": "code",
   "execution_count": 1,
   "id": "36760d7b",
   "metadata": {
    "_cell_guid": "b1076dfc-b9ad-4769-8c92-a6c4dae69d19",
    "_uuid": "8f2839f25d086af736a60e9eeb907d3b93b6e0e5",
    "execution": {
     "iopub.execute_input": "2021-10-27T15:26:41.901155Z",
     "iopub.status.busy": "2021-10-27T15:26:41.895031Z",
     "iopub.status.idle": "2021-10-27T15:26:41.924341Z",
     "shell.execute_reply": "2021-10-27T15:26:41.924841Z",
     "shell.execute_reply.started": "2021-10-27T15:04:53.509977Z"
    },
    "papermill": {
     "duration": 0.042167,
     "end_time": "2021-10-27T15:26:41.925129",
     "exception": false,
     "start_time": "2021-10-27T15:26:41.882962",
     "status": "completed"
    },
    "tags": []
   },
   "outputs": [
    {
     "data": {
      "text/html": [
       "<div>\n",
       "<style scoped>\n",
       "    .dataframe tbody tr th:only-of-type {\n",
       "        vertical-align: middle;\n",
       "    }\n",
       "\n",
       "    .dataframe tbody tr th {\n",
       "        vertical-align: top;\n",
       "    }\n",
       "\n",
       "    .dataframe thead th {\n",
       "        text-align: right;\n",
       "    }\n",
       "</style>\n",
       "<table border=\"1\" class=\"dataframe\">\n",
       "  <thead>\n",
       "    <tr style=\"text-align: right;\">\n",
       "      <th></th>\n",
       "      <th>company</th>\n",
       "      <th>revenue</th>\n",
       "    </tr>\n",
       "  </thead>\n",
       "  <tbody>\n",
       "    <tr>\n",
       "      <th>0</th>\n",
       "      <td>Tesla</td>\n",
       "      <td>31.0</td>\n",
       "    </tr>\n",
       "    <tr>\n",
       "      <th>1</th>\n",
       "      <td>UBER</td>\n",
       "      <td>11.0</td>\n",
       "    </tr>\n",
       "    <tr>\n",
       "      <th>2</th>\n",
       "      <td>Amazon</td>\n",
       "      <td>386.0</td>\n",
       "    </tr>\n",
       "    <tr>\n",
       "      <th>3</th>\n",
       "      <td>Jindal Steel</td>\n",
       "      <td>4.7</td>\n",
       "    </tr>\n",
       "    <tr>\n",
       "      <th>4</th>\n",
       "      <td>Axis Bank</td>\n",
       "      <td>5.6</td>\n",
       "    </tr>\n",
       "    <tr>\n",
       "      <th>5</th>\n",
       "      <td>Vedanta</td>\n",
       "      <td>11.3</td>\n",
       "    </tr>\n",
       "  </tbody>\n",
       "</table>\n",
       "</div>"
      ],
      "text/plain": [
       "        company  revenue\n",
       "0         Tesla     31.0\n",
       "1          UBER     11.0\n",
       "2        Amazon    386.0\n",
       "3  Jindal Steel      4.7\n",
       "4     Axis Bank      5.6\n",
       "5       Vedanta     11.3"
      ]
     },
     "execution_count": 1,
     "metadata": {},
     "output_type": "execute_result"
    }
   ],
   "source": [
    "# Import pandas library\n",
    "import pandas as pd\n",
    "import numpy as np\n",
    "import matplotlib.pyplot as plt\n",
    " \n",
    "# initialize list of lists\n",
    "data = [['Tesla', 31], ['UBER', 11], ['Amazon', 386], ['Jindal Steel', 4.7], ['Axis Bank', 5.6], ['Vedanta', 11.3]]\n",
    " \n",
    "# Create the pandas DataFrame\n",
    "df = pd.DataFrame(data, columns = ['company', 'revenue'])\n",
    " \n",
    "# print dataframe.\n",
    "df"
   ]
  },
  {
   "cell_type": "code",
   "execution_count": 2,
   "id": "a3136f4f",
   "metadata": {
    "execution": {
     "iopub.execute_input": "2021-10-27T15:26:41.942491Z",
     "iopub.status.busy": "2021-10-27T15:26:41.941840Z",
     "iopub.status.idle": "2021-10-27T15:26:42.240956Z",
     "shell.execute_reply": "2021-10-27T15:26:42.240411Z",
     "shell.execute_reply.started": "2021-10-27T15:04:53.567350Z"
    },
    "papermill": {
     "duration": 0.30736,
     "end_time": "2021-10-27T15:26:42.241100",
     "exception": false,
     "start_time": "2021-10-27T15:26:41.933740",
     "status": "completed"
    },
    "tags": []
   },
   "outputs": [
    {
     "data": {
      "text/plain": [
       "<AxesSubplot:xlabel='company'>"
      ]
     },
     "execution_count": 2,
     "metadata": {},
     "output_type": "execute_result"
    },
    {
     "data": {
      "image/png": "[encoded data removed]",
      "text/plain": [
       "<Figure size 432x288 with 1 Axes>"
      ]
     },
     "metadata": {
      "needs_background": "light"
     },
     "output_type": "display_data"
    }
   ],
   "source": [
    "df.plot(x='company', y='revenue', kind='bar')"
   ]
  },
  {
   "cell_type": "code",
   "execution_count": 3,
   "id": "9cbdda1d",
   "metadata": {
    "execution": {
     "iopub.execute_input": "2021-10-27T15:26:42.284897Z",
     "iopub.status.busy": "2021-10-27T15:26:42.284221Z",
     "iopub.status.idle": "2021-10-27T15:26:42.742137Z",
     "shell.execute_reply": "2021-10-27T15:26:42.741589Z",
     "shell.execute_reply.started": "2021-10-27T15:04:53.901981Z"
    },
    "papermill": {
     "duration": 0.494559,
     "end_time": "2021-10-27T15:26:42.742276",
     "exception": false,
     "start_time": "2021-10-27T15:26:42.247717",
     "status": "completed"
    },
    "tags": []
   },
   "outputs": [
    {
     "data": {
      "text/plain": [
       "<AxesSubplot:xlabel='company'>"
      ]
     },
     "execution_count": 3,
     "metadata": {},
     "output_type": "execute_result"
    },
    {
     "data": {
      "image/png": "[encoded data removed]",
      "text/plain": [
       "<Figure size 432x288 with 1 Axes>"
      ]
     },
     "metadata": {
      "needs_background": "light"
     },
     "output_type": "display_data"
    }
   ],
   "source": [
    "df.plot(x='company', y='revenue', kind='bar',logy=True)"
   ]
  },
  {
   "cell_type": "code",
   "execution_count": 4,
   "id": "eb4d3c21",
   "metadata": {
    "execution": {
     "iopub.execute_input": "2021-10-27T15:26:42.763848Z",
     "iopub.status.busy": "2021-10-27T15:26:42.763043Z",
     "iopub.status.idle": "2021-10-27T15:26:42.766113Z",
     "shell.execute_reply": "2021-10-27T15:26:42.765594Z",
     "shell.execute_reply.started": "2021-10-27T15:04:54.502641Z"
    },
    "papermill": {
     "duration": 0.016022,
     "end_time": "2021-10-27T15:26:42.766246",
     "exception": false,
     "start_time": "2021-10-27T15:26:42.750224",
     "status": "completed"
    },
    "tags": []
   },
   "outputs": [],
   "source": [
    "df['log_revenue'] = np.log(1 + df['revenue'])"
   ]
  },
  {
   "cell_type": "code",
   "execution_count": 5,
   "id": "9ee5dd63",
   "metadata": {
    "execution": {
     "iopub.execute_input": "2021-10-27T15:26:42.788007Z",
     "iopub.status.busy": "2021-10-27T15:26:42.787361Z",
     "iopub.status.idle": "2021-10-27T15:26:42.793068Z",
     "shell.execute_reply": "2021-10-27T15:26:42.793499Z",
     "shell.execute_reply.started": "2021-10-27T15:04:54.511437Z"
    },
    "papermill": {
     "duration": 0.020067,
     "end_time": "2021-10-27T15:26:42.793670",
     "exception": false,
     "start_time": "2021-10-27T15:26:42.773603",
     "status": "completed"
    },
    "tags": []
   },
   "outputs": [
    {
     "data": {
      "text/html": [
       "<div>\n",
       "<style scoped>\n",
       "    .dataframe tbody tr th:only-of-type {\n",
       "        vertical-align: middle;\n",
       "    }\n",
       "\n",
       "    .dataframe tbody tr th {\n",
       "        vertical-align: top;\n",
       "    }\n",
       "\n",
       "    .dataframe thead th {\n",
       "        text-align: right;\n",
       "    }\n",
       "</style>\n",
       "<table border=\"1\" class=\"dataframe\">\n",
       "  <thead>\n",
       "    <tr style=\"text-align: right;\">\n",
       "      <th></th>\n",
       "      <th>company</th>\n",
       "      <th>revenue</th>\n",
       "      <th>log_revenue</th>\n",
       "    </tr>\n",
       "  </thead>\n",
       "  <tbody>\n",
       "    <tr>\n",
       "      <th>0</th>\n",
       "      <td>Tesla</td>\n",
       "      <td>31.0</td>\n",
       "      <td>3.465736</td>\n",
       "    </tr>\n",
       "    <tr>\n",
       "      <th>1</th>\n",
       "      <td>UBER</td>\n",
       "      <td>11.0</td>\n",
       "      <td>2.484907</td>\n",
       "    </tr>\n",
       "    <tr>\n",
       "      <th>2</th>\n",
       "      <td>Amazon</td>\n",
       "      <td>386.0</td>\n",
       "      <td>5.958425</td>\n",
       "    </tr>\n",
       "    <tr>\n",
       "      <th>3</th>\n",
       "      <td>Jindal Steel</td>\n",
       "      <td>4.7</td>\n",
       "      <td>1.740466</td>\n",
       "    </tr>\n",
       "    <tr>\n",
       "      <th>4</th>\n",
       "      <td>Axis Bank</td>\n",
       "      <td>5.6</td>\n",
       "      <td>1.887070</td>\n",
       "    </tr>\n",
       "    <tr>\n",
       "      <th>5</th>\n",
       "      <td>Vedanta</td>\n",
       "      <td>11.3</td>\n",
       "      <td>2.509599</td>\n",
       "    </tr>\n",
       "  </tbody>\n",
       "</table>\n",
       "</div>"
      ],
      "text/plain": [
       "        company  revenue  log_revenue\n",
       "0         Tesla     31.0     3.465736\n",
       "1          UBER     11.0     2.484907\n",
       "2        Amazon    386.0     5.958425\n",
       "3  Jindal Steel      4.7     1.740466\n",
       "4     Axis Bank      5.6     1.887070\n",
       "5       Vedanta     11.3     2.509599"
      ]
     },
     "execution_count": 5,
     "metadata": {},
     "output_type": "execute_result"
    }
   ],
   "source": [
    "df"
   ]
  },
  {
   "cell_type": "code",
   "execution_count": null,
   "id": "aae3d964",
   "metadata": {
    "papermill": {
     "duration": 0.007301,
     "end_time": "2021-10-27T15:26:42.808731",
     "exception": false,
     "start_time": "2021-10-27T15:26:42.801430",
     "status": "completed"
    },
    "tags": []
   },
   "outputs": [],
   "source": []
  },
  {
   "cell_type": "code",
   "execution_count": null,
   "id": "900a5de9",
   "metadata": {
    "papermill": {
     "duration": 0.007506,
     "end_time": "2021-10-27T15:26:42.823797",
     "exception": false,
     "start_time": "2021-10-27T15:26:42.816291",
     "status": "completed"
    },
    "tags": []
   },
   "outputs": [],
   "source": []
  }
 ],
 "metadata": {
  "kernelspec": {
   "display_name": "Python 3",
   "language": "python",
   "name": "python3"
  },
  "language_info": {
   "codemirror_mode": {
    "name": "ipython",
    "version": 3
   },
   "file_extension": ".py",
   "mimetype": "text/x-python",
   "name": "python",
   "nbconvert_exporter": "python",
   "pygments_lexer": "ipython3",
   "version": "3.7.10"
  },
  "papermill": {
   "default_parameters": {},
   "duration": 9.860886,
   "end_time": "2021-10-27T15:26:43.441104",
   "environment_variables": {},
   "exception": null,
   "input_path": "__notebook__.ipynb",
   "output_path": "__notebook__.ipynb",
   "parameters": {},
   "start_time": "2021-10-27T15:26:33.580218",
   "version": "2.3.3"
  }
 },
 "nbformat": 4,
 "nbformat_minor": 5
}
