{
 "cells": [
  {
   "cell_type": "markdown",
   "id": "9c70e854",
   "metadata": {
    "_cell_guid": "b1076dfc-b9ad-4769-8c92-a6c4dae69d19",
    "_uuid": "8f2839f25d086af736a60e9eeb907d3b93b6e0e5",
    "execution": {
     "iopub.execute_input": "2021-08-20T11:02:04.384388Z",
     "iopub.status.busy": "2021-08-20T11:02:04.384004Z",
     "iopub.status.idle": "2021-08-20T11:02:04.398561Z",
     "shell.execute_reply": "2021-08-20T11:02:04.397275Z",
     "shell.execute_reply.started": "2021-08-20T11:02:04.384306Z"
    },
    "papermill": {
     "duration": 0.019646,
     "end_time": "2021-08-27T20:21:41.119487",
     "exception": false,
     "start_time": "2021-08-27T20:21:41.099841",
     "status": "completed"
    },
    "tags": []
   },
   "source": [
    "**Created by Sanskar Hasija**\n",
    "\n",
    "**30dml- Comparison on 36 different models**\n",
    "\n",
    "**20 August 2021**\n"
   ]
  },
  {
   "cell_type": "markdown",
   "id": "196cce44",
   "metadata": {
    "papermill": {
     "duration": 0.019007,
     "end_time": "2021-08-27T20:21:41.163707",
     "exception": false,
     "start_time": "2021-08-27T20:21:41.144700",
     "status": "completed"
    },
    "tags": []
   },
   "source": [
    "# Installing Lazy Predict"
   ]
  },
  {
   "cell_type": "code",
   "execution_count": 1,
   "id": "f284dca8",
   "metadata": {
    "execution": {
     "iopub.execute_input": "2021-08-27T20:21:41.201655Z",
     "iopub.status.busy": "2021-08-27T20:21:41.199253Z",
     "iopub.status.idle": "2021-08-27T20:23:03.898664Z",
     "shell.execute_reply": "2021-08-27T20:23:03.896814Z",
     "shell.execute_reply.started": "2021-08-27T19:29:51.310189Z"
    },
    "papermill": {
     "duration": 82.719593,
     "end_time": "2021-08-27T20:23:03.898884",
     "exception": false,
     "start_time": "2021-08-27T20:21:41.179291",
     "status": "completed"
    },
    "tags": []
   },
   "outputs": [],
   "source": [
    "from IPython.display import clear_output\n",
    "!pip3 install -U lazypredict\n",
    "\n",
    "clear_output()"
   ]
  },
  {
   "cell_type": "markdown",
   "id": "d043cc30",
   "metadata": {
    "papermill": {
     "duration": 0.017851,
     "end_time": "2021-08-27T20:23:03.934923",
     "exception": false,
     "start_time": "2021-08-27T20:23:03.917072",
     "status": "completed"
    },
    "tags": []
   },
   "source": [
    "# Import Libraries"
   ]
  },
  {
   "cell_type": "code",
   "execution_count": 2,
   "id": "3383406f",
   "metadata": {
    "execution": {
     "iopub.execute_input": "2021-08-27T20:23:03.981512Z",
     "iopub.status.busy": "2021-08-27T20:23:03.980683Z",
     "iopub.status.idle": "2021-08-27T20:23:23.033502Z",
     "shell.execute_reply": "2021-08-27T20:23:23.032230Z",
     "shell.execute_reply.started": "2021-08-27T19:30:04.299703Z"
    },
    "papermill": {
     "duration": 19.083436,
     "end_time": "2021-08-27T20:23:23.033784",
     "exception": false,
     "start_time": "2021-08-27T20:23:03.950348",
     "status": "completed"
    },
    "tags": []
   },
   "outputs": [],
   "source": [
    "!pip3 install -U pandas==1.2.3 #Upgrading pandas\n",
    "import numpy as np\n",
    "import pandas as pd \n",
    "import matplotlib.pyplot as plt \n",
    "import lazypredict\n",
    "from lazypredict import Supervised\n",
    "from lazypredict.Supervised import LazyRegressor\n",
    "\n",
    "\n",
    "plt.style.use('fivethirtyeight')\n",
    "plt.rcParams[\"figure.figsize\"] = (20,5)\n",
    "num_models = 36   #Number of Models\n",
    "clear_output()"
   ]
  },
  {
   "cell_type": "markdown",
   "id": "e3c8cf1d",
   "metadata": {
    "papermill": {
     "duration": 0.017964,
     "end_time": "2021-08-27T20:23:23.074886",
     "exception": false,
     "start_time": "2021-08-27T20:23:23.056922",
     "status": "completed"
    },
    "tags": []
   },
   "source": [
    "# Data Pre-Processing"
   ]
  },
  {
   "cell_type": "code",
   "execution_count": 3,
   "id": "1d5a9fb4",
   "metadata": {
    "execution": {
     "iopub.execute_input": "2021-08-27T20:23:23.130077Z",
     "iopub.status.busy": "2021-08-27T20:23:23.128929Z",
     "iopub.status.idle": "2021-08-27T20:23:31.599203Z",
     "shell.execute_reply": "2021-08-27T20:23:31.597860Z",
     "shell.execute_reply.started": "2021-08-27T19:30:16.739620Z"
    },
    "papermill": {
     "duration": 8.501422,
     "end_time": "2021-08-27T20:23:31.599392",
     "exception": false,
     "start_time": "2021-08-27T20:23:23.097970",
     "status": "completed"
    },
    "tags": []
   },
   "outputs": [],
   "source": [
    "from sklearn.preprocessing import OrdinalEncoder\n",
    "from sklearn.model_selection import train_test_split\n",
    "\n",
    "train = pd.read_csv(\"../input/30-days-of-ml/train.csv\")\n",
    "test = pd.read_csv(\"../input/30-days-of-ml/test.csv\")\n",
    "\n",
    "cat_features = [\"cat\" + str(i) for i in range(10)]\n",
    "num_features = [\"cont\" + str(i) for i in range(14)]\n",
    "\n",
    "for col in cat_features:\n",
    "    encoder = OrdinalEncoder()\n",
    "    train[col] = encoder.fit_transform(np.array(train[col]).reshape(-1, 1))\n",
    "    test[col] = encoder.transform(np.array(test[col]).reshape(-1, 1))\n",
    "    \n",
    "X = train.drop([\"id\", \"target\"], axis=1)\n",
    "X_test = test.drop([\"id\"], axis=1)\n",
    "y = train[\"target\"]\n",
    "\n",
    "\n",
    "#Spliting into training and validation set\n",
    "offset = int(X.shape[0] * 0.67)\n",
    "X_train, y_train = X[:offset], y[:offset]\n",
    "X_valid, y_valid = X[offset:], y[offset:]"
   ]
  },
  {
   "cell_type": "markdown",
   "id": "4a5421a4",
   "metadata": {
    "execution": {
     "iopub.execute_input": "2021-08-20T11:28:15.533407Z",
     "iopub.status.busy": "2021-08-20T11:28:15.532981Z",
     "iopub.status.idle": "2021-08-20T11:28:15.538905Z",
     "shell.execute_reply": "2021-08-20T11:28:15.537606Z",
     "shell.execute_reply.started": "2021-08-20T11:28:15.533319Z"
    },
    "papermill": {
     "duration": 0.016016,
     "end_time": "2021-08-27T20:23:31.633540",
     "exception": false,
     "start_time": "2021-08-27T20:23:31.617524",
     "status": "completed"
    },
    "tags": []
   },
   "source": [
    "# MODEL SELECTION "
   ]
  },
  {
   "cell_type": "code",
   "execution_count": 4,
   "id": "66de27c2",
   "metadata": {
    "execution": {
     "iopub.execute_input": "2021-08-27T20:23:31.680222Z",
     "iopub.status.busy": "2021-08-27T20:23:31.679403Z",
     "iopub.status.idle": "2021-08-27T20:23:31.687163Z",
     "shell.execute_reply": "2021-08-27T20:23:31.686533Z",
     "shell.execute_reply.started": "2021-08-27T19:30:21.767774Z"
    },
    "papermill": {
     "duration": 0.036762,
     "end_time": "2021-08-27T20:23:31.687329",
     "exception": false,
     "start_time": "2021-08-27T20:23:31.650567",
     "status": "completed"
    },
    "tags": []
   },
   "outputs": [],
   "source": [
    "reg_idx = [i for i in range(num_models)]\n",
    "noregs_idx = [10,15,23,24,29,32] # Removing 6 models from 42 models. Some of these models are time consuming whereas other require lot of ram.\n",
    "regs_name =[]\n",
    "regs = []\n",
    "for i in range(42):\n",
    "    regs_name.append(lazypredict.Supervised.REGRESSORS[i][0])\n",
    "    regs.append(lazypredict.Supervised.REGRESSORS[i][1])\n",
    "\n",
    "for i in noregs_idx:\n",
    "    del regs_name[i]\n",
    "    del regs[i]"
   ]
  },
  {
   "cell_type": "code",
   "execution_count": 5,
   "id": "9a86b451",
   "metadata": {
    "execution": {
     "iopub.execute_input": "2021-08-27T20:23:31.738268Z",
     "iopub.status.busy": "2021-08-27T20:23:31.737135Z",
     "iopub.status.idle": "2021-08-27T20:23:31.757673Z",
     "shell.execute_reply": "2021-08-27T20:23:31.758243Z",
     "shell.execute_reply.started": "2021-08-27T19:30:21.776822Z"
    },
    "papermill": {
     "duration": 0.047278,
     "end_time": "2021-08-27T20:23:31.758455",
     "exception": false,
     "start_time": "2021-08-27T20:23:31.711177",
     "status": "completed"
    },
    "tags": []
   },
   "outputs": [
    {
     "name": "stdout",
     "output_type": "stream",
     "text": [
      "ALL 36 AVAILABLE REGRESSION MODELS:\n",
      "1 AdaBoostRegressor\n",
      "2 BaggingRegressor\n",
      "3 BayesianRidge\n",
      "4 DecisionTreeRegressor\n",
      "5 DummyRegressor\n",
      "6 ElasticNet\n",
      "7 ElasticNetCV\n",
      "8 ExtraTreeRegressor\n",
      "9 ExtraTreesRegressor\n",
      "10 GammaRegressor\n",
      "11 GeneralizedLinearRegressor\n",
      "12 GradientBoostingRegressor\n",
      "13 HistGradientBoostingRegressor\n",
      "14 HuberRegressor\n",
      "15 KNeighborsRegressor\n",
      "16 Lars\n",
      "17 LarsCV\n",
      "18 Lasso\n",
      "19 LassoCV\n",
      "20 LassoLars\n",
      "21 LassoLarsCV\n",
      "22 LassoLarsIC\n",
      "23 LinearRegression\n",
      "24 MLPRegressor\n",
      "25 OrthogonalMatchingPursuit\n",
      "26 OrthogonalMatchingPursuitCV\n",
      "27 PassiveAggressiveRegressor\n",
      "28 PoissonRegressor\n",
      "29 RANSACRegressor\n",
      "30 Ridge\n",
      "31 RidgeCV\n",
      "32 SGDRegressor\n",
      "33 TransformedTargetRegressor\n",
      "34 TweedieRegressor\n",
      "35 XGBRegressor\n",
      "36 LGBMRegressor\n"
     ]
    }
   ],
   "source": [
    "print(\"ALL 36 AVAILABLE REGRESSION MODELS:\")\n",
    "for i in range(num_models):\n",
    "    print(i+1 , regs_name[i])"
   ]
  },
  {
   "cell_type": "markdown",
   "id": "d7dcfe5c",
   "metadata": {
    "papermill": {
     "duration": 0.017314,
     "end_time": "2021-08-27T20:23:31.797265",
     "exception": false,
     "start_time": "2021-08-27T20:23:31.779951",
     "status": "completed"
    },
    "tags": []
   },
   "source": [
    "# Training on 36 different models"
   ]
  },
  {
   "cell_type": "code",
   "execution_count": 6,
   "id": "a096f031",
   "metadata": {
    "execution": {
     "iopub.execute_input": "2021-08-27T20:23:31.869882Z",
     "iopub.status.busy": "2021-08-27T20:23:31.869126Z",
     "iopub.status.idle": "2021-08-27T21:15:11.852271Z",
     "shell.execute_reply": "2021-08-27T21:15:11.852930Z",
     "shell.execute_reply.started": "2021-08-27T19:30:21.805933Z"
    },
    "papermill": {
     "duration": 3100.036069,
     "end_time": "2021-08-27T21:15:11.853246",
     "exception": false,
     "start_time": "2021-08-27T20:23:31.817177",
     "status": "completed"
    },
    "tags": []
   },
   "outputs": [
    {
     "name": "stdout",
     "output_type": "stream",
     "text": [
      "3780.739624\n"
     ]
    }
   ],
   "source": [
    "import time\n",
    "results = pd.DataFrame()\n",
    "time1 = time.clock()\n",
    "for i in range(num_models):\n",
    "    reg = LazyRegressor(verbose=0, \n",
    "                    ignore_warnings=False,\n",
    "                    custom_metric=None,\n",
    "                    regressors = [regs[i]])\n",
    "    models, predictions = reg.fit(X_train, X_valid, y_train, y_valid)\n",
    "    models.index = [regs_name[i]]\n",
    "    results = results.append(models)\n",
    "clear_output()\n",
    "print(time.clock()-time1)"
   ]
  },
  {
   "cell_type": "markdown",
   "id": "6633c64f",
   "metadata": {
    "papermill": {
     "duration": 0.015425,
     "end_time": "2021-08-27T21:15:11.886270",
     "exception": false,
     "start_time": "2021-08-27T21:15:11.870845",
     "status": "completed"
    },
    "tags": []
   },
   "source": [
    "# RESULTS"
   ]
  },
  {
   "cell_type": "code",
   "execution_count": 7,
   "id": "a9e6c74f",
   "metadata": {
    "execution": {
     "iopub.execute_input": "2021-08-27T21:15:11.926071Z",
     "iopub.status.busy": "2021-08-27T21:15:11.925361Z",
     "iopub.status.idle": "2021-08-27T21:15:11.945109Z",
     "shell.execute_reply": "2021-08-27T21:15:11.946030Z",
     "shell.execute_reply.started": "2021-08-27T20:11:04.341731Z"
    },
    "papermill": {
     "duration": 0.04428,
     "end_time": "2021-08-27T21:15:11.946240",
     "exception": false,
     "start_time": "2021-08-27T21:15:11.901960",
     "status": "completed"
    },
    "tags": []
   },
   "outputs": [
    {
     "data": {
      "text/html": [
       "<div>\n",
       "<style scoped>\n",
       "    .dataframe tbody tr th:only-of-type {\n",
       "        vertical-align: middle;\n",
       "    }\n",
       "\n",
       "    .dataframe tbody tr th {\n",
       "        vertical-align: top;\n",
       "    }\n",
       "\n",
       "    .dataframe thead th {\n",
       "        text-align: right;\n",
       "    }\n",
       "</style>\n",
       "<table border=\"1\" class=\"dataframe\">\n",
       "  <thead>\n",
       "    <tr style=\"text-align: right;\">\n",
       "      <th></th>\n",
       "      <th>Adjusted R-Squared</th>\n",
       "      <th>R-Squared</th>\n",
       "      <th>RMSE</th>\n",
       "      <th>Time Taken</th>\n",
       "    </tr>\n",
       "  </thead>\n",
       "  <tbody>\n",
       "    <tr>\n",
       "      <th>LGBMRegressor</th>\n",
       "      <td>0.06</td>\n",
       "      <td>0.06</td>\n",
       "      <td>0.72</td>\n",
       "      <td>2.86</td>\n",
       "    </tr>\n",
       "    <tr>\n",
       "      <th>HistGradientBoostingRegressor</th>\n",
       "      <td>0.06</td>\n",
       "      <td>0.06</td>\n",
       "      <td>0.72</td>\n",
       "      <td>6.79</td>\n",
       "    </tr>\n",
       "    <tr>\n",
       "      <th>XGBRegressor</th>\n",
       "      <td>0.06</td>\n",
       "      <td>0.06</td>\n",
       "      <td>0.72</td>\n",
       "      <td>32.07</td>\n",
       "    </tr>\n",
       "    <tr>\n",
       "      <th>GradientBoostingRegressor</th>\n",
       "      <td>0.04</td>\n",
       "      <td>0.04</td>\n",
       "      <td>0.73</td>\n",
       "      <td>252.82</td>\n",
       "    </tr>\n",
       "    <tr>\n",
       "      <th>ExtraTreesRegressor</th>\n",
       "      <td>0.02</td>\n",
       "      <td>0.02</td>\n",
       "      <td>0.74</td>\n",
       "      <td>242.48</td>\n",
       "    </tr>\n",
       "    <tr>\n",
       "      <th>BayesianRidge</th>\n",
       "      <td>0.02</td>\n",
       "      <td>0.02</td>\n",
       "      <td>0.74</td>\n",
       "      <td>0.80</td>\n",
       "    </tr>\n",
       "    <tr>\n",
       "      <th>ElasticNetCV</th>\n",
       "      <td>0.02</td>\n",
       "      <td>0.02</td>\n",
       "      <td>0.74</td>\n",
       "      <td>7.20</td>\n",
       "    </tr>\n",
       "    <tr>\n",
       "      <th>LassoCV</th>\n",
       "      <td>0.02</td>\n",
       "      <td>0.02</td>\n",
       "      <td>0.74</td>\n",
       "      <td>2.73</td>\n",
       "    </tr>\n",
       "    <tr>\n",
       "      <th>LassoLarsIC</th>\n",
       "      <td>0.02</td>\n",
       "      <td>0.02</td>\n",
       "      <td>0.74</td>\n",
       "      <td>0.53</td>\n",
       "    </tr>\n",
       "    <tr>\n",
       "      <th>LassoLarsCV</th>\n",
       "      <td>0.02</td>\n",
       "      <td>0.02</td>\n",
       "      <td>0.74</td>\n",
       "      <td>2.25</td>\n",
       "    </tr>\n",
       "    <tr>\n",
       "      <th>Lars</th>\n",
       "      <td>0.02</td>\n",
       "      <td>0.02</td>\n",
       "      <td>0.74</td>\n",
       "      <td>0.51</td>\n",
       "    </tr>\n",
       "    <tr>\n",
       "      <th>LarsCV</th>\n",
       "      <td>0.02</td>\n",
       "      <td>0.02</td>\n",
       "      <td>0.74</td>\n",
       "      <td>2.39</td>\n",
       "    </tr>\n",
       "    <tr>\n",
       "      <th>RidgeCV</th>\n",
       "      <td>0.02</td>\n",
       "      <td>0.02</td>\n",
       "      <td>0.74</td>\n",
       "      <td>0.77</td>\n",
       "    </tr>\n",
       "    <tr>\n",
       "      <th>Ridge</th>\n",
       "      <td>0.02</td>\n",
       "      <td>0.02</td>\n",
       "      <td>0.74</td>\n",
       "      <td>0.39</td>\n",
       "    </tr>\n",
       "    <tr>\n",
       "      <th>TransformedTargetRegressor</th>\n",
       "      <td>0.02</td>\n",
       "      <td>0.02</td>\n",
       "      <td>0.74</td>\n",
       "      <td>0.50</td>\n",
       "    </tr>\n",
       "    <tr>\n",
       "      <th>LinearRegression</th>\n",
       "      <td>0.02</td>\n",
       "      <td>0.02</td>\n",
       "      <td>0.74</td>\n",
       "      <td>0.52</td>\n",
       "    </tr>\n",
       "    <tr>\n",
       "      <th>PoissonRegressor</th>\n",
       "      <td>0.02</td>\n",
       "      <td>0.02</td>\n",
       "      <td>0.74</td>\n",
       "      <td>0.73</td>\n",
       "    </tr>\n",
       "    <tr>\n",
       "      <th>HuberRegressor</th>\n",
       "      <td>0.02</td>\n",
       "      <td>0.02</td>\n",
       "      <td>0.74</td>\n",
       "      <td>2.30</td>\n",
       "    </tr>\n",
       "    <tr>\n",
       "      <th>SGDRegressor</th>\n",
       "      <td>0.02</td>\n",
       "      <td>0.02</td>\n",
       "      <td>0.74</td>\n",
       "      <td>0.85</td>\n",
       "    </tr>\n",
       "    <tr>\n",
       "      <th>GeneralizedLinearRegressor</th>\n",
       "      <td>0.01</td>\n",
       "      <td>0.01</td>\n",
       "      <td>0.74</td>\n",
       "      <td>0.51</td>\n",
       "    </tr>\n",
       "    <tr>\n",
       "      <th>TweedieRegressor</th>\n",
       "      <td>0.01</td>\n",
       "      <td>0.01</td>\n",
       "      <td>0.74</td>\n",
       "      <td>0.41</td>\n",
       "    </tr>\n",
       "    <tr>\n",
       "      <th>GammaRegressor</th>\n",
       "      <td>0.01</td>\n",
       "      <td>0.01</td>\n",
       "      <td>0.74</td>\n",
       "      <td>0.73</td>\n",
       "    </tr>\n",
       "    <tr>\n",
       "      <th>OrthogonalMatchingPursuitCV</th>\n",
       "      <td>0.01</td>\n",
       "      <td>0.01</td>\n",
       "      <td>0.74</td>\n",
       "      <td>2.06</td>\n",
       "    </tr>\n",
       "    <tr>\n",
       "      <th>OrthogonalMatchingPursuit</th>\n",
       "      <td>0.01</td>\n",
       "      <td>0.01</td>\n",
       "      <td>0.74</td>\n",
       "      <td>0.43</td>\n",
       "    </tr>\n",
       "    <tr>\n",
       "      <th>MLPRegressor</th>\n",
       "      <td>0.00</td>\n",
       "      <td>0.00</td>\n",
       "      <td>0.74</td>\n",
       "      <td>200.93</td>\n",
       "    </tr>\n",
       "    <tr>\n",
       "      <th>Lasso</th>\n",
       "      <td>-0.00</td>\n",
       "      <td>-0.00</td>\n",
       "      <td>0.75</td>\n",
       "      <td>0.47</td>\n",
       "    </tr>\n",
       "    <tr>\n",
       "      <th>ElasticNet</th>\n",
       "      <td>-0.00</td>\n",
       "      <td>-0.00</td>\n",
       "      <td>0.75</td>\n",
       "      <td>0.73</td>\n",
       "    </tr>\n",
       "    <tr>\n",
       "      <th>DummyRegressor</th>\n",
       "      <td>-0.00</td>\n",
       "      <td>-0.00</td>\n",
       "      <td>0.75</td>\n",
       "      <td>0.68</td>\n",
       "    </tr>\n",
       "    <tr>\n",
       "      <th>LassoLars</th>\n",
       "      <td>-0.00</td>\n",
       "      <td>-0.00</td>\n",
       "      <td>0.75</td>\n",
       "      <td>0.39</td>\n",
       "    </tr>\n",
       "    <tr>\n",
       "      <th>BaggingRegressor</th>\n",
       "      <td>-0.07</td>\n",
       "      <td>-0.07</td>\n",
       "      <td>0.77</td>\n",
       "      <td>67.05</td>\n",
       "    </tr>\n",
       "    <tr>\n",
       "      <th>AdaBoostRegressor</th>\n",
       "      <td>-0.11</td>\n",
       "      <td>-0.11</td>\n",
       "      <td>0.79</td>\n",
       "      <td>59.69</td>\n",
       "    </tr>\n",
       "    <tr>\n",
       "      <th>KNeighborsRegressor</th>\n",
       "      <td>-0.17</td>\n",
       "      <td>-0.17</td>\n",
       "      <td>0.81</td>\n",
       "      <td>2186.54</td>\n",
       "    </tr>\n",
       "    <tr>\n",
       "      <th>DecisionTreeRegressor</th>\n",
       "      <td>-1.01</td>\n",
       "      <td>-1.01</td>\n",
       "      <td>1.06</td>\n",
       "      <td>12.19</td>\n",
       "    </tr>\n",
       "    <tr>\n",
       "      <th>ExtraTreeRegressor</th>\n",
       "      <td>-1.04</td>\n",
       "      <td>-1.04</td>\n",
       "      <td>1.07</td>\n",
       "      <td>3.12</td>\n",
       "    </tr>\n",
       "    <tr>\n",
       "      <th>RANSACRegressor</th>\n",
       "      <td>-1.16</td>\n",
       "      <td>-1.16</td>\n",
       "      <td>1.10</td>\n",
       "      <td>1.89</td>\n",
       "    </tr>\n",
       "    <tr>\n",
       "      <th>PassiveAggressiveRegressor</th>\n",
       "      <td>-1.96</td>\n",
       "      <td>-1.96</td>\n",
       "      <td>1.28</td>\n",
       "      <td>0.94</td>\n",
       "    </tr>\n",
       "  </tbody>\n",
       "</table>\n",
       "</div>"
      ],
      "text/plain": [
       "                               Adjusted R-Squared  R-Squared  RMSE  Time Taken\n",
       "LGBMRegressor                                0.06       0.06  0.72        2.86\n",
       "HistGradientBoostingRegressor                0.06       0.06  0.72        6.79\n",
       "XGBRegressor                                 0.06       0.06  0.72       32.07\n",
       "GradientBoostingRegressor                    0.04       0.04  0.73      252.82\n",
       "ExtraTreesRegressor                          0.02       0.02  0.74      242.48\n",
       "BayesianRidge                                0.02       0.02  0.74        0.80\n",
       "ElasticNetCV                                 0.02       0.02  0.74        7.20\n",
       "LassoCV                                      0.02       0.02  0.74        2.73\n",
       "LassoLarsIC                                  0.02       0.02  0.74        0.53\n",
       "LassoLarsCV                                  0.02       0.02  0.74        2.25\n",
       "Lars                                         0.02       0.02  0.74        0.51\n",
       "LarsCV                                       0.02       0.02  0.74        2.39\n",
       "RidgeCV                                      0.02       0.02  0.74        0.77\n",
       "Ridge                                        0.02       0.02  0.74        0.39\n",
       "TransformedTargetRegressor                   0.02       0.02  0.74        0.50\n",
       "LinearRegression                             0.02       0.02  0.74        0.52\n",
       "PoissonRegressor                             0.02       0.02  0.74        0.73\n",
       "HuberRegressor                               0.02       0.02  0.74        2.30\n",
       "SGDRegressor                                 0.02       0.02  0.74        0.85\n",
       "GeneralizedLinearRegressor                   0.01       0.01  0.74        0.51\n",
       "TweedieRegressor                             0.01       0.01  0.74        0.41\n",
       "GammaRegressor                               0.01       0.01  0.74        0.73\n",
       "OrthogonalMatchingPursuitCV                  0.01       0.01  0.74        2.06\n",
       "OrthogonalMatchingPursuit                    0.01       0.01  0.74        0.43\n",
       "MLPRegressor                                 0.00       0.00  0.74      200.93\n",
       "Lasso                                       -0.00      -0.00  0.75        0.47\n",
       "ElasticNet                                  -0.00      -0.00  0.75        0.73\n",
       "DummyRegressor                              -0.00      -0.00  0.75        0.68\n",
       "LassoLars                                   -0.00      -0.00  0.75        0.39\n",
       "BaggingRegressor                            -0.07      -0.07  0.77       67.05\n",
       "AdaBoostRegressor                           -0.11      -0.11  0.79       59.69\n",
       "KNeighborsRegressor                         -0.17      -0.17  0.81     2186.54\n",
       "DecisionTreeRegressor                       -1.01      -1.01  1.06       12.19\n",
       "ExtraTreeRegressor                          -1.04      -1.04  1.07        3.12\n",
       "RANSACRegressor                             -1.16      -1.16  1.10        1.89\n",
       "PassiveAggressiveRegressor                  -1.96      -1.96  1.28        0.94"
      ]
     },
     "execution_count": 7,
     "metadata": {},
     "output_type": "execute_result"
    }
   ],
   "source": [
    "results = results.sort_values(by = \"RMSE\")\n",
    "results"
   ]
  },
  {
   "cell_type": "markdown",
   "id": "018c9c71",
   "metadata": {
    "execution": {
     "iopub.execute_input": "2021-08-20T11:47:01.926992Z",
     "iopub.status.busy": "2021-08-20T11:47:01.926617Z",
     "iopub.status.idle": "2021-08-20T11:47:01.939796Z",
     "shell.execute_reply": "2021-08-20T11:47:01.938933Z",
     "shell.execute_reply.started": "2021-08-20T11:47:01.926961Z"
    },
    "papermill": {
     "duration": 0.01846,
     "end_time": "2021-08-27T21:15:11.981671",
     "exception": false,
     "start_time": "2021-08-27T21:15:11.963211",
     "status": "completed"
    },
    "tags": []
   },
   "source": [
    "## TOP 5 Performing Models (BY RMSE)"
   ]
  },
  {
   "cell_type": "code",
   "execution_count": 8,
   "id": "157061e6",
   "metadata": {
    "execution": {
     "iopub.execute_input": "2021-08-27T21:15:12.028764Z",
     "iopub.status.busy": "2021-08-27T21:15:12.027711Z",
     "iopub.status.idle": "2021-08-27T21:15:12.032808Z",
     "shell.execute_reply": "2021-08-27T21:15:12.032272Z",
     "shell.execute_reply.started": "2021-08-27T20:11:04.368409Z"
    },
    "papermill": {
     "duration": 0.03381,
     "end_time": "2021-08-27T21:15:12.032958",
     "exception": false,
     "start_time": "2021-08-27T21:15:11.999148",
     "status": "completed"
    },
    "tags": []
   },
   "outputs": [
    {
     "data": {
      "text/html": [
       "<div>\n",
       "<style scoped>\n",
       "    .dataframe tbody tr th:only-of-type {\n",
       "        vertical-align: middle;\n",
       "    }\n",
       "\n",
       "    .dataframe tbody tr th {\n",
       "        vertical-align: top;\n",
       "    }\n",
       "\n",
       "    .dataframe thead th {\n",
       "        text-align: right;\n",
       "    }\n",
       "</style>\n",
       "<table border=\"1\" class=\"dataframe\">\n",
       "  <thead>\n",
       "    <tr style=\"text-align: right;\">\n",
       "      <th></th>\n",
       "      <th>Adjusted R-Squared</th>\n",
       "      <th>R-Squared</th>\n",
       "      <th>RMSE</th>\n",
       "      <th>Time Taken</th>\n",
       "    </tr>\n",
       "  </thead>\n",
       "  <tbody>\n",
       "    <tr>\n",
       "      <th>LGBMRegressor</th>\n",
       "      <td>0.06</td>\n",
       "      <td>0.06</td>\n",
       "      <td>0.72</td>\n",
       "      <td>2.86</td>\n",
       "    </tr>\n",
       "    <tr>\n",
       "      <th>HistGradientBoostingRegressor</th>\n",
       "      <td>0.06</td>\n",
       "      <td>0.06</td>\n",
       "      <td>0.72</td>\n",
       "      <td>6.79</td>\n",
       "    </tr>\n",
       "    <tr>\n",
       "      <th>XGBRegressor</th>\n",
       "      <td>0.06</td>\n",
       "      <td>0.06</td>\n",
       "      <td>0.72</td>\n",
       "      <td>32.07</td>\n",
       "    </tr>\n",
       "    <tr>\n",
       "      <th>GradientBoostingRegressor</th>\n",
       "      <td>0.04</td>\n",
       "      <td>0.04</td>\n",
       "      <td>0.73</td>\n",
       "      <td>252.82</td>\n",
       "    </tr>\n",
       "    <tr>\n",
       "      <th>ExtraTreesRegressor</th>\n",
       "      <td>0.02</td>\n",
       "      <td>0.02</td>\n",
       "      <td>0.74</td>\n",
       "      <td>242.48</td>\n",
       "    </tr>\n",
       "  </tbody>\n",
       "</table>\n",
       "</div>"
      ],
      "text/plain": [
       "                               Adjusted R-Squared  R-Squared  RMSE  Time Taken\n",
       "LGBMRegressor                                0.06       0.06  0.72        2.86\n",
       "HistGradientBoostingRegressor                0.06       0.06  0.72        6.79\n",
       "XGBRegressor                                 0.06       0.06  0.72       32.07\n",
       "GradientBoostingRegressor                    0.04       0.04  0.73      252.82\n",
       "ExtraTreesRegressor                          0.02       0.02  0.74      242.48"
      ]
     },
     "execution_count": 8,
     "metadata": {},
     "output_type": "execute_result"
    }
   ],
   "source": [
    "results.head()"
   ]
  },
  {
   "cell_type": "markdown",
   "id": "ebfefb02",
   "metadata": {
    "papermill": {
     "duration": 0.019364,
     "end_time": "2021-08-27T21:15:12.070922",
     "exception": false,
     "start_time": "2021-08-27T21:15:12.051558",
     "status": "completed"
    },
    "tags": []
   },
   "source": [
    "# Comparison Plots"
   ]
  },
  {
   "cell_type": "code",
   "execution_count": 9,
   "id": "f6af2b9a",
   "metadata": {
    "_kg_hide-input": false,
    "execution": {
     "iopub.execute_input": "2021-08-27T21:15:12.108241Z",
     "iopub.status.busy": "2021-08-27T21:15:12.106935Z",
     "iopub.status.idle": "2021-08-27T21:15:12.390322Z",
     "shell.execute_reply": "2021-08-27T21:15:12.390828Z",
     "shell.execute_reply.started": "2021-08-27T20:11:04.395439Z"
    },
    "papermill": {
     "duration": 0.303514,
     "end_time": "2021-08-27T21:15:12.391040",
     "exception": false,
     "start_time": "2021-08-27T21:15:12.087526",
     "status": "completed"
    },
    "tags": []
   },
   "outputs": [
    {
     "data": {
      "image/png": "[encoded data removed]",
      "text/plain": [
       "<Figure size 1440x360 with 1 Axes>"
      ]
     },
     "metadata": {},
     "output_type": "display_data"
    }
   ],
   "source": [
    "plt.plot(reg_idx , results[\"RMSE\"],label = \"RMSE\" ,marker='o')\n",
    "plt.xlabel(\"Model ID\")\n",
    "plt.ylabel(\"RMSE\")\n",
    "plt.title(\"RMSE Comparison of 36 Different Models\")\n",
    "plt.legend()\n",
    "plt.show()"
   ]
  },
  {
   "cell_type": "code",
   "execution_count": 10,
   "id": "6b1d0155",
   "metadata": {
    "execution": {
     "iopub.execute_input": "2021-08-27T21:15:12.432901Z",
     "iopub.status.busy": "2021-08-27T21:15:12.432204Z",
     "iopub.status.idle": "2021-08-27T21:15:12.645332Z",
     "shell.execute_reply": "2021-08-27T21:15:12.645820Z",
     "shell.execute_reply.started": "2021-08-27T20:11:04.667289Z"
    },
    "papermill": {
     "duration": 0.234733,
     "end_time": "2021-08-27T21:15:12.646044",
     "exception": false,
     "start_time": "2021-08-27T21:15:12.411311",
     "status": "completed"
    },
    "tags": []
   },
   "outputs": [
    {
     "data": {
      "image/png": "[encoded data removed]",
      "text/plain": [
       "<Figure size 1440x360 with 1 Axes>"
      ]
     },
     "metadata": {},
     "output_type": "display_data"
    }
   ],
   "source": [
    "plt.plot(reg_idx , results[\"Time Taken\"],label = \"Time Taken\" ,marker='*' , color = 'r')\n",
    "plt.xlabel(\"Model ID\")\n",
    "plt.ylabel(\"Time Taken\")\n",
    "plt.title(\"TIME TAKEN of 36 Different Models\")\n",
    "plt.legend()\n",
    "plt.show()"
   ]
  },
  {
   "cell_type": "markdown",
   "id": "871142b4",
   "metadata": {
    "execution": {
     "iopub.execute_input": "2021-08-20T12:04:36.605775Z",
     "iopub.status.busy": "2021-08-20T12:04:36.605323Z",
     "iopub.status.idle": "2021-08-20T12:04:36.61043Z",
     "shell.execute_reply": "2021-08-20T12:04:36.609124Z",
     "shell.execute_reply.started": "2021-08-20T12:04:36.60574Z"
    },
    "papermill": {
     "duration": 0.0198,
     "end_time": "2021-08-27T21:15:12.686602",
     "exception": false,
     "start_time": "2021-08-27T21:15:12.666802",
     "status": "completed"
    },
    "tags": []
   },
   "source": [
    "# <center>If you find this notebook useful, support with an upvote!</center>"
   ]
  }
 ],
 "metadata": {
  "kernelspec": {
   "display_name": "Python 3",
   "language": "python",
   "name": "python3"
  },
  "language_info": {
   "codemirror_mode": {
    "name": "ipython",
    "version": 3
   },
   "file_extension": ".py",
   "mimetype": "text/x-python",
   "name": "python",
   "nbconvert_exporter": "python",
   "pygments_lexer": "ipython3",
   "version": "3.7.10"
  },
  "papermill": {
   "default_parameters": {},
   "duration": 3226.706458,
   "end_time": "2021-08-27T21:15:14.476685",
   "environment_variables": {},
   "exception": null,
   "input_path": "__notebook__.ipynb",
   "output_path": "__notebook__.ipynb",
   "parameters": {},
   "start_time": "2021-08-27T20:21:27.770227",
   "version": "2.3.3"
  }
 },
 "nbformat": 4,
 "nbformat_minor": 5
}
