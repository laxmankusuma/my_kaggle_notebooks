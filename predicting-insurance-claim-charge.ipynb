{
 "cells": [
  {
   "cell_type": "code",
   "execution_count": 1,
   "id": "ea81b93b",
   "metadata": {
    "_cell_guid": "b1076dfc-b9ad-4769-8c92-a6c4dae69d19",
    "_uuid": "8f2839f25d086af736a60e9eeb907d3b93b6e0e5",
    "execution": {
     "iopub.execute_input": "2021-08-23T06:23:29.511937Z",
     "iopub.status.busy": "2021-08-23T06:23:29.511233Z",
     "iopub.status.idle": "2021-08-23T06:23:29.523722Z",
     "shell.execute_reply": "2021-08-23T06:23:29.522917Z",
     "shell.execute_reply.started": "2021-08-23T06:22:43.823368Z"
    },
    "papermill": {
     "duration": 0.046442,
     "end_time": "2021-08-23T06:23:29.523895",
     "exception": false,
     "start_time": "2021-08-23T06:23:29.477453",
     "status": "completed"
    },
    "tags": []
   },
   "outputs": [
    {
     "name": "stdout",
     "output_type": "stream",
     "text": [
      "/kaggle/input/sample-insurance-claim-prediction-dataset/insurance2.csv\n",
      "/kaggle/input/sample-insurance-claim-prediction-dataset/insurance3r2.csv\n"
     ]
    }
   ],
   "source": [
    "# This Python 3 environment comes with many helpful analytics libraries installed\n",
    "# It is defined by the kaggle/python Docker image: https://github.com/kaggle/docker-python\n",
    "# For example, here's several helpful packages to load\n",
    "\n",
    "import numpy as np # linear algebra\n",
    "import pandas as pd # data processing, CSV file I/O (e.g. pd.read_csv)\n",
    "\n",
    "# Input data files are available in the read-only \"../input/\" directory\n",
    "# For example, running this (by clicking run or pressing Shift+Enter) will list all files under the input directory\n",
    "\n",
    "import os\n",
    "for dirname, _, filenames in os.walk('/kaggle/input'):\n",
    "    for filename in filenames:\n",
    "        print(os.path.join(dirname, filename))\n",
    "\n",
    "# You can write up to 20GB to the current directory (/kaggle/working/) that gets preserved as output when you create a version using \"Save & Run All\" \n",
    "# You can also write temporary files to /kaggle/temp/, but they won't be saved outside of the current session"
   ]
  },
  {
   "cell_type": "markdown",
   "id": "4645c886",
   "metadata": {
    "papermill": {
     "duration": 0.018682,
     "end_time": "2021-08-23T06:23:29.562742",
     "exception": false,
     "start_time": "2021-08-23T06:23:29.544060",
     "status": "completed"
    },
    "tags": []
   },
   "source": [
    "https://becominghuman.ai/machine-learning-model-for-predicting-insurance-claim-charge-945bf27a681c"
   ]
  },
  {
   "cell_type": "code",
   "execution_count": 2,
   "id": "137c466d",
   "metadata": {
    "execution": {
     "iopub.execute_input": "2021-08-23T06:23:29.605549Z",
     "iopub.status.busy": "2021-08-23T06:23:29.604847Z",
     "iopub.status.idle": "2021-08-23T06:23:30.469887Z",
     "shell.execute_reply": "2021-08-23T06:23:30.469283Z",
     "shell.execute_reply.started": "2021-08-23T06:22:43.847960Z"
    },
    "papermill": {
     "duration": 0.888229,
     "end_time": "2021-08-23T06:23:30.470034",
     "exception": false,
     "start_time": "2021-08-23T06:23:29.581805",
     "status": "completed"
    },
    "tags": []
   },
   "outputs": [],
   "source": [
    "import numpy as np\n",
    "import pandas as pd\n",
    "import matplotlib.pyplot as plt\n",
    "import seaborn as sns"
   ]
  },
  {
   "cell_type": "code",
   "execution_count": 3,
   "id": "a7add487",
   "metadata": {
    "execution": {
     "iopub.execute_input": "2021-08-23T06:23:30.513691Z",
     "iopub.status.busy": "2021-08-23T06:23:30.512982Z",
     "iopub.status.idle": "2021-08-23T06:23:30.529343Z",
     "shell.execute_reply": "2021-08-23T06:23:30.528733Z",
     "shell.execute_reply.started": "2021-08-23T06:22:44.248573Z"
    },
    "papermill": {
     "duration": 0.040356,
     "end_time": "2021-08-23T06:23:30.529499",
     "exception": false,
     "start_time": "2021-08-23T06:23:30.489143",
     "status": "completed"
    },
    "tags": []
   },
   "outputs": [],
   "source": [
    "dataset = pd.read_csv('../input/sample-insurance-claim-prediction-dataset/insurance2.csv')"
   ]
  },
  {
   "cell_type": "code",
   "execution_count": 4,
   "id": "81313c17",
   "metadata": {
    "execution": {
     "iopub.execute_input": "2021-08-23T06:23:30.580463Z",
     "iopub.status.busy": "2021-08-23T06:23:30.579780Z",
     "iopub.status.idle": "2021-08-23T06:23:30.582324Z",
     "shell.execute_reply": "2021-08-23T06:23:30.581746Z",
     "shell.execute_reply.started": "2021-08-23T06:22:44.263738Z"
    },
    "papermill": {
     "duration": 0.033958,
     "end_time": "2021-08-23T06:23:30.582468",
     "exception": false,
     "start_time": "2021-08-23T06:23:30.548510",
     "status": "completed"
    },
    "tags": []
   },
   "outputs": [],
   "source": [
    "dataset.drop('insuranceclaim', axis=1, inplace=True)\n"
   ]
  },
  {
   "cell_type": "code",
   "execution_count": 5,
   "id": "ca3d4e43",
   "metadata": {
    "execution": {
     "iopub.execute_input": "2021-08-23T06:23:30.623242Z",
     "iopub.status.busy": "2021-08-23T06:23:30.622618Z",
     "iopub.status.idle": "2021-08-23T06:23:30.641838Z",
     "shell.execute_reply": "2021-08-23T06:23:30.642350Z",
     "shell.execute_reply.started": "2021-08-23T06:22:44.273108Z"
    },
    "papermill": {
     "duration": 0.041068,
     "end_time": "2021-08-23T06:23:30.642521",
     "exception": false,
     "start_time": "2021-08-23T06:23:30.601453",
     "status": "completed"
    },
    "tags": []
   },
   "outputs": [
    {
     "data": {
      "text/html": [
       "<div>\n",
       "<style scoped>\n",
       "    .dataframe tbody tr th:only-of-type {\n",
       "        vertical-align: middle;\n",
       "    }\n",
       "\n",
       "    .dataframe tbody tr th {\n",
       "        vertical-align: top;\n",
       "    }\n",
       "\n",
       "    .dataframe thead th {\n",
       "        text-align: right;\n",
       "    }\n",
       "</style>\n",
       "<table border=\"1\" class=\"dataframe\">\n",
       "  <thead>\n",
       "    <tr style=\"text-align: right;\">\n",
       "      <th></th>\n",
       "      <th>age</th>\n",
       "      <th>sex</th>\n",
       "      <th>bmi</th>\n",
       "      <th>children</th>\n",
       "      <th>smoker</th>\n",
       "      <th>region</th>\n",
       "      <th>charges</th>\n",
       "    </tr>\n",
       "  </thead>\n",
       "  <tbody>\n",
       "    <tr>\n",
       "      <th>0</th>\n",
       "      <td>19</td>\n",
       "      <td>0</td>\n",
       "      <td>27.900</td>\n",
       "      <td>0</td>\n",
       "      <td>1</td>\n",
       "      <td>3</td>\n",
       "      <td>16884.92400</td>\n",
       "    </tr>\n",
       "    <tr>\n",
       "      <th>1</th>\n",
       "      <td>18</td>\n",
       "      <td>1</td>\n",
       "      <td>33.770</td>\n",
       "      <td>1</td>\n",
       "      <td>0</td>\n",
       "      <td>2</td>\n",
       "      <td>1725.55230</td>\n",
       "    </tr>\n",
       "    <tr>\n",
       "      <th>2</th>\n",
       "      <td>28</td>\n",
       "      <td>1</td>\n",
       "      <td>33.000</td>\n",
       "      <td>3</td>\n",
       "      <td>0</td>\n",
       "      <td>2</td>\n",
       "      <td>4449.46200</td>\n",
       "    </tr>\n",
       "    <tr>\n",
       "      <th>3</th>\n",
       "      <td>33</td>\n",
       "      <td>1</td>\n",
       "      <td>22.705</td>\n",
       "      <td>0</td>\n",
       "      <td>0</td>\n",
       "      <td>1</td>\n",
       "      <td>21984.47061</td>\n",
       "    </tr>\n",
       "    <tr>\n",
       "      <th>4</th>\n",
       "      <td>32</td>\n",
       "      <td>1</td>\n",
       "      <td>28.880</td>\n",
       "      <td>0</td>\n",
       "      <td>0</td>\n",
       "      <td>1</td>\n",
       "      <td>3866.85520</td>\n",
       "    </tr>\n",
       "  </tbody>\n",
       "</table>\n",
       "</div>"
      ],
      "text/plain": [
       "   age  sex     bmi  children  smoker  region      charges\n",
       "0   19    0  27.900         0       1       3  16884.92400\n",
       "1   18    1  33.770         1       0       2   1725.55230\n",
       "2   28    1  33.000         3       0       2   4449.46200\n",
       "3   33    1  22.705         0       0       1  21984.47061\n",
       "4   32    1  28.880         0       0       1   3866.85520"
      ]
     },
     "execution_count": 5,
     "metadata": {},
     "output_type": "execute_result"
    }
   ],
   "source": [
    "dataset.head()"
   ]
  },
  {
   "cell_type": "code",
   "execution_count": 6,
   "id": "848c6b14",
   "metadata": {
    "execution": {
     "iopub.execute_input": "2021-08-23T06:23:30.695952Z",
     "iopub.status.busy": "2021-08-23T06:23:30.695330Z",
     "iopub.status.idle": "2021-08-23T06:23:30.698595Z",
     "shell.execute_reply": "2021-08-23T06:23:30.699208Z",
     "shell.execute_reply.started": "2021-08-23T06:22:44.308308Z"
    },
    "papermill": {
     "duration": 0.035219,
     "end_time": "2021-08-23T06:23:30.699409",
     "exception": false,
     "start_time": "2021-08-23T06:23:30.664190",
     "status": "completed"
    },
    "tags": []
   },
   "outputs": [
    {
     "data": {
      "text/plain": [
       "(1338, 7)"
      ]
     },
     "execution_count": 6,
     "metadata": {},
     "output_type": "execute_result"
    }
   ],
   "source": [
    "dataset.shape"
   ]
  },
  {
   "cell_type": "code",
   "execution_count": 7,
   "id": "bdeef907",
   "metadata": {
    "execution": {
     "iopub.execute_input": "2021-08-23T06:23:30.760514Z",
     "iopub.status.busy": "2021-08-23T06:23:30.759839Z",
     "iopub.status.idle": "2021-08-23T06:23:31.029788Z",
     "shell.execute_reply": "2021-08-23T06:23:31.030295Z",
     "shell.execute_reply.started": "2021-08-23T06:22:44.316592Z"
    },
    "papermill": {
     "duration": 0.299821,
     "end_time": "2021-08-23T06:23:31.030490",
     "exception": false,
     "start_time": "2021-08-23T06:23:30.730669",
     "status": "completed"
    },
    "tags": []
   },
   "outputs": [
    {
     "data": {
      "text/plain": [
       "Text(0.5, 1.0, 'Age vs Charges')"
      ]
     },
     "execution_count": 7,
     "metadata": {},
     "output_type": "execute_result"
    },
    {
     "data": {
      "image/png": "[encoded data removed]",
      "text/plain": [
       "<Figure size 864x576 with 1 Axes>"
      ]
     },
     "metadata": {
      "needs_background": "light"
     },
     "output_type": "display_data"
    }
   ],
   "source": [
    "plt.figure(figsize = (12, 8))\n",
    "sns.barplot(x = 'sex', y = 'charges', data = dataset)\n",
    "plt.title(\"Age vs Charges\")"
   ]
  },
  {
   "cell_type": "code",
   "execution_count": 8,
   "id": "1085c2aa",
   "metadata": {
    "execution": {
     "iopub.execute_input": "2021-08-23T06:23:31.082857Z",
     "iopub.status.busy": "2021-08-23T06:23:31.082179Z",
     "iopub.status.idle": "2021-08-23T06:23:33.183556Z",
     "shell.execute_reply": "2021-08-23T06:23:33.184006Z",
     "shell.execute_reply.started": "2021-08-23T06:22:44.539937Z"
    },
    "papermill": {
     "duration": 2.13022,
     "end_time": "2021-08-23T06:23:33.184203",
     "exception": false,
     "start_time": "2021-08-23T06:23:31.053983",
     "status": "completed"
    },
    "tags": []
   },
   "outputs": [
    {
     "data": {
      "text/plain": [
       "Text(0.5, 1.0, 'Age vs Charges')"
      ]
     },
     "execution_count": 8,
     "metadata": {},
     "output_type": "execute_result"
    },
    {
     "data": {
      "image/png": "[encoded data removed]",
      "text/plain": [
       "<Figure size 864x576 with 1 Axes>"
      ]
     },
     "metadata": {
      "needs_background": "light"
     },
     "output_type": "display_data"
    }
   ],
   "source": [
    "plt.figure(figsize = (12, 8))\n",
    "sns.barplot(x = 'age', y = 'charges', data = dataset)\n",
    "plt.title(\"Age vs Charges\")"
   ]
  },
  {
   "cell_type": "code",
   "execution_count": 9,
   "id": "ab9bbd52",
   "metadata": {
    "execution": {
     "iopub.execute_input": "2021-08-23T06:23:33.231954Z",
     "iopub.status.busy": "2021-08-23T06:23:33.230972Z",
     "iopub.status.idle": "2021-08-23T06:23:52.305375Z",
     "shell.execute_reply": "2021-08-23T06:23:52.304839Z",
     "shell.execute_reply.started": "2021-08-23T06:22:46.170679Z"
    },
    "papermill": {
     "duration": 19.099167,
     "end_time": "2021-08-23T06:23:52.305521",
     "exception": false,
     "start_time": "2021-08-23T06:23:33.206354",
     "status": "completed"
    },
    "tags": []
   },
   "outputs": [
    {
     "data": {
      "text/plain": [
       "Text(0.5, 1.0, 'Age vs Charges')"
      ]
     },
     "execution_count": 9,
     "metadata": {},
     "output_type": "execute_result"
    },
    {
     "data": {
      "image/png": "[encoded data removed]",
      "text/plain": [
       "<Figure size 864x576 with 1 Axes>"
      ]
     },
     "metadata": {
      "needs_background": "light"
     },
     "output_type": "display_data"
    }
   ],
   "source": [
    "plt.figure(figsize = (12, 8))\n",
    "sns.barplot(x = 'bmi', y = 'charges', data = dataset)\n",
    "plt.title(\"Age vs Charges\")"
   ]
  },
  {
   "cell_type": "code",
   "execution_count": 10,
   "id": "697b62c2",
   "metadata": {
    "execution": {
     "iopub.execute_input": "2021-08-23T06:23:52.360308Z",
     "iopub.status.busy": "2021-08-23T06:23:52.359619Z",
     "iopub.status.idle": "2021-08-23T06:23:52.764196Z",
     "shell.execute_reply": "2021-08-23T06:23:52.763147Z",
     "shell.execute_reply.started": "2021-08-23T06:23:01.383966Z"
    },
    "papermill": {
     "duration": 0.434894,
     "end_time": "2021-08-23T06:23:52.764421",
     "exception": false,
     "start_time": "2021-08-23T06:23:52.329527",
     "status": "completed"
    },
    "tags": []
   },
   "outputs": [
    {
     "data": {
      "text/plain": [
       "Text(0.5, 1.0, 'Age vs Charges')"
      ]
     },
     "execution_count": 10,
     "metadata": {},
     "output_type": "execute_result"
    },
    {
     "data": {
      "image/png": "[encoded data removed]",
      "text/plain": [
       "<Figure size 864x576 with 1 Axes>"
      ]
     },
     "metadata": {
      "needs_background": "light"
     },
     "output_type": "display_data"
    }
   ],
   "source": [
    "plt.figure(figsize = (12, 8))\n",
    "sns.barplot(x = 'children', y = 'charges', data = dataset)\n",
    "plt.title(\"Age vs Charges\")"
   ]
  },
  {
   "cell_type": "code",
   "execution_count": 11,
   "id": "2345f65d",
   "metadata": {
    "execution": {
     "iopub.execute_input": "2021-08-23T06:23:52.823955Z",
     "iopub.status.busy": "2021-08-23T06:23:52.823231Z",
     "iopub.status.idle": "2021-08-23T06:23:53.050961Z",
     "shell.execute_reply": "2021-08-23T06:23:53.051699Z",
     "shell.execute_reply.started": "2021-08-23T06:23:01.710176Z"
    },
    "papermill": {
     "duration": 0.260623,
     "end_time": "2021-08-23T06:23:53.051892",
     "exception": false,
     "start_time": "2021-08-23T06:23:52.791269",
     "status": "completed"
    },
    "tags": []
   },
   "outputs": [
    {
     "data": {
      "text/plain": [
       "Text(0.5, 1.0, 'Age vs Charges')"
      ]
     },
     "execution_count": 11,
     "metadata": {},
     "output_type": "execute_result"
    },
    {
     "data": {
      "image/png": "[encoded data removed]",
      "text/plain": [
       "<Figure size 864x576 with 1 Axes>"
      ]
     },
     "metadata": {
      "needs_background": "light"
     },
     "output_type": "display_data"
    }
   ],
   "source": [
    "plt.figure(figsize = (12, 8))\n",
    "sns.barplot(x = 'smoker', y = 'charges', data = dataset)\n",
    "plt.title(\"Age vs Charges\")"
   ]
  },
  {
   "cell_type": "code",
   "execution_count": 12,
   "id": "d7d26279",
   "metadata": {
    "execution": {
     "iopub.execute_input": "2021-08-23T06:23:53.114332Z",
     "iopub.status.busy": "2021-08-23T06:23:53.113597Z",
     "iopub.status.idle": "2021-08-23T06:23:53.423196Z",
     "shell.execute_reply": "2021-08-23T06:23:53.423841Z",
     "shell.execute_reply.started": "2021-08-23T06:23:01.914287Z"
    },
    "papermill": {
     "duration": 0.343682,
     "end_time": "2021-08-23T06:23:53.424029",
     "exception": false,
     "start_time": "2021-08-23T06:23:53.080347",
     "status": "completed"
    },
    "tags": []
   },
   "outputs": [
    {
     "data": {
      "text/plain": [
       "Text(0.5, 1.0, 'Age vs Charges')"
      ]
     },
     "execution_count": 12,
     "metadata": {},
     "output_type": "execute_result"
    },
    {
     "data": {
      "image/png": "[encoded data removed]",
      "text/plain": [
       "<Figure size 864x576 with 1 Axes>"
      ]
     },
     "metadata": {
      "needs_background": "light"
     },
     "output_type": "display_data"
    }
   ],
   "source": [
    "plt.figure(figsize = (12, 8))\n",
    "sns.barplot(x = 'region', y = 'charges', data = dataset)\n",
    "plt.title(\"Age vs Charges\")"
   ]
  },
  {
   "cell_type": "code",
   "execution_count": 13,
   "id": "3a920982",
   "metadata": {
    "execution": {
     "iopub.execute_input": "2021-08-23T06:23:53.481364Z",
     "iopub.status.busy": "2021-08-23T06:23:53.480723Z",
     "iopub.status.idle": "2021-08-23T06:23:53.485463Z",
     "shell.execute_reply": "2021-08-23T06:23:53.485982Z",
     "shell.execute_reply.started": "2021-08-23T06:23:02.183173Z"
    },
    "papermill": {
     "duration": 0.035138,
     "end_time": "2021-08-23T06:23:53.486198",
     "exception": false,
     "start_time": "2021-08-23T06:23:53.451060",
     "status": "completed"
    },
    "tags": []
   },
   "outputs": [],
   "source": [
    "#Dropping least important feature of the dataset\n",
    "dataset = dataset.drop('region', axis = 1)"
   ]
  },
  {
   "cell_type": "code",
   "execution_count": 14,
   "id": "23822387",
   "metadata": {
    "execution": {
     "iopub.execute_input": "2021-08-23T06:23:53.546735Z",
     "iopub.status.busy": "2021-08-23T06:23:53.545884Z",
     "iopub.status.idle": "2021-08-23T06:23:53.665267Z",
     "shell.execute_reply": "2021-08-23T06:23:53.665754Z",
     "shell.execute_reply.started": "2021-08-23T06:23:02.190724Z"
    },
    "papermill": {
     "duration": 0.152506,
     "end_time": "2021-08-23T06:23:53.665934",
     "exception": false,
     "start_time": "2021-08-23T06:23:53.513428",
     "status": "completed"
    },
    "tags": []
   },
   "outputs": [],
   "source": [
    "from sklearn.preprocessing import LabelEncoder\n",
    "le = LabelEncoder()\n",
    "dataset['sex'] = le.fit_transform(dataset['sex'])\n",
    "dataset['smoker'] = le.fit_transform(dataset['smoker'])"
   ]
  },
  {
   "cell_type": "code",
   "execution_count": 15,
   "id": "39bcf777",
   "metadata": {
    "execution": {
     "iopub.execute_input": "2021-08-23T06:23:53.724529Z",
     "iopub.status.busy": "2021-08-23T06:23:53.723540Z",
     "iopub.status.idle": "2021-08-23T06:23:53.736340Z",
     "shell.execute_reply": "2021-08-23T06:23:53.736889Z",
     "shell.execute_reply.started": "2021-08-23T06:23:02.236558Z"
    },
    "papermill": {
     "duration": 0.043228,
     "end_time": "2021-08-23T06:23:53.737055",
     "exception": false,
     "start_time": "2021-08-23T06:23:53.693827",
     "status": "completed"
    },
    "tags": []
   },
   "outputs": [
    {
     "data": {
      "text/html": [
       "<div>\n",
       "<style scoped>\n",
       "    .dataframe tbody tr th:only-of-type {\n",
       "        vertical-align: middle;\n",
       "    }\n",
       "\n",
       "    .dataframe tbody tr th {\n",
       "        vertical-align: top;\n",
       "    }\n",
       "\n",
       "    .dataframe thead th {\n",
       "        text-align: right;\n",
       "    }\n",
       "</style>\n",
       "<table border=\"1\" class=\"dataframe\">\n",
       "  <thead>\n",
       "    <tr style=\"text-align: right;\">\n",
       "      <th></th>\n",
       "      <th>age</th>\n",
       "      <th>sex</th>\n",
       "      <th>bmi</th>\n",
       "      <th>children</th>\n",
       "      <th>smoker</th>\n",
       "      <th>charges</th>\n",
       "    </tr>\n",
       "  </thead>\n",
       "  <tbody>\n",
       "    <tr>\n",
       "      <th>0</th>\n",
       "      <td>19</td>\n",
       "      <td>0</td>\n",
       "      <td>27.900</td>\n",
       "      <td>0</td>\n",
       "      <td>1</td>\n",
       "      <td>16884.92400</td>\n",
       "    </tr>\n",
       "    <tr>\n",
       "      <th>1</th>\n",
       "      <td>18</td>\n",
       "      <td>1</td>\n",
       "      <td>33.770</td>\n",
       "      <td>1</td>\n",
       "      <td>0</td>\n",
       "      <td>1725.55230</td>\n",
       "    </tr>\n",
       "    <tr>\n",
       "      <th>2</th>\n",
       "      <td>28</td>\n",
       "      <td>1</td>\n",
       "      <td>33.000</td>\n",
       "      <td>3</td>\n",
       "      <td>0</td>\n",
       "      <td>4449.46200</td>\n",
       "    </tr>\n",
       "    <tr>\n",
       "      <th>3</th>\n",
       "      <td>33</td>\n",
       "      <td>1</td>\n",
       "      <td>22.705</td>\n",
       "      <td>0</td>\n",
       "      <td>0</td>\n",
       "      <td>21984.47061</td>\n",
       "    </tr>\n",
       "    <tr>\n",
       "      <th>4</th>\n",
       "      <td>32</td>\n",
       "      <td>1</td>\n",
       "      <td>28.880</td>\n",
       "      <td>0</td>\n",
       "      <td>0</td>\n",
       "      <td>3866.85520</td>\n",
       "    </tr>\n",
       "  </tbody>\n",
       "</table>\n",
       "</div>"
      ],
      "text/plain": [
       "   age  sex     bmi  children  smoker      charges\n",
       "0   19    0  27.900         0       1  16884.92400\n",
       "1   18    1  33.770         1       0   1725.55230\n",
       "2   28    1  33.000         3       0   4449.46200\n",
       "3   33    1  22.705         0       0  21984.47061\n",
       "4   32    1  28.880         0       0   3866.85520"
      ]
     },
     "execution_count": 15,
     "metadata": {},
     "output_type": "execute_result"
    }
   ],
   "source": [
    "dataset.head()"
   ]
  },
  {
   "cell_type": "code",
   "execution_count": 16,
   "id": "008c1ab4",
   "metadata": {
    "execution": {
     "iopub.execute_input": "2021-08-23T06:23:53.799081Z",
     "iopub.status.busy": "2021-08-23T06:23:53.798413Z",
     "iopub.status.idle": "2021-08-23T06:23:53.801110Z",
     "shell.execute_reply": "2021-08-23T06:23:53.801755Z",
     "shell.execute_reply.started": "2021-08-23T06:23:02.252137Z"
    },
    "papermill": {
     "duration": 0.037403,
     "end_time": "2021-08-23T06:23:53.801926",
     "exception": false,
     "start_time": "2021-08-23T06:23:53.764523",
     "status": "completed"
    },
    "tags": []
   },
   "outputs": [
    {
     "name": "stdout",
     "output_type": "stream",
     "text": [
      "(1338, 5)\n",
      "(1338,)\n"
     ]
    }
   ],
   "source": [
    "X = dataset.iloc[:,:5]\n",
    "y = dataset.iloc[:,5]\n",
    "print(X.shape)\n",
    "print(y.shape)"
   ]
  },
  {
   "cell_type": "code",
   "execution_count": 17,
   "id": "b898ac2c",
   "metadata": {
    "execution": {
     "iopub.execute_input": "2021-08-23T06:23:53.861582Z",
     "iopub.status.busy": "2021-08-23T06:23:53.860831Z",
     "iopub.status.idle": "2021-08-23T06:23:53.919846Z",
     "shell.execute_reply": "2021-08-23T06:23:53.919245Z",
     "shell.execute_reply.started": "2021-08-23T06:23:02.262710Z"
    },
    "papermill": {
     "duration": 0.090268,
     "end_time": "2021-08-23T06:23:53.919990",
     "exception": false,
     "start_time": "2021-08-23T06:23:53.829722",
     "status": "completed"
    },
    "tags": []
   },
   "outputs": [],
   "source": [
    "from sklearn.model_selection import train_test_split\n",
    "X_train, X_test, y_train, y_test = train_test_split(X, y, test_size = 0.2, random_state = 30)"
   ]
  },
  {
   "cell_type": "code",
   "execution_count": 18,
   "id": "3e9c7cb8",
   "metadata": {
    "execution": {
     "iopub.execute_input": "2021-08-23T06:23:53.979250Z",
     "iopub.status.busy": "2021-08-23T06:23:53.978544Z",
     "iopub.status.idle": "2021-08-23T06:23:53.990899Z",
     "shell.execute_reply": "2021-08-23T06:23:53.991426Z",
     "shell.execute_reply.started": "2021-08-23T06:23:02.293955Z"
    },
    "papermill": {
     "duration": 0.043691,
     "end_time": "2021-08-23T06:23:53.991621",
     "exception": false,
     "start_time": "2021-08-23T06:23:53.947930",
     "status": "completed"
    },
    "tags": []
   },
   "outputs": [],
   "source": [
    "from sklearn.preprocessing import StandardScaler\n",
    "# creating a standard scaler\n",
    "sc = StandardScaler()\n",
    "# feeding independents sets into the standard scaler\n",
    "X_train = sc.fit_transform(X_train)\n",
    "X_test = sc.fit_transform(X_test)"
   ]
  },
  {
   "cell_type": "code",
   "execution_count": 19,
   "id": "83d7148b",
   "metadata": {
    "execution": {
     "iopub.execute_input": "2021-08-23T06:23:54.050832Z",
     "iopub.status.busy": "2021-08-23T06:23:54.050189Z",
     "iopub.status.idle": "2021-08-23T06:23:54.308771Z",
     "shell.execute_reply": "2021-08-23T06:23:54.308276Z",
     "shell.execute_reply.started": "2021-08-23T06:23:02.311103Z"
    },
    "papermill": {
     "duration": 0.289348,
     "end_time": "2021-08-23T06:23:54.308908",
     "exception": false,
     "start_time": "2021-08-23T06:23:54.019560",
     "status": "completed"
    },
    "tags": []
   },
   "outputs": [
    {
     "data": {
      "text/plain": [
       "0.7463716002316689"
      ]
     },
     "execution_count": 19,
     "metadata": {},
     "output_type": "execute_result"
    }
   ],
   "source": [
    "# Linear Regression\n",
    "from sklearn.linear_model import LinearRegression\n",
    "# creating the Linear Regression model\n",
    "lR = LinearRegression()\n",
    "# # feeding the training data to the model\n",
    "lR.fit(X_train, y_train)\n",
    "y_pred_lR = lR.predict(X_test)\n",
    "lR.score(X_train,y_train)"
   ]
  },
  {
   "cell_type": "code",
   "execution_count": 20,
   "id": "119cbadd",
   "metadata": {
    "execution": {
     "iopub.execute_input": "2021-08-23T06:23:54.371028Z",
     "iopub.status.busy": "2021-08-23T06:23:54.370399Z",
     "iopub.status.idle": "2021-08-23T06:23:54.502004Z",
     "shell.execute_reply": "2021-08-23T06:23:54.501361Z",
     "shell.execute_reply.started": "2021-08-23T06:23:02.354090Z"
    },
    "papermill": {
     "duration": 0.165306,
     "end_time": "2021-08-23T06:23:54.502181",
     "exception": false,
     "start_time": "2021-08-23T06:23:54.336875",
     "status": "completed"
    },
    "tags": []
   },
   "outputs": [
    {
     "data": {
      "text/plain": [
       "-0.09361994960428022"
      ]
     },
     "execution_count": 20,
     "metadata": {},
     "output_type": "execute_result"
    }
   ],
   "source": [
    "from sklearn.svm import SVR\n",
    "# creating the model\n",
    "svr = SVR()\n",
    "# feeding the training data to the model\n",
    "svr.fit(X_train, y_train)\n",
    "# predicting the test set results\n",
    "y_pred_svr = svr.predict(X_test)\n",
    "svr.score(X_train,y_train)"
   ]
  },
  {
   "cell_type": "code",
   "execution_count": 21,
   "id": "1d0d55b0",
   "metadata": {
    "execution": {
     "iopub.execute_input": "2021-08-23T06:23:54.564734Z",
     "iopub.status.busy": "2021-08-23T06:23:54.563955Z",
     "iopub.status.idle": "2021-08-23T06:23:54.730449Z",
     "shell.execute_reply": "2021-08-23T06:23:54.729885Z",
     "shell.execute_reply.started": "2021-08-23T06:23:02.486127Z"
    },
    "papermill": {
     "duration": 0.199929,
     "end_time": "2021-08-23T06:23:54.730592",
     "exception": false,
     "start_time": "2021-08-23T06:23:54.530663",
     "status": "completed"
    },
    "tags": []
   },
   "outputs": [
    {
     "data": {
      "text/plain": [
       "0.9640086046250348"
      ]
     },
     "execution_count": 21,
     "metadata": {},
     "output_type": "execute_result"
    }
   ],
   "source": [
    "from sklearn.ensemble import RandomForestRegressor\n",
    "regressor = RandomForestRegressor(n_estimators = 10, random_state = 0)\n",
    "regressor.fit(X_train, y_train)\n",
    "# Predicting a new result\n",
    "y_pred = regressor.predict(X_test)\n",
    "regressor.score(X_train,y_train)"
   ]
  },
  {
   "cell_type": "code",
   "execution_count": null,
   "id": "5fdd4158",
   "metadata": {
    "papermill": {
     "duration": 0.028775,
     "end_time": "2021-08-23T06:23:54.788004",
     "exception": false,
     "start_time": "2021-08-23T06:23:54.759229",
     "status": "completed"
    },
    "tags": []
   },
   "outputs": [],
   "source": []
  }
 ],
 "metadata": {
  "kernelspec": {
   "display_name": "Python 3",
   "language": "python",
   "name": "python3"
  },
  "language_info": {
   "codemirror_mode": {
    "name": "ipython",
    "version": 3
   },
   "file_extension": ".py",
   "mimetype": "text/x-python",
   "name": "python",
   "nbconvert_exporter": "python",
   "pygments_lexer": "ipython3",
   "version": "3.7.10"
  },
  "papermill": {
   "default_parameters": {},
   "duration": 34.752506,
   "end_time": "2021-08-23T06:23:56.419456",
   "environment_variables": {},
   "exception": null,
   "input_path": "__notebook__.ipynb",
   "output_path": "__notebook__.ipynb",
   "parameters": {},
   "start_time": "2021-08-23T06:23:21.666950",
   "version": "2.3.3"
  }
 },
 "nbformat": 4,
 "nbformat_minor": 5
}
