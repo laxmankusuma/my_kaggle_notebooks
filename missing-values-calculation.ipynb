{
 "cells": [
  {
   "cell_type": "markdown",
   "id": "rocky-romania",
   "metadata": {
    "_cell_guid": "3ed7bb46-7fd2-4180-948b-0b53c3b8f8eb",
    "_uuid": "dd7c422d-5ae9-478c-b4f6-9bd9fc05aac8",
    "execution": {
     "iopub.execute_input": "2021-06-28T14:59:27.699710Z",
     "iopub.status.busy": "2021-06-28T14:59:27.699386Z",
     "iopub.status.idle": "2021-06-28T14:59:27.705940Z",
     "shell.execute_reply": "2021-06-28T14:59:27.704523Z",
     "shell.execute_reply.started": "2021-06-28T14:59:27.699682Z"
    },
    "papermill": {
     "duration": 0.006985,
     "end_time": "2021-06-28T15:03:13.077007",
     "exception": false,
     "start_time": "2021-06-28T15:03:13.070022",
     "status": "completed"
    },
    "tags": []
   },
   "source": [
    "Fill Missing Values in a Dataset using Python"
   ]
  },
  {
   "cell_type": "markdown",
   "id": "minute-outline",
   "metadata": {
    "_cell_guid": "58937cab-cde1-4955-a1c4-63eee0019e53",
    "_uuid": "4ac71c82-30d9-4434-9b5d-67a512d9acd5",
    "papermill": {
     "duration": 0.005575,
     "end_time": "2021-06-28T15:03:13.088630",
     "exception": false,
     "start_time": "2021-06-28T15:03:13.083055",
     "status": "completed"
    },
    "tags": []
   },
   "source": [
    " Ref :\n",
    " \n",
    " https://thecleverprogrammer.com/2021/05/29/fill-missing-values-in-a-dataset-using-python/"
   ]
  },
  {
   "cell_type": "code",
   "execution_count": 1,
   "id": "healthy-temperature",
   "metadata": {
    "_cell_guid": "901076da-cb38-4fcf-ae85-6b51aca1a8fa",
    "_uuid": "5e7865e0-fae7-4b4d-8913-ba598b556560",
    "collapsed": false,
    "execution": {
     "iopub.execute_input": "2021-06-28T15:03:13.114277Z",
     "iopub.status.busy": "2021-06-28T15:03:13.113319Z",
     "iopub.status.idle": "2021-06-28T15:03:13.118512Z",
     "shell.execute_reply": "2021-06-28T15:03:13.117528Z",
     "shell.execute_reply.started": "2021-06-28T15:01:58.351929Z"
    },
    "jupyter": {
     "outputs_hidden": false
    },
    "papermill": {
     "duration": 0.02421,
     "end_time": "2021-06-28T15:03:13.118731",
     "exception": false,
     "start_time": "2021-06-28T15:03:13.094521",
     "status": "completed"
    },
    "tags": []
   },
   "outputs": [
    {
     "name": "stdout",
     "output_type": "stream",
     "text": [
      "[[10. nan  8.]\n",
      " [ 9.  8. nan]\n",
      " [ 7. 10.  9.]]\n"
     ]
    }
   ],
   "source": [
    "import numpy as np\n",
    "data = np.array([[10, np.nan, 8], \n",
    "                 [9, 8, np.nan], \n",
    "                 [7, 10, 9]])\n",
    "print(data)"
   ]
  },
  {
   "cell_type": "code",
   "execution_count": 2,
   "id": "linear-victorian",
   "metadata": {
    "_cell_guid": "e9dc1452-af84-43c0-b0ba-7f1ed1d0f67b",
    "_uuid": "6d41a41c-e3d3-4242-b260-f744ae898616",
    "collapsed": false,
    "execution": {
     "iopub.execute_input": "2021-06-28T15:03:13.138750Z",
     "iopub.status.busy": "2021-06-28T15:03:13.137959Z",
     "iopub.status.idle": "2021-06-28T15:03:14.298319Z",
     "shell.execute_reply": "2021-06-28T15:03:14.297782Z",
     "shell.execute_reply.started": "2021-06-28T15:01:58.371272Z"
    },
    "jupyter": {
     "outputs_hidden": false
    },
    "papermill": {
     "duration": 1.171608,
     "end_time": "2021-06-28T15:03:14.298465",
     "exception": false,
     "start_time": "2021-06-28T15:03:13.126857",
     "status": "completed"
    },
    "tags": []
   },
   "outputs": [
    {
     "name": "stdout",
     "output_type": "stream",
     "text": [
      "[[10.   9.   8. ]\n",
      " [ 9.   8.   8.5]\n",
      " [ 7.  10.   9. ]]\n"
     ]
    }
   ],
   "source": [
    "# Filling Values with mean\n",
    "from sklearn.impute import SimpleImputer\n",
    "mean_values = SimpleImputer(strategy='mean')\n",
    "data1 = mean_values.fit_transform(data)\n",
    "print(data1)"
   ]
  },
  {
   "cell_type": "code",
   "execution_count": 3,
   "id": "signal-creativity",
   "metadata": {
    "_cell_guid": "fd82f27b-4981-409e-bc8c-6d55cb5e1139",
    "_uuid": "134b10a2-1033-4dc4-8a83-9de7c6ca996e",
    "collapsed": false,
    "execution": {
     "iopub.execute_input": "2021-06-28T15:03:14.319052Z",
     "iopub.status.busy": "2021-06-28T15:03:14.318352Z",
     "iopub.status.idle": "2021-06-28T15:03:14.321771Z",
     "shell.execute_reply": "2021-06-28T15:03:14.321153Z",
     "shell.execute_reply.started": "2021-06-28T15:01:59.770323Z"
    },
    "jupyter": {
     "outputs_hidden": false
    },
    "papermill": {
     "duration": 0.016907,
     "end_time": "2021-06-28T15:03:14.321917",
     "exception": false,
     "start_time": "2021-06-28T15:03:14.305010",
     "status": "completed"
    },
    "tags": []
   },
   "outputs": [
    {
     "name": "stdout",
     "output_type": "stream",
     "text": [
      "[[10.   9.   8. ]\n",
      " [ 9.   8.   8.5]\n",
      " [ 7.  10.   9. ]]\n"
     ]
    }
   ],
   "source": [
    "# Filling Values with median\n",
    "from sklearn.impute import SimpleImputer\n",
    "median_values = SimpleImputer(strategy='median')\n",
    "data2 = median_values.fit_transform(data)\n",
    "print(data2)"
   ]
  },
  {
   "cell_type": "code",
   "execution_count": 4,
   "id": "reasonable-inspector",
   "metadata": {
    "_cell_guid": "f5894143-e4d0-4eef-94b1-c2888044249f",
    "_uuid": "c0883a15-d551-4752-a625-bb1fe163e495",
    "collapsed": false,
    "execution": {
     "iopub.execute_input": "2021-06-28T15:03:14.342757Z",
     "iopub.status.busy": "2021-06-28T15:03:14.342105Z",
     "iopub.status.idle": "2021-06-28T15:03:14.346055Z",
     "shell.execute_reply": "2021-06-28T15:03:14.347065Z",
     "shell.execute_reply.started": "2021-06-28T15:01:59.780921Z"
    },
    "jupyter": {
     "outputs_hidden": false
    },
    "papermill": {
     "duration": 0.018685,
     "end_time": "2021-06-28T15:03:14.347391",
     "exception": false,
     "start_time": "2021-06-28T15:03:14.328706",
     "status": "completed"
    },
    "tags": []
   },
   "outputs": [
    {
     "name": "stdout",
     "output_type": "stream",
     "text": [
      "[[10.  8.  8.]\n",
      " [ 9.  8.  8.]\n",
      " [ 7. 10.  9.]]\n"
     ]
    }
   ],
   "source": [
    "# Filling values with most frequent values\n",
    "from sklearn.impute import SimpleImputer\n",
    "most_frequent = SimpleImputer(strategy='most_frequent')\n",
    "data3 = most_frequent.fit_transform(data)\n",
    "print(data3)"
   ]
  }
 ],
 "metadata": {
  "kernelspec": {
   "display_name": "Python 3",
   "language": "python",
   "name": "python3"
  },
  "language_info": {
   "codemirror_mode": {
    "name": "ipython",
    "version": 3
   },
   "file_extension": ".py",
   "mimetype": "text/x-python",
   "name": "python",
   "nbconvert_exporter": "python",
   "pygments_lexer": "ipython3",
   "version": "3.7.10"
  },
  "papermill": {
   "default_parameters": {},
   "duration": 10.82288,
   "end_time": "2021-06-28T15:03:15.786311",
   "environment_variables": {},
   "exception": null,
   "input_path": "__notebook__.ipynb",
   "output_path": "__notebook__.ipynb",
   "parameters": {},
   "start_time": "2021-06-28T15:03:04.963431",
   "version": "2.3.3"
  }
 },
 "nbformat": 4,
 "nbformat_minor": 5
}
