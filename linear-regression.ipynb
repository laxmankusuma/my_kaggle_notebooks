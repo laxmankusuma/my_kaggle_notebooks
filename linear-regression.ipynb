{
 "cells": [
  {
   "cell_type": "markdown",
   "id": "metropolitan-weekly",
   "metadata": {
    "papermill": {
     "duration": 0.007959,
     "end_time": "2021-07-01T05:05:58.786651",
     "exception": false,
     "start_time": "2021-07-01T05:05:58.778692",
     "status": "completed"
    },
    "tags": []
   },
   "source": [
    "Linear Regression with Python"
   ]
  },
  {
   "cell_type": "markdown",
   "id": "welsh-catalog",
   "metadata": {
    "papermill": {
     "duration": 0.00664,
     "end_time": "2021-07-01T05:05:58.800472",
     "exception": false,
     "start_time": "2021-07-01T05:05:58.793832",
     "status": "completed"
    },
    "tags": []
   },
   "source": [
    "Ref :\n",
    "\n",
    "https://thecleverprogrammer.com/2020/11/27/machine-learning-algorithms-with-python/\n",
    "\n",
    "https://thecleverprogrammer.com/2020/11/20/linear-regression-with-python/"
   ]
  },
  {
   "cell_type": "code",
   "execution_count": 1,
   "id": "amateur-priority",
   "metadata": {
    "execution": {
     "iopub.execute_input": "2021-07-01T05:05:58.820903Z",
     "iopub.status.busy": "2021-07-01T05:05:58.819093Z",
     "iopub.status.idle": "2021-07-01T05:06:00.113632Z",
     "shell.execute_reply": "2021-07-01T05:06:00.112835Z",
     "shell.execute_reply.started": "2021-07-01T05:05:34.797292Z"
    },
    "papermill": {
     "duration": 1.306371,
     "end_time": "2021-07-01T05:06:00.113810",
     "exception": false,
     "start_time": "2021-07-01T05:05:58.807439",
     "status": "completed"
    },
    "tags": []
   },
   "outputs": [],
   "source": [
    "import matplotlib.pylab as plt\n",
    "import numpy as np\n",
    "%matplotlib inline\n",
    "from sklearn.linear_model import LinearRegression\n",
    "from sklearn import datasets"
   ]
  },
  {
   "cell_type": "code",
   "execution_count": 2,
   "id": "median-valuable",
   "metadata": {
    "execution": {
     "iopub.execute_input": "2021-07-01T05:06:00.133129Z",
     "iopub.status.busy": "2021-07-01T05:06:00.132389Z",
     "iopub.status.idle": "2021-07-01T05:06:00.153902Z",
     "shell.execute_reply": "2021-07-01T05:06:00.153308Z",
     "shell.execute_reply.started": "2021-07-01T05:05:36.169118Z"
    },
    "papermill": {
     "duration": 0.033076,
     "end_time": "2021-07-01T05:06:00.154082",
     "exception": false,
     "start_time": "2021-07-01T05:06:00.121006",
     "status": "completed"
    },
    "tags": []
   },
   "outputs": [],
   "source": [
    "diabetes = datasets.load_diabetes()"
   ]
  },
  {
   "cell_type": "code",
   "execution_count": 3,
   "id": "pediatric-sailing",
   "metadata": {
    "execution": {
     "iopub.execute_input": "2021-07-01T05:06:00.175614Z",
     "iopub.status.busy": "2021-07-01T05:06:00.174374Z",
     "iopub.status.idle": "2021-07-01T05:06:00.177771Z",
     "shell.execute_reply": "2021-07-01T05:06:00.178364Z",
     "shell.execute_reply.started": "2021-07-01T05:05:36.193290Z"
    },
    "papermill": {
     "duration": 0.017371,
     "end_time": "2021-07-01T05:06:00.178553",
     "exception": false,
     "start_time": "2021-07-01T05:06:00.161182",
     "status": "completed"
    },
    "tags": []
   },
   "outputs": [],
   "source": [
    "from sklearn.model_selection import train_test_split\n",
    "X_train, X_test, y_train, y_test = train_test_split(diabetes.data, diabetes.target, test_size=0.2, random_state=0)"
   ]
  },
  {
   "cell_type": "code",
   "execution_count": 4,
   "id": "reduced-mobility",
   "metadata": {
    "execution": {
     "iopub.execute_input": "2021-07-01T05:06:00.195701Z",
     "iopub.status.busy": "2021-07-01T05:06:00.195045Z",
     "iopub.status.idle": "2021-07-01T05:06:00.221004Z",
     "shell.execute_reply": "2021-07-01T05:06:00.220457Z",
     "shell.execute_reply.started": "2021-07-01T05:05:36.203841Z"
    },
    "papermill": {
     "duration": 0.035585,
     "end_time": "2021-07-01T05:06:00.221160",
     "exception": false,
     "start_time": "2021-07-01T05:06:00.185575",
     "status": "completed"
    },
    "tags": []
   },
   "outputs": [
    {
     "data": {
      "text/plain": [
       "LinearRegression()"
      ]
     },
     "execution_count": 4,
     "metadata": {},
     "output_type": "execute_result"
    }
   ],
   "source": [
    "# There are three steps to model something with sklearn\n",
    "# 1. Set up the model\n",
    "model = LinearRegression()\n",
    "# 2. Use fit\n",
    "model.fit(X_train, y_train)"
   ]
  },
  {
   "cell_type": "code",
   "execution_count": 5,
   "id": "everyday-following",
   "metadata": {
    "execution": {
     "iopub.execute_input": "2021-07-01T05:06:00.258450Z",
     "iopub.status.busy": "2021-07-01T05:06:00.254386Z",
     "iopub.status.idle": "2021-07-01T05:06:00.417743Z",
     "shell.execute_reply": "2021-07-01T05:06:00.418227Z",
     "shell.execute_reply.started": "2021-07-01T05:05:36.238927Z"
    },
    "papermill": {
     "duration": 0.189571,
     "end_time": "2021-07-01T05:06:00.418413",
     "exception": false,
     "start_time": "2021-07-01T05:06:00.228842",
     "status": "completed"
    },
    "tags": []
   },
   "outputs": [
    {
     "data": {
      "image/png": "[encoded data removed]",
      "text/plain": [
       "<Figure size 432x288 with 1 Axes>"
      ]
     },
     "metadata": {
      "needs_background": "light"
     },
     "output_type": "display_data"
    }
   ],
   "source": [
    "y_pred = model.predict(X_test) \n",
    "plt.plot(y_test, y_pred, '.')\n",
    "\n",
    "# plot a line, a perfit predict would all fall on this line\n",
    "x = np.linspace(0, 330, 100)\n",
    "y = x\n",
    "plt.plot(x, y)\n",
    "plt.show()"
   ]
  },
  {
   "cell_type": "code",
   "execution_count": null,
   "id": "metric-omaha",
   "metadata": {
    "papermill": {
     "duration": 0.007786,
     "end_time": "2021-07-01T05:06:00.434277",
     "exception": false,
     "start_time": "2021-07-01T05:06:00.426491",
     "status": "completed"
    },
    "tags": []
   },
   "outputs": [],
   "source": []
  }
 ],
 "metadata": {
  "kernelspec": {
   "display_name": "Python 3",
   "language": "python",
   "name": "python3"
  },
  "language_info": {
   "codemirror_mode": {
    "name": "ipython",
    "version": 3
   },
   "file_extension": ".py",
   "mimetype": "text/x-python",
   "name": "python",
   "nbconvert_exporter": "python",
   "pygments_lexer": "ipython3",
   "version": "3.7.10"
  },
  "papermill": {
   "default_parameters": {},
   "duration": 11.863888,
   "end_time": "2021-07-01T05:06:02.198834",
   "environment_variables": {},
   "exception": null,
   "input_path": "__notebook__.ipynb",
   "output_path": "__notebook__.ipynb",
   "parameters": {},
   "start_time": "2021-07-01T05:05:50.334946",
   "version": "2.3.3"
  }
 },
 "nbformat": 4,
 "nbformat_minor": 5
}
