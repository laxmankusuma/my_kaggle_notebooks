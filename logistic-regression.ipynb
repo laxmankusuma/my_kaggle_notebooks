{
 "cells": [
  {
   "cell_type": "markdown",
   "id": "canadian-switzerland",
   "metadata": {
    "execution": {
     "iopub.execute_input": "2021-06-30T09:43:47.861763Z",
     "iopub.status.busy": "2021-06-30T09:43:47.861438Z",
     "iopub.status.idle": "2021-06-30T09:43:47.867515Z",
     "shell.execute_reply": "2021-06-30T09:43:47.866298Z",
     "shell.execute_reply.started": "2021-06-30T09:43:47.861732Z"
    },
    "papermill": {
     "duration": 0.017769,
     "end_time": "2021-06-30T17:33:33.932919",
     "exception": false,
     "start_time": "2021-06-30T17:33:33.915150",
     "status": "completed"
    },
    "tags": []
   },
   "source": [
    "Ref :\n",
    "\n",
    "https://thecleverprogrammer.com/2020/11/27/machine-learning-algorithms-with-python/\n",
    "    \n",
    "https://thecleverprogrammer.com/2020/07/02/logistic-regression-in-machine-learning-with-python/\n",
    "\n",
    "https://machinelearningmastery.com/confusion-matrix-machine-learning/"
   ]
  },
  {
   "cell_type": "code",
   "execution_count": 1,
   "id": "global-whole",
   "metadata": {
    "execution": {
     "iopub.execute_input": "2021-06-30T17:33:33.978773Z",
     "iopub.status.busy": "2021-06-30T17:33:33.978055Z",
     "iopub.status.idle": "2021-06-30T17:33:35.035427Z",
     "shell.execute_reply": "2021-06-30T17:33:35.034736Z",
     "shell.execute_reply.started": "2021-06-30T17:32:45.426581Z"
    },
    "papermill": {
     "duration": 1.085869,
     "end_time": "2021-06-30T17:33:35.035615",
     "exception": false,
     "start_time": "2021-06-30T17:33:33.949746",
     "status": "completed"
    },
    "tags": []
   },
   "outputs": [],
   "source": [
    "from sklearn.datasets import load_digits\n",
    "digits = load_digits()"
   ]
  },
  {
   "cell_type": "code",
   "execution_count": 2,
   "id": "duplicate-sudan",
   "metadata": {
    "execution": {
     "iopub.execute_input": "2021-06-30T17:33:35.076073Z",
     "iopub.status.busy": "2021-06-30T17:33:35.075262Z",
     "iopub.status.idle": "2021-06-30T17:33:35.080008Z",
     "shell.execute_reply": "2021-06-30T17:33:35.079147Z",
     "shell.execute_reply.started": "2021-06-30T17:32:46.591785Z"
    },
    "papermill": {
     "duration": 0.027029,
     "end_time": "2021-06-30T17:33:35.080200",
     "exception": false,
     "start_time": "2021-06-30T17:33:35.053171",
     "status": "completed"
    },
    "tags": []
   },
   "outputs": [
    {
     "name": "stdout",
     "output_type": "stream",
     "text": [
      "Image Data Shape (1797, 64)\n",
      "Label Data Shape (1797,)\n"
     ]
    }
   ],
   "source": [
    "# Print to show there are 1797 images (8 by 8 images for a dimensionality of 64)\n",
    "print(\"Image Data Shape\" , digits.data.shape)\n",
    "# Print to show there are 1797 labels (integers from 0–9)\n",
    "print(\"Label Data Shape\", digits.target.shape)"
   ]
  },
  {
   "cell_type": "code",
   "execution_count": 3,
   "id": "inner-adventure",
   "metadata": {
    "execution": {
     "iopub.execute_input": "2021-06-30T17:33:35.121270Z",
     "iopub.status.busy": "2021-06-30T17:33:35.120570Z",
     "iopub.status.idle": "2021-06-30T17:33:35.124016Z",
     "shell.execute_reply": "2021-06-30T17:33:35.124754Z",
     "shell.execute_reply.started": "2021-06-30T17:32:46.600062Z"
    },
    "papermill": {
     "duration": 0.026434,
     "end_time": "2021-06-30T17:33:35.124977",
     "exception": false,
     "start_time": "2021-06-30T17:33:35.098543",
     "status": "completed"
    },
    "tags": []
   },
   "outputs": [
    {
     "name": "stdout",
     "output_type": "stream",
     "text": [
      "0 (3, 4)\n",
      "1 (4, 6)\n",
      "2 (5, 8)\n",
      "3 (7, 9)\n"
     ]
    }
   ],
   "source": [
    "data1 = [3,4,5,7]\n",
    "data2 = [4,6,8,9]\n",
    "for index, value in enumerate(zip(data1, data2)):\n",
    "    print(index,value)"
   ]
  },
  {
   "cell_type": "code",
   "execution_count": 4,
   "id": "applicable-supply",
   "metadata": {
    "execution": {
     "iopub.execute_input": "2021-06-30T17:33:35.163517Z",
     "iopub.status.busy": "2021-06-30T17:33:35.162892Z",
     "iopub.status.idle": "2021-06-30T17:33:35.787413Z",
     "shell.execute_reply": "2021-06-30T17:33:35.786874Z",
     "shell.execute_reply.started": "2021-06-30T17:32:46.614076Z"
    },
    "papermill": {
     "duration": 0.644311,
     "end_time": "2021-06-30T17:33:35.787567",
     "exception": false,
     "start_time": "2021-06-30T17:33:35.143256",
     "status": "completed"
    },
    "tags": []
   },
   "outputs": [
    {
     "data": {
      "image/png": "[encoded data removed]",
      "text/plain": [
       "<Figure size 1440x288 with 5 Axes>"
      ]
     },
     "metadata": {
      "needs_background": "light"
     },
     "output_type": "display_data"
    }
   ],
   "source": [
    "import numpy as np \n",
    "import matplotlib.pyplot as plt\n",
    "\n",
    "#figure(figsize=(1,1)) would create an inch-by-inch image\n",
    "plt.figure(figsize=(20,4))\n",
    "\n",
    "for index, (image, label) in enumerate(zip(digits.data[0:5], digits.target[0:5])):\n",
    "    # With the subplots() function you can draw multiple plots in one figure:\n",
    "    plt.subplot(1, 5, index + 1)\n",
    "    # The imshow() function in pyplot module of matplotlib library is used to display data as an image; i.e. on a 2D regular raster.\n",
    "    plt.imshow(np.reshape(image, (8,8)), cmap=plt.cm.gray)\n",
    "    # displaying the title\n",
    "    plt.title('Training: %in' % label, fontsize = 20)"
   ]
  },
  {
   "cell_type": "code",
   "execution_count": 5,
   "id": "eleven-spyware",
   "metadata": {
    "execution": {
     "iopub.execute_input": "2021-06-30T17:33:35.830485Z",
     "iopub.status.busy": "2021-06-30T17:33:35.829657Z",
     "iopub.status.idle": "2021-06-30T17:33:35.886799Z",
     "shell.execute_reply": "2021-06-30T17:33:35.886209Z",
     "shell.execute_reply.started": "2021-06-30T17:32:47.248108Z"
    },
    "papermill": {
     "duration": 0.080244,
     "end_time": "2021-06-30T17:33:35.886962",
     "exception": false,
     "start_time": "2021-06-30T17:33:35.806718",
     "status": "completed"
    },
    "tags": []
   },
   "outputs": [],
   "source": [
    "# when random_state set to an integer, train_test_split will return same results for each execution.\n",
    "# when random_state set to an None, train_test_split will return different results for each execution.\n",
    "# test_size=0.25 means 25% test data , 75% train data\n",
    "from sklearn.model_selection import train_test_split\n",
    "x_train, x_test, y_train, y_test = train_test_split(digits.data, \n",
    "                                                    digits.target, test_size=0.25, \n",
    "                                                    random_state=0)"
   ]
  },
  {
   "cell_type": "code",
   "execution_count": 6,
   "id": "textile-browse",
   "metadata": {
    "execution": {
     "iopub.execute_input": "2021-06-30T17:33:35.928079Z",
     "iopub.status.busy": "2021-06-30T17:33:35.927299Z",
     "iopub.status.idle": "2021-06-30T17:33:36.027162Z",
     "shell.execute_reply": "2021-06-30T17:33:36.026527Z",
     "shell.execute_reply.started": "2021-06-30T17:32:47.309975Z"
    },
    "papermill": {
     "duration": 0.122133,
     "end_time": "2021-06-30T17:33:36.027307",
     "exception": false,
     "start_time": "2021-06-30T17:33:35.905174",
     "status": "completed"
    },
    "tags": []
   },
   "outputs": [],
   "source": [
    "from sklearn.linear_model import LogisticRegression"
   ]
  },
  {
   "cell_type": "code",
   "execution_count": 7,
   "id": "derived-chick",
   "metadata": {
    "execution": {
     "iopub.execute_input": "2021-06-30T17:33:36.067992Z",
     "iopub.status.busy": "2021-06-30T17:33:36.067344Z",
     "iopub.status.idle": "2021-06-30T17:33:36.069417Z",
     "shell.execute_reply": "2021-06-30T17:33:36.069906Z",
     "shell.execute_reply.started": "2021-06-30T17:32:47.415716Z"
    },
    "papermill": {
     "duration": 0.024624,
     "end_time": "2021-06-30T17:33:36.070070",
     "exception": false,
     "start_time": "2021-06-30T17:33:36.045446",
     "status": "completed"
    },
    "tags": []
   },
   "outputs": [],
   "source": [
    "logisticRegr = LogisticRegression()"
   ]
  },
  {
   "cell_type": "code",
   "execution_count": 8,
   "id": "residential-colony",
   "metadata": {
    "execution": {
     "iopub.execute_input": "2021-06-30T17:33:36.109853Z",
     "iopub.status.busy": "2021-06-30T17:33:36.109164Z",
     "iopub.status.idle": "2021-06-30T17:33:36.507452Z",
     "shell.execute_reply": "2021-06-30T17:33:36.508808Z",
     "shell.execute_reply.started": "2021-06-30T17:32:47.423311Z"
    },
    "papermill": {
     "duration": 0.420726,
     "end_time": "2021-06-30T17:33:36.509086",
     "exception": false,
     "start_time": "2021-06-30T17:33:36.088360",
     "status": "completed"
    },
    "tags": []
   },
   "outputs": [
    {
     "name": "stderr",
     "output_type": "stream",
     "text": [
      "/opt/conda/lib/python3.7/site-packages/sklearn/linear_model/_logistic.py:765: ConvergenceWarning: lbfgs failed to converge (status=1):\n",
      "STOP: TOTAL NO. of ITERATIONS REACHED LIMIT.\n",
      "\n",
      "Increase the number of iterations (max_iter) or scale the data as shown in:\n",
      "    https://scikit-learn.org/stable/modules/preprocessing.html\n",
      "Please also refer to the documentation for alternative solver options:\n",
      "    https://scikit-learn.org/stable/modules/linear_model.html#logistic-regression\n",
      "  extra_warning_msg=_LOGISTIC_SOLVER_CONVERGENCE_MSG)\n"
     ]
    },
    {
     "data": {
      "text/plain": [
       "LogisticRegression()"
      ]
     },
     "execution_count": 8,
     "metadata": {},
     "output_type": "execute_result"
    }
   ],
   "source": [
    "logisticRegr.fit(x_train, y_train)"
   ]
  },
  {
   "cell_type": "code",
   "execution_count": 9,
   "id": "noble-sense",
   "metadata": {
    "execution": {
     "iopub.execute_input": "2021-06-30T17:33:36.587625Z",
     "iopub.status.busy": "2021-06-30T17:33:36.586593Z",
     "iopub.status.idle": "2021-06-30T17:33:36.593339Z",
     "shell.execute_reply": "2021-06-30T17:33:36.594095Z",
     "shell.execute_reply.started": "2021-06-30T17:32:47.831001Z"
    },
    "papermill": {
     "duration": 0.051408,
     "end_time": "2021-06-30T17:33:36.594374",
     "exception": false,
     "start_time": "2021-06-30T17:33:36.542966",
     "status": "completed"
    },
    "tags": []
   },
   "outputs": [
    {
     "data": {
      "text/plain": [
       "array([[ 0.,  0., 11., 16., 15.,  3.,  0.,  0.,  0.,  5., 16., 12., 11.,\n",
       "        13.,  0.,  0.,  0.,  3., 13.,  1.,  5., 15.,  0.,  0.,  0.,  0.,\n",
       "         0.,  0., 12., 11.,  0.,  0.,  0.,  0.,  0.,  1., 16.,  7.,  0.,\n",
       "         0.,  0.,  0.,  0., 10., 15.,  0.,  0.,  0.,  0.,  0., 12., 16.,\n",
       "        16., 11.,  1.,  0.,  0.,  0., 13., 13.,  8., 13., 16.,  8.]])"
      ]
     },
     "execution_count": 9,
     "metadata": {},
     "output_type": "execute_result"
    }
   ],
   "source": [
    "x_test[0].reshape(1,-1)"
   ]
  },
  {
   "cell_type": "code",
   "execution_count": 10,
   "id": "regional-tsunami",
   "metadata": {
    "execution": {
     "iopub.execute_input": "2021-06-30T17:33:36.649962Z",
     "iopub.status.busy": "2021-06-30T17:33:36.649191Z",
     "iopub.status.idle": "2021-06-30T17:33:36.653788Z",
     "shell.execute_reply": "2021-06-30T17:33:36.653278Z",
     "shell.execute_reply.started": "2021-06-30T17:32:47.844496Z"
    },
    "papermill": {
     "duration": 0.035471,
     "end_time": "2021-06-30T17:33:36.653929",
     "exception": false,
     "start_time": "2021-06-30T17:33:36.618458",
     "status": "completed"
    },
    "tags": []
   },
   "outputs": [
    {
     "data": {
      "text/plain": [
       "array([[ 0.,  0., 11., 16., 15.,  3.,  0.,  0.,  0.,  5., 16., 12., 11.,\n",
       "        13.,  0.,  0.,  0.,  3., 13.,  1.,  5., 15.,  0.,  0.,  0.,  0.,\n",
       "         0.,  0., 12., 11.,  0.,  0.,  0.,  0.,  0.,  1., 16.,  7.,  0.,\n",
       "         0.,  0.,  0.,  0., 10., 15.,  0.,  0.,  0.,  0.,  0., 12., 16.,\n",
       "        16., 11.,  1.,  0.,  0.,  0., 13., 13.,  8., 13., 16.,  8.],\n",
       "       [ 0.,  1., 15., 14.,  2.,  0.,  0.,  0.,  0.,  6., 14.,  0.,  0.,\n",
       "         3.,  2.,  0.,  0.,  2., 16.,  3.,  2., 13.,  3.,  0.,  0.,  0.,\n",
       "        11., 14., 15.,  9.,  0.,  0.,  0.,  0.,  7., 16., 11.,  0.,  0.,\n",
       "         0.,  0.,  0., 15., 13., 14.,  0.,  0.,  0.,  0.,  2., 15.,  4.,\n",
       "        16.,  3.,  0.,  0.,  0.,  1., 15., 16., 12.,  1.,  0.,  0.],\n",
       "       [ 0.,  2., 13., 16., 10.,  0.,  0.,  0.,  0., 12., 15.,  9., 16.,\n",
       "         2.,  0.,  0.,  0., 10.,  8.,  1., 16.,  6.,  0.,  0.,  0.,  1.,\n",
       "         1.,  2., 16.,  6.,  0.,  0.,  0.,  0.,  0., 10., 15.,  2.,  0.,\n",
       "         0.,  0.,  0.,  2., 15.,  9.,  0.,  0.,  0.,  0.,  2., 15., 16.,\n",
       "         9.,  8.,  6.,  0.,  0.,  1., 13., 16., 16., 16., 16.,  3.],\n",
       "       [ 0.,  0.,  9.,  7.,  0.,  0.,  0.,  0.,  0.,  0.,  9., 11.,  0.,\n",
       "         0.,  0.,  0.,  0.,  0., 15.,  4.,  0.,  0.,  0.,  0.,  0.,  2.,\n",
       "        16.,  1.,  0.,  0.,  0.,  0.,  0.,  5., 16.,  8., 14.,  9.,  0.,\n",
       "         0.,  0.,  5., 16., 15.,  8.,  9., 10.,  0.,  0.,  3., 16.,  2.,\n",
       "         0.,  7., 11.,  0.,  0.,  0.,  7., 14., 16., 12.,  1.,  0.],\n",
       "       [ 0.,  0.,  3., 13.,  6.,  0.,  0.,  0.,  0.,  0., 10., 15.,  2.,\n",
       "         0.,  0.,  0.,  0.,  2., 15.,  3.,  0.,  0.,  0.,  0.,  0.,  4.,\n",
       "        14.,  0.,  0.,  0.,  0.,  0.,  0.,  4., 14., 14., 16., 13.,  2.,\n",
       "         0.,  0.,  3., 16.,  9.,  1.,  4., 12.,  0.,  0.,  0., 14., 10.,\n",
       "         5., 11., 11.,  0.,  0.,  0.,  3., 13., 15.,  8.,  0.,  0.],\n",
       "       [ 0.,  0.,  5., 16., 12.,  2.,  0.,  0.,  0.,  0.,  4., 11., 16.,\n",
       "        10.,  0.,  0.,  0.,  0.,  0.,  0., 14., 11.,  0.,  0.,  0.,  0.,\n",
       "         2.,  4., 14., 14.,  2.,  0.,  0.,  0., 13., 16., 16., 10.,  4.,\n",
       "         0.,  0.,  0.,  3., 10., 14.,  0.,  0.,  0.,  0.,  0.,  0., 15.,\n",
       "         5.,  0.,  0.,  0.,  0.,  0.,  6., 11.,  0.,  0.,  0.,  0.],\n",
       "       [ 0.,  0.,  0., 10., 13.,  0.,  0.,  0.,  0.,  0.,  0., 13., 16.,\n",
       "         5.,  0.,  0.,  0.,  0.,  0., 16., 16.,  4.,  0.,  0.,  0.,  0.,\n",
       "         3., 16., 16.,  7.,  0.,  0.,  0.,  0.,  7., 16., 16.,  9.,  0.,\n",
       "         0.,  0.,  0.,  9., 16., 16., 10.,  0.,  0.,  0.,  0., 10., 16.,\n",
       "        16., 14.,  0.,  0.,  0.,  0.,  1.,  5.,  7., 15.,  8.,  0.],\n",
       "       [ 0.,  0.,  2., 10., 13., 12.,  3.,  0.,  0.,  0., 11., 13.,  8.,\n",
       "        16.,  7.,  0.,  0.,  0., 12.,  9.,  9., 16.,  8.,  0.,  0.,  0.,\n",
       "         6., 10., 13., 14.,  5.,  0.,  0.,  0.,  0.,  0.,  0., 12.,  8.,\n",
       "         0.,  0.,  8.,  1.,  0.,  0., 15.,  2.,  0.,  0.,  4., 14.,  9.,\n",
       "         4., 16.,  0.,  0.,  0.,  0.,  2., 12., 16., 14.,  0.,  0.],\n",
       "       [ 0.,  0., 10., 14., 10.,  1.,  0.,  0.,  0.,  4., 14.,  6., 13.,\n",
       "         7.,  0.,  0.,  0.,  6., 12.,  0.,  7.,  7.,  0.,  0.,  0.,  1.,\n",
       "        16., 10., 15.,  1.,  0.,  0.,  0.,  0.,  5., 16., 15.,  3.,  0.,\n",
       "         0.,  0.,  0., 13.,  6.,  6., 15.,  5.,  0.,  0.,  3., 15.,  0.,\n",
       "         4., 12.,  7.,  0.,  0.,  0., 12., 16., 15.,  8.,  0.,  0.],\n",
       "       [ 0.,  0., 15., 13., 12., 12.,  2.,  0.,  0.,  4., 16., 16., 12.,\n",
       "         6.,  0.,  0.,  0.,  0., 16.,  4.,  0.,  0.,  0.,  0.,  0.,  0.,\n",
       "        11.,  7.,  0.,  0.,  0.,  0.,  0.,  0.,  7., 14.,  0.,  0.,  0.,\n",
       "         0.,  0.,  0.,  0., 14.,  6.,  0.,  0.,  0.,  0.,  4.,  5., 14.,\n",
       "         8.,  0.,  0.,  0.,  0.,  1., 15., 16.,  4.,  0.,  0.,  0.]])"
      ]
     },
     "execution_count": 10,
     "metadata": {},
     "output_type": "execute_result"
    }
   ],
   "source": [
    "x_test[0:10]"
   ]
  },
  {
   "cell_type": "code",
   "execution_count": 11,
   "id": "arranged-constant",
   "metadata": {
    "execution": {
     "iopub.execute_input": "2021-06-30T17:33:36.699107Z",
     "iopub.status.busy": "2021-06-30T17:33:36.698425Z",
     "iopub.status.idle": "2021-06-30T17:33:36.701097Z",
     "shell.execute_reply": "2021-06-30T17:33:36.701536Z",
     "shell.execute_reply.started": "2021-06-30T17:32:47.870862Z"
    },
    "papermill": {
     "duration": 0.028399,
     "end_time": "2021-06-30T17:33:36.701736",
     "exception": false,
     "start_time": "2021-06-30T17:33:36.673337",
     "status": "completed"
    },
    "tags": []
   },
   "outputs": [
    {
     "data": {
      "text/plain": [
       "array([2, 8, 2, 6, 6, 7, 1, 9, 8, 5, 2, 8, 6, 6, 6, 6, 1, 0, 5, 8, 8, 7,\n",
       "       8, 4, 7, 5, 4, 9, 2, 9, 4, 7, 6, 8, 9, 4, 3, 1, 0, 1, 8, 6, 7, 7,\n",
       "       1, 0, 7, 6, 2, 1, 9, 6, 7, 9, 0, 0, 5, 1, 6, 3, 0, 2, 3, 4, 1, 9,\n",
       "       2, 6, 9, 1, 8, 3, 5, 1, 2, 8, 2, 2, 9, 7, 2, 3, 6, 0, 5, 3, 7, 5,\n",
       "       1, 2, 9, 9, 3, 1, 7, 7, 4, 8, 5, 8, 5, 5, 2, 5, 9, 0, 7, 1, 4, 7,\n",
       "       3, 4, 8, 9, 7, 9, 8, 2, 6, 5, 2, 5, 8, 4, 8, 7, 0, 6, 1, 5, 9, 9,\n",
       "       9, 5, 9, 9, 5, 7, 5, 6, 2, 8, 6, 9, 6, 1, 5, 1, 5, 9, 9, 1, 5, 3,\n",
       "       6, 1, 8, 9, 8, 7, 6, 7, 6, 5, 6, 0, 8, 8, 9, 8, 6, 1, 0, 4, 1, 6,\n",
       "       3, 8, 6, 7, 4, 5, 6, 3, 0, 3, 3, 3, 0, 7, 7, 5, 7, 8, 0, 7, 8, 9,\n",
       "       6, 4, 5, 0, 1, 4, 6, 4, 3, 3, 0, 9, 5, 9, 2, 1, 4, 2, 1, 6, 8, 9,\n",
       "       2, 4, 9, 3, 7, 6, 2, 3, 3, 1, 6, 9, 3, 6, 3, 2, 2, 0, 7, 6, 1, 1,\n",
       "       9, 7, 2, 7, 8, 5, 5, 7, 5, 2, 3, 7, 2, 7, 5, 5, 7, 0, 9, 1, 6, 5,\n",
       "       9, 7, 4, 3, 8, 0, 3, 6, 4, 6, 3, 2, 6, 8, 8, 8, 4, 6, 7, 5, 2, 4,\n",
       "       5, 3, 2, 4, 6, 9, 4, 5, 4, 3, 4, 6, 2, 9, 0, 1, 7, 2, 0, 9, 6, 0,\n",
       "       4, 2, 0, 7, 9, 8, 5, 4, 8, 2, 8, 4, 3, 7, 2, 6, 9, 1, 5, 1, 0, 8,\n",
       "       2, 1, 9, 5, 6, 8, 2, 7, 2, 1, 5, 1, 6, 4, 5, 0, 9, 4, 1, 1, 7, 0,\n",
       "       8, 9, 0, 5, 4, 3, 8, 8, 6, 5, 3, 4, 4, 4, 8, 8, 7, 0, 9, 6, 3, 5,\n",
       "       2, 3, 0, 8, 3, 3, 1, 3, 3, 0, 0, 4, 6, 0, 7, 7, 6, 2, 0, 4, 4, 2,\n",
       "       3, 7, 8, 9, 8, 6, 8, 5, 6, 2, 2, 3, 1, 7, 7, 8, 0, 3, 3, 2, 1, 5,\n",
       "       5, 9, 1, 3, 7, 0, 0, 7, 0, 4, 5, 9, 3, 3, 4, 3, 1, 8, 9, 8, 3, 6,\n",
       "       2, 1, 6, 2, 1, 7, 5, 5, 1, 9])"
      ]
     },
     "execution_count": 11,
     "metadata": {},
     "output_type": "execute_result"
    }
   ],
   "source": [
    "y_test"
   ]
  },
  {
   "cell_type": "code",
   "execution_count": 12,
   "id": "copyrighted-granny",
   "metadata": {
    "execution": {
     "iopub.execute_input": "2021-06-30T17:33:36.744123Z",
     "iopub.status.busy": "2021-06-30T17:33:36.743492Z",
     "iopub.status.idle": "2021-06-30T17:33:36.751050Z",
     "shell.execute_reply": "2021-06-30T17:33:36.751845Z",
     "shell.execute_reply.started": "2021-06-30T17:32:47.884202Z"
    },
    "papermill": {
     "duration": 0.0306,
     "end_time": "2021-06-30T17:33:36.752120",
     "exception": false,
     "start_time": "2021-06-30T17:33:36.721520",
     "status": "completed"
    },
    "tags": []
   },
   "outputs": [],
   "source": [
    "# Returns a NumPy Array\n",
    "# Predict for One Observation (image)\n",
    "#logisticRegr.predict(x_test[0].reshape(1,-1))\n",
    "#logisticRegr.predict(x_test[0:10])\n",
    "predictions = logisticRegr.predict(x_test)"
   ]
  },
  {
   "cell_type": "code",
   "execution_count": 13,
   "id": "enabling-basket",
   "metadata": {
    "execution": {
     "iopub.execute_input": "2021-06-30T17:33:36.835816Z",
     "iopub.status.busy": "2021-06-30T17:33:36.834737Z",
     "iopub.status.idle": "2021-06-30T17:33:36.841669Z",
     "shell.execute_reply": "2021-06-30T17:33:36.842480Z",
     "shell.execute_reply.started": "2021-06-30T17:32:47.895499Z"
    },
    "papermill": {
     "duration": 0.055398,
     "end_time": "2021-06-30T17:33:36.842779",
     "exception": false,
     "start_time": "2021-06-30T17:33:36.787381",
     "status": "completed"
    },
    "tags": []
   },
   "outputs": [
    {
     "data": {
      "text/plain": [
       "array([2, 8, 2, 6, 6, 7, 1, 9, 8, 5, 2, 8, 6, 6, 6, 6, 1, 0, 5, 8, 8, 7,\n",
       "       8, 4, 7, 5, 4, 9, 2, 9, 4, 7, 6, 8, 9, 4, 3, 1, 0, 1, 8, 6, 7, 7,\n",
       "       1, 0, 7, 6, 2, 1, 9, 6, 7, 9, 0, 0, 9, 1, 6, 3, 0, 2, 3, 4, 1, 9,\n",
       "       2, 6, 9, 1, 8, 3, 5, 1, 2, 8, 2, 2, 9, 7, 2, 3, 6, 0, 5, 3, 7, 5,\n",
       "       1, 2, 9, 9, 3, 1, 4, 7, 4, 8, 5, 8, 5, 5, 2, 5, 9, 0, 7, 1, 4, 7,\n",
       "       3, 4, 8, 9, 7, 9, 8, 2, 1, 5, 2, 5, 8, 4, 1, 7, 0, 6, 1, 5, 5, 9,\n",
       "       9, 5, 9, 9, 5, 7, 5, 6, 2, 8, 6, 9, 6, 1, 5, 1, 5, 9, 9, 1, 5, 3,\n",
       "       6, 1, 8, 9, 8, 7, 6, 7, 6, 5, 6, 0, 8, 8, 9, 9, 6, 1, 0, 4, 1, 6,\n",
       "       3, 8, 6, 7, 4, 9, 6, 3, 0, 3, 3, 3, 0, 7, 7, 5, 7, 8, 0, 7, 1, 9,\n",
       "       6, 4, 5, 0, 1, 4, 6, 4, 3, 3, 0, 9, 5, 9, 2, 8, 4, 2, 1, 6, 8, 9,\n",
       "       2, 4, 9, 3, 7, 6, 2, 3, 3, 1, 6, 9, 3, 6, 3, 3, 2, 0, 7, 6, 1, 1,\n",
       "       9, 7, 2, 7, 8, 5, 5, 7, 5, 3, 3, 7, 2, 7, 5, 5, 7, 0, 9, 1, 6, 5,\n",
       "       9, 7, 4, 3, 8, 0, 3, 6, 4, 6, 3, 2, 6, 8, 8, 8, 4, 6, 7, 5, 2, 4,\n",
       "       5, 3, 2, 4, 6, 9, 4, 5, 4, 3, 4, 6, 2, 9, 0, 1, 7, 2, 0, 9, 6, 0,\n",
       "       4, 2, 0, 7, 9, 8, 5, 7, 8, 2, 8, 4, 3, 7, 2, 6, 9, 9, 5, 1, 0, 8,\n",
       "       2, 8, 9, 5, 6, 2, 2, 7, 2, 1, 5, 1, 6, 4, 5, 0, 9, 4, 1, 1, 7, 0,\n",
       "       8, 9, 0, 5, 4, 3, 8, 8, 6, 5, 3, 4, 4, 4, 8, 8, 7, 0, 9, 6, 3, 5,\n",
       "       2, 3, 0, 8, 8, 3, 1, 3, 3, 0, 0, 4, 6, 0, 7, 7, 6, 2, 0, 4, 4, 2,\n",
       "       3, 7, 1, 9, 8, 6, 8, 5, 6, 2, 2, 3, 1, 7, 7, 8, 0, 3, 3, 1, 1, 5,\n",
       "       5, 9, 1, 3, 7, 0, 0, 3, 0, 4, 5, 8, 9, 3, 4, 3, 1, 8, 9, 8, 3, 6,\n",
       "       3, 1, 6, 2, 1, 7, 5, 5, 1, 9])"
      ]
     },
     "execution_count": 13,
     "metadata": {},
     "output_type": "execute_result"
    }
   ],
   "source": [
    "predictions"
   ]
  },
  {
   "cell_type": "code",
   "execution_count": 14,
   "id": "separated-concentrate",
   "metadata": {
    "execution": {
     "iopub.execute_input": "2021-06-30T17:33:36.898064Z",
     "iopub.status.busy": "2021-06-30T17:33:36.897055Z",
     "iopub.status.idle": "2021-06-30T17:33:36.905026Z",
     "shell.execute_reply": "2021-06-30T17:33:36.905988Z",
     "shell.execute_reply.started": "2021-06-30T17:32:47.911882Z"
    },
    "papermill": {
     "duration": 0.034394,
     "end_time": "2021-06-30T17:33:36.906250",
     "exception": false,
     "start_time": "2021-06-30T17:33:36.871856",
     "status": "completed"
    },
    "tags": []
   },
   "outputs": [
    {
     "name": "stdout",
     "output_type": "stream",
     "text": [
      "0.9511111111111111\n"
     ]
    }
   ],
   "source": [
    "# Use score method to get accuracy of model\n",
    "score = logisticRegr.score(x_test, y_test)\n",
    "print(score)"
   ]
  },
  {
   "cell_type": "code",
   "execution_count": 15,
   "id": "cathedral-delight",
   "metadata": {
    "execution": {
     "iopub.execute_input": "2021-06-30T17:33:36.987876Z",
     "iopub.status.busy": "2021-06-30T17:33:36.986821Z",
     "iopub.status.idle": "2021-06-30T17:33:36.990675Z",
     "shell.execute_reply": "2021-06-30T17:33:36.991473Z",
     "shell.execute_reply.started": "2021-06-30T17:32:47.926093Z"
    },
    "papermill": {
     "duration": 0.048653,
     "end_time": "2021-06-30T17:33:36.991743",
     "exception": false,
     "start_time": "2021-06-30T17:33:36.943090",
     "status": "completed"
    },
    "tags": []
   },
   "outputs": [
    {
     "data": {
      "text/plain": [
       "0.9511111111111111"
      ]
     },
     "execution_count": 15,
     "metadata": {},
     "output_type": "execute_result"
    }
   ],
   "source": [
    "#alternative to use score method\n",
    "from sklearn.metrics import accuracy_score\n",
    "accuracy_score(y_test, predictions)"
   ]
  },
  {
   "cell_type": "markdown",
   "id": "compact-workstation",
   "metadata": {
    "papermill": {
     "duration": 0.021051,
     "end_time": "2021-06-30T17:33:37.042816",
     "exception": false,
     "start_time": "2021-06-30T17:33:37.021765",
     "status": "completed"
    },
    "tags": []
   },
   "source": [
    "confusion_matrix explanation"
   ]
  },
  {
   "cell_type": "code",
   "execution_count": 16,
   "id": "internal-minute",
   "metadata": {
    "execution": {
     "iopub.execute_input": "2021-06-30T17:33:37.093067Z",
     "iopub.status.busy": "2021-06-30T17:33:37.092392Z",
     "iopub.status.idle": "2021-06-30T17:33:37.094917Z",
     "shell.execute_reply": "2021-06-30T17:33:37.095400Z",
     "shell.execute_reply.started": "2021-06-30T17:32:47.944210Z"
    },
    "papermill": {
     "duration": 0.03194,
     "end_time": "2021-06-30T17:33:37.095567",
     "exception": false,
     "start_time": "2021-06-30T17:33:37.063627",
     "status": "completed"
    },
    "tags": []
   },
   "outputs": [
    {
     "name": "stdout",
     "output_type": "stream",
     "text": [
      "[[4 2]\n",
      " [1 3]]\n"
     ]
    }
   ],
   "source": [
    "from sklearn.metrics import confusion_matrix\n",
    "\n",
    "# this is 2 class problem\n",
    "expected = [1, 1, 0, 1, 0, 0, 1, 0, 0, 0]\n",
    "predicted = [1, 0, 0, 1, 0, 0, 1, 1, 1, 0]\n",
    "results = confusion_matrix(expected, predicted)\n",
    "print(results)"
   ]
  },
  {
   "cell_type": "markdown",
   "id": "affiliated-bailey",
   "metadata": {
    "papermill": {
     "duration": 0.020875,
     "end_time": "2021-06-30T17:33:37.138155",
     "exception": false,
     "start_time": "2021-06-30T17:33:37.117280",
     "status": "completed"
    },
    "tags": []
   },
   "source": [
    "men classified as men: 3\n",
    "women classified as women: 4\n",
    "\n",
    "men classified as women: 2\n",
    "woman classified as men: 1\n",
    "\n",
    "       men women\n",
    "men     3    1\n",
    "women   2    4\n",
    "\n",
    "              event            non-event\n",
    "event      true positive    false positive\n",
    "non-event  false negative   true negative"
   ]
  },
  {
   "cell_type": "code",
   "execution_count": 17,
   "id": "loved-latitude",
   "metadata": {
    "execution": {
     "iopub.execute_input": "2021-06-30T17:33:37.183298Z",
     "iopub.status.busy": "2021-06-30T17:33:37.182655Z",
     "iopub.status.idle": "2021-06-30T17:33:37.261219Z",
     "shell.execute_reply": "2021-06-30T17:33:37.260614Z",
     "shell.execute_reply.started": "2021-06-30T17:32:47.960445Z"
    },
    "papermill": {
     "duration": 0.102193,
     "end_time": "2021-06-30T17:33:37.261351",
     "exception": false,
     "start_time": "2021-06-30T17:33:37.159158",
     "status": "completed"
    },
    "tags": []
   },
   "outputs": [
    {
     "name": "stdout",
     "output_type": "stream",
     "text": [
      "[[37  0  0  0  0  0  0  0  0  0]\n",
      " [ 0 40  0  0  0  0  0  0  2  1]\n",
      " [ 0  1 40  3  0  0  0  0  0  0]\n",
      " [ 0  0  0 43  0  0  0  0  1  1]\n",
      " [ 0  0  0  0 37  0  0  1  0  0]\n",
      " [ 0  0  0  0  0 46  0  0  0  2]\n",
      " [ 0  1  0  0  0  0 51  0  0  0]\n",
      " [ 0  0  0  1  1  0  0 46  0  0]\n",
      " [ 0  3  1  0  0  0  0  0 43  1]\n",
      " [ 0  0  0  0  0  1  0  0  1 45]]\n"
     ]
    }
   ],
   "source": [
    "import matplotlib.pyplot as plt\n",
    "import seaborn as sns\n",
    "from sklearn import metrics\n",
    "cm = metrics.confusion_matrix(y_test, predictions)\n",
    "print(cm)"
   ]
  },
  {
   "cell_type": "code",
   "execution_count": 18,
   "id": "massive-peter",
   "metadata": {
    "execution": {
     "iopub.execute_input": "2021-06-30T17:33:37.330365Z",
     "iopub.status.busy": "2021-06-30T17:33:37.329359Z",
     "iopub.status.idle": "2021-06-30T17:33:38.015994Z",
     "shell.execute_reply": "2021-06-30T17:33:38.016469Z",
     "shell.execute_reply.started": "2021-06-30T17:32:48.062027Z"
    },
    "papermill": {
     "duration": 0.733576,
     "end_time": "2021-06-30T17:33:38.016669",
     "exception": false,
     "start_time": "2021-06-30T17:33:37.283093",
     "status": "completed"
    },
    "tags": []
   },
   "outputs": [
    {
     "data": {
      "image/png": "[encoded data removed]",
      "text/plain": [
       "<Figure size 648x648 with 2 Axes>"
      ]
     },
     "metadata": {
      "needs_background": "light"
     },
     "output_type": "display_data"
    }
   ],
   "source": [
    "# A heatmap contains values representing various shades of the same colour for each value to be plotted. \n",
    "plt.figure(figsize=(9,9))\n",
    "sns.heatmap(cm, annot=True, fmt=\".3f\", linewidths=.5, square = True, cmap = 'Blues_r');\n",
    "plt.ylabel('Actual label');\n",
    "plt.xlabel('Predicted label');\n",
    "all_sample_title = 'Accuracy Score: {0}'.format(score)\n",
    "plt.title(all_sample_title, size = 15)\n",
    "plt.show()"
   ]
  }
 ],
 "metadata": {
  "kernelspec": {
   "display_name": "Python 3",
   "language": "python",
   "name": "python3"
  },
  "language_info": {
   "codemirror_mode": {
    "name": "ipython",
    "version": 3
   },
   "file_extension": ".py",
   "mimetype": "text/x-python",
   "name": "python",
   "nbconvert_exporter": "python",
   "pygments_lexer": "ipython3",
   "version": "3.7.10"
  },
  "papermill": {
   "default_parameters": {},
   "duration": 13.832508,
   "end_time": "2021-06-30T17:33:39.582446",
   "environment_variables": {},
   "exception": null,
   "input_path": "__notebook__.ipynb",
   "output_path": "__notebook__.ipynb",
   "parameters": {},
   "start_time": "2021-06-30T17:33:25.749938",
   "version": "2.3.3"
  }
 },
 "nbformat": 4,
 "nbformat_minor": 5
}
