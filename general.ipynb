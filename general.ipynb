{
 "cells": [
  {
   "cell_type": "code",
   "execution_count": 1,
   "id": "476ac0fc",
   "metadata": {
    "execution": {
     "iopub.execute_input": "2021-09-12T06:00:52.486701Z",
     "iopub.status.busy": "2021-09-12T06:00:52.485159Z",
     "iopub.status.idle": "2021-09-12T06:00:52.570635Z",
     "shell.execute_reply": "2021-09-12T06:00:52.570054Z",
     "shell.execute_reply.started": "2021-09-12T05:59:06.254382Z"
    },
    "papermill": {
     "duration": 0.09347,
     "end_time": "2021-09-12T06:00:52.570792",
     "exception": false,
     "start_time": "2021-09-12T06:00:52.477322",
     "status": "completed"
    },
    "tags": []
   },
   "outputs": [],
   "source": [
    "import pynvml\n",
    "pynvml.nvmlInit()"
   ]
  },
  {
   "cell_type": "code",
   "execution_count": 2,
   "id": "d7787ec3",
   "metadata": {
    "execution": {
     "iopub.execute_input": "2021-09-12T06:00:52.595225Z",
     "iopub.status.busy": "2021-09-12T06:00:52.594663Z",
     "iopub.status.idle": "2021-09-12T06:00:52.603439Z",
     "shell.execute_reply": "2021-09-12T06:00:52.603996Z",
     "shell.execute_reply.started": "2021-09-12T05:59:22.538286Z"
    },
    "papermill": {
     "duration": 0.017389,
     "end_time": "2021-09-12T06:00:52.604189",
     "exception": false,
     "start_time": "2021-09-12T06:00:52.586800",
     "status": "completed"
    },
    "tags": []
   },
   "outputs": [
    {
     "name": "stdout",
     "output_type": "stream",
     "text": [
      "Device 0 Tesla P100-PCIE-16GB\n"
     ]
    }
   ],
   "source": [
    "deviceCount = pynvml.nvmlDeviceGetCount()\n",
    "for i in range(deviceCount):\n",
    "    handle = pynvml.nvmlDeviceGetHandleByIndex(i)\n",
    "    print(f\"Device {i} {pynvml.nvmlDeviceGetName(handle).decode()}\")"
   ]
  },
  {
   "cell_type": "code",
   "execution_count": null,
   "id": "bf5432c7",
   "metadata": {
    "papermill": {
     "duration": 0.003001,
     "end_time": "2021-09-12T06:00:52.611694",
     "exception": false,
     "start_time": "2021-09-12T06:00:52.608693",
     "status": "completed"
    },
    "tags": []
   },
   "outputs": [],
   "source": []
  }
 ],
 "metadata": {
  "kernelspec": {
   "display_name": "Python 3",
   "language": "python",
   "name": "python3"
  },
  "language_info": {
   "codemirror_mode": {
    "name": "ipython",
    "version": 3
   },
   "file_extension": ".py",
   "mimetype": "text/x-python",
   "name": "python",
   "nbconvert_exporter": "python",
   "pygments_lexer": "ipython3",
   "version": "3.7.10"
  },
  "papermill": {
   "default_parameters": {},
   "duration": 6.985975,
   "end_time": "2021-09-12T06:00:53.021584",
   "environment_variables": {},
   "exception": null,
   "input_path": "__notebook__.ipynb",
   "output_path": "__notebook__.ipynb",
   "parameters": {},
   "start_time": "2021-09-12T06:00:46.035609",
   "version": "2.3.3"
  }
 },
 "nbformat": 4,
 "nbformat_minor": 5
}
