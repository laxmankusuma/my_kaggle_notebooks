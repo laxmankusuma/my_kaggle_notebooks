{
 "cells": [
  {
   "cell_type": "code",
   "execution_count": 1,
   "id": "304b8470",
   "metadata": {
    "_cell_guid": "b1076dfc-b9ad-4769-8c92-a6c4dae69d19",
    "_uuid": "8f2839f25d086af736a60e9eeb907d3b93b6e0e5",
    "execution": {
     "iopub.execute_input": "2022-05-08T12:14:07.703309Z",
     "iopub.status.busy": "2022-05-08T12:14:07.702947Z",
     "iopub.status.idle": "2022-05-08T12:14:07.720583Z",
     "shell.execute_reply": "2022-05-08T12:14:07.719785Z"
    },
    "papermill": {
     "duration": 0.031544,
     "end_time": "2022-05-08T12:14:07.723876",
     "exception": false,
     "start_time": "2022-05-08T12:14:07.692332",
     "status": "completed"
    },
    "tags": []
   },
   "outputs": [
    {
     "name": "stdout",
     "output_type": "stream",
     "text": [
      "/kaggle/input/money-control/money_control.csv\n"
     ]
    }
   ],
   "source": [
    "# This Python 3 environment comes with many helpful analytics libraries installed\n",
    "# It is defined by the kaggle/python Docker image: https://github.com/kaggle/docker-python\n",
    "# For example, here's several helpful packages to load\n",
    "\n",
    "import numpy as np # linear algebra\n",
    "import pandas as pd # data processing, CSV file I/O (e.g. pd.read_csv)\n",
    "\n",
    "# Input data files are available in the read-only \"../input/\" directory\n",
    "# For example, running this (by clicking run or pressing Shift+Enter) will list all files under the input directory\n",
    "\n",
    "import os\n",
    "for dirname, _, filenames in os.walk('/kaggle/input'):\n",
    "    for filename in filenames:\n",
    "        print(os.path.join(dirname, filename))\n",
    "\n",
    "# You can write up to 20GB to the current directory (/kaggle/working/) that gets preserved as output when you create a version using \"Save & Run All\" \n",
    "# You can also write temporary files to /kaggle/temp/, but they won't be saved outside of the current session"
   ]
  },
  {
   "cell_type": "code",
   "execution_count": 2,
   "id": "440bd7de",
   "metadata": {
    "execution": {
     "iopub.execute_input": "2022-05-08T12:14:07.742112Z",
     "iopub.status.busy": "2022-05-08T12:14:07.741810Z",
     "iopub.status.idle": "2022-05-08T12:14:08.501365Z",
     "shell.execute_reply": "2022-05-08T12:14:08.500177Z"
    },
    "papermill": {
     "duration": 0.771009,
     "end_time": "2022-05-08T12:14:08.503906",
     "exception": false,
     "start_time": "2022-05-08T12:14:07.732897",
     "status": "completed"
    },
    "tags": []
   },
   "outputs": [
    {
     "name": "stdout",
     "output_type": "stream",
     "text": [
      "__notebook__.ipynb\r\n"
     ]
    }
   ],
   "source": [
    "!ls"
   ]
  },
  {
   "cell_type": "markdown",
   "id": "9d07ca6f",
   "metadata": {
    "papermill": {
     "duration": 0.007577,
     "end_time": "2022-05-08T12:14:08.519435",
     "exception": false,
     "start_time": "2022-05-08T12:14:08.511858",
     "status": "completed"
    },
    "tags": []
   },
   "source": [
    "download the latest money control stock market data using below code"
   ]
  },
  {
   "cell_type": "code",
   "execution_count": 3,
   "id": "b8cfcad8",
   "metadata": {
    "execution": {
     "iopub.execute_input": "2022-05-08T12:14:08.536844Z",
     "iopub.status.busy": "2022-05-08T12:14:08.536529Z",
     "iopub.status.idle": "2022-05-08T12:14:41.855995Z",
     "shell.execute_reply": "2022-05-08T12:14:41.855069Z"
    },
    "papermill": {
     "duration": 33.340908,
     "end_time": "2022-05-08T12:14:41.868083",
     "exception": false,
     "start_time": "2022-05-08T12:14:08.527175",
     "status": "completed"
    },
    "tags": []
   },
   "outputs": [
    {
     "name": "stderr",
     "output_type": "stream",
     "text": [
      "/opt/conda/lib/python3.7/site-packages/ipykernel_launcher.py:9: FutureWarning: The default value of regex will change from True to False in a future version.\n",
      "  if __name__ == '__main__':\n",
      "/opt/conda/lib/python3.7/site-packages/pandas/core/indexing.py:1667: SettingWithCopyWarning: \n",
      "A value is trying to be set on a copy of a slice from a DataFrame.\n",
      "Try using .loc[row_indexer,col_indexer] = value instead\n",
      "\n",
      "See the caveats in the documentation: https://pandas.pydata.org/pandas-docs/stable/user_guide/indexing.html#returning-a-view-versus-a-copy\n",
      "  self.obj[key] = value\n",
      "/opt/conda/lib/python3.7/site-packages/ipykernel_launcher.py:10: FutureWarning: The default value of regex will change from True to False in a future version.\n",
      "  # Remove the CWD from sys.path while we load stuff.\n",
      "/opt/conda/lib/python3.7/site-packages/ipykernel_launcher.py:11: FutureWarning: The default value of regex will change from True to False in a future version.\n",
      "  # This is added back by InteractiveShellApp.init_path()\n",
      "/opt/conda/lib/python3.7/site-packages/pandas/core/indexing.py:1773: SettingWithCopyWarning: \n",
      "A value is trying to be set on a copy of a slice from a DataFrame.\n",
      "Try using .loc[row_indexer,col_indexer] = value instead\n",
      "\n",
      "See the caveats in the documentation: https://pandas.pydata.org/pandas-docs/stable/user_guide/indexing.html#returning-a-view-versus-a-copy\n",
      "  self._setitem_single_column(ilocs[0], value, pi)\n",
      "/opt/conda/lib/python3.7/site-packages/ipykernel_launcher.py:12: FutureWarning: The default value of regex will change from True to False in a future version.\n",
      "  if sys.path[0] == '':\n",
      "/opt/conda/lib/python3.7/site-packages/ipykernel_launcher.py:14: FutureWarning: The default value of regex will change from True to False in a future version.\n",
      "  \n"
     ]
    },
    {
     "data": {
      "text/html": [
       "<div>\n",
       "<style scoped>\n",
       "    .dataframe tbody tr th:only-of-type {\n",
       "        vertical-align: middle;\n",
       "    }\n",
       "\n",
       "    .dataframe tbody tr th {\n",
       "        vertical-align: top;\n",
       "    }\n",
       "\n",
       "    .dataframe thead th {\n",
       "        text-align: right;\n",
       "    }\n",
       "</style>\n",
       "<table border=\"1\" class=\"dataframe\">\n",
       "  <thead>\n",
       "    <tr style=\"text-align: right;\">\n",
       "      <th></th>\n",
       "      <th>datetime</th>\n",
       "      <th>title</th>\n",
       "      <th>paragraph</th>\n",
       "      <th>company</th>\n",
       "      <th>company_c</th>\n",
       "    </tr>\n",
       "  </thead>\n",
       "  <tbody>\n",
       "    <tr>\n",
       "      <th>0</th>\n",
       "      <td>May 07, 2022 01:34 PM IST</td>\n",
       "      <td>Neutral TVS Motor Company; target of Rs 650: Motilal Oswal</td>\n",
       "      <td>Motilal Oswal recommended Neutral rating on TVS Motor Company with a target price of Rs 650 in its research report date May 06, 2022.</td>\n",
       "      <td>Motilal Oswal</td>\n",
       "      <td>2</td>\n",
       "    </tr>\n",
       "    <tr>\n",
       "      <th>1</th>\n",
       "      <td>May 07, 2022 01:34 PM IST</td>\n",
       "      <td>Neutral Deepak Nitrite; target of Rs 2320-: Motilal Oswal</td>\n",
       "      <td>Motilal Oswal recommended Neutral rating on Deepak Nitrite with a target price of Rs 2320 in its research report date May 05, 2022.</td>\n",
       "      <td>Motilal Oswal</td>\n",
       "      <td>2</td>\n",
       "    </tr>\n",
       "    <tr>\n",
       "      <th>2</th>\n",
       "      <td>May 07, 2022 01:34 PM IST</td>\n",
       "      <td>Neutral Tata Steel; target of Rs 1440: Motilal Oswal</td>\n",
       "      <td>Motilal Oswal recommended Neutral rating on Tata Steel with a target price of Rs 1440 in its research report date May 05, 2022.</td>\n",
       "      <td>Motilal Oswal</td>\n",
       "      <td>2</td>\n",
       "    </tr>\n",
       "    <tr>\n",
       "      <th>3</th>\n",
       "      <td>May 07, 2022 01:34 PM IST</td>\n",
       "      <td>Neutral Kotak Mahindra Bank; target of Rs 2000: Motilal Oswal</td>\n",
       "      <td>Motilal Oswal recommended Neutral rating on Kotak Mahindra Bank with a target price of Rs 2000 in its research report date May 04, 2022.</td>\n",
       "      <td>Motilal Oswal</td>\n",
       "      <td>2</td>\n",
       "    </tr>\n",
       "    <tr>\n",
       "      <th>4</th>\n",
       "      <td>May 07, 2022 01:34 PM IST</td>\n",
       "      <td>Buy Dabur; target of Rs 630: Motilal Oswal</td>\n",
       "      <td>Motilal Oswal is bullish on Dabur recommended buy rating on the stock with a target price of Rs 630 in its research report dated May 05, 2022.</td>\n",
       "      <td>Motilal Oswal</td>\n",
       "      <td>2</td>\n",
       "    </tr>\n",
       "    <tr>\n",
       "      <th>...</th>\n",
       "      <td>...</td>\n",
       "      <td>...</td>\n",
       "      <td>...</td>\n",
       "      <td>...</td>\n",
       "      <td>...</td>\n",
       "    </tr>\n",
       "    <tr>\n",
       "      <th>512</th>\n",
       "      <td>April 13, 2022 04:05 PM IST</td>\n",
       "      <td>HCL Technologies Q4 PAT may dip 4% QoQ to Rs. 3,304.4 cr: Prabhudas Lilladher</td>\n",
       "      <td>Net Sales are expected to increase by 1.1. percent Q-o-Q (up 15 percent Y-o-Y) to Rs. 22,584.9 crore, according to Prabhudas Lilladher.</td>\n",
       "      <td>Prabhudas Lilladher</td>\n",
       "      <td>2</td>\n",
       "    </tr>\n",
       "    <tr>\n",
       "      <th>513</th>\n",
       "      <td>April 13, 2022 03:16 PM IST</td>\n",
       "      <td>Buy GHCL; target of Rs 898: Arihant Capital</td>\n",
       "      <td>Arihant Capital is bullish on GHCL has recommended buy rating on the stock with a target price of Rs 898 in its research report dated April 13, 2022.</td>\n",
       "      <td>Arihant Capital</td>\n",
       "      <td>2</td>\n",
       "    </tr>\n",
       "    <tr>\n",
       "      <th>514</th>\n",
       "      <td>April 13, 2022 09:10 AM IST</td>\n",
       "      <td>Buy NMDC; target of Rs 220 : Motilal Oswal</td>\n",
       "      <td>Motilal Oswal is bullish on NMDC recommended buy rating on the stock with a target price of Rs 220 in its research report dated April 12, 2022.</td>\n",
       "      <td>Motilal Oswal</td>\n",
       "      <td>2</td>\n",
       "    </tr>\n",
       "    <tr>\n",
       "      <th>515</th>\n",
       "      <td>April 13, 2022 09:02 AM IST</td>\n",
       "      <td>Buy IIFL Wealth Management; target of Rs 2200 : Motilal Oswal</td>\n",
       "      <td>Motilal Oswal is bullish on IIFL Wealth Management recommended buy rating on the stock with a target price of Rs 2200 in its research report dated April 12, 2022.</td>\n",
       "      <td>Motilal Oswal</td>\n",
       "      <td>2</td>\n",
       "    </tr>\n",
       "    <tr>\n",
       "      <th>516</th>\n",
       "      <td>April 13, 2022 08:40 AM IST</td>\n",
       "      <td>Buy GBPINR; target of : 99.55 : ICICI Direct</td>\n",
       "      <td>ICICI Direct, The pound depreciated by 0.16% yesterday amid strong dollar and risk aversion in the global markets.</td>\n",
       "      <td>ICICI Direct</td>\n",
       "      <td>2</td>\n",
       "    </tr>\n",
       "  </tbody>\n",
       "</table>\n",
       "<p>517 rows × 5 columns</p>\n",
       "</div>"
      ],
      "text/plain": [
       "                        datetime  \\\n",
       "0      May 07, 2022 01:34 PM IST   \n",
       "1      May 07, 2022 01:34 PM IST   \n",
       "2      May 07, 2022 01:34 PM IST   \n",
       "3      May 07, 2022 01:34 PM IST   \n",
       "4      May 07, 2022 01:34 PM IST   \n",
       "..                           ...   \n",
       "512  April 13, 2022 04:05 PM IST   \n",
       "513  April 13, 2022 03:16 PM IST   \n",
       "514  April 13, 2022 09:10 AM IST   \n",
       "515  April 13, 2022 09:02 AM IST   \n",
       "516  April 13, 2022 08:40 AM IST   \n",
       "\n",
       "                                                                             title  \\\n",
       "0                       Neutral TVS Motor Company; target of Rs 650: Motilal Oswal   \n",
       "1                        Neutral Deepak Nitrite; target of Rs 2320-: Motilal Oswal   \n",
       "2                             Neutral Tata Steel; target of Rs 1440: Motilal Oswal   \n",
       "3                    Neutral Kotak Mahindra Bank; target of Rs 2000: Motilal Oswal   \n",
       "4                                       Buy Dabur; target of Rs 630: Motilal Oswal   \n",
       "..                                                                             ...   \n",
       "512  HCL Technologies Q4 PAT may dip 4% QoQ to Rs. 3,304.4 cr: Prabhudas Lilladher   \n",
       "513                                    Buy GHCL; target of Rs 898: Arihant Capital   \n",
       "514                                     Buy NMDC; target of Rs 220 : Motilal Oswal   \n",
       "515                  Buy IIFL Wealth Management; target of Rs 2200 : Motilal Oswal   \n",
       "516                                   Buy GBPINR; target of : 99.55 : ICICI Direct   \n",
       "\n",
       "                                                                                                                                                                  paragraph  \\\n",
       "0                                     Motilal Oswal recommended Neutral rating on TVS Motor Company with a target price of Rs 650 in its research report date May 06, 2022.   \n",
       "1                                       Motilal Oswal recommended Neutral rating on Deepak Nitrite with a target price of Rs 2320 in its research report date May 05, 2022.   \n",
       "2                                           Motilal Oswal recommended Neutral rating on Tata Steel with a target price of Rs 1440 in its research report date May 05, 2022.   \n",
       "3                                  Motilal Oswal recommended Neutral rating on Kotak Mahindra Bank with a target price of Rs 2000 in its research report date May 04, 2022.   \n",
       "4                            Motilal Oswal is bullish on Dabur recommended buy rating on the stock with a target price of Rs 630 in its research report dated May 05, 2022.   \n",
       "..                                                                                                                                                                      ...   \n",
       "512                                 Net Sales are expected to increase by 1.1. percent Q-o-Q (up 15 percent Y-o-Y) to Rs. 22,584.9 crore, according to Prabhudas Lilladher.   \n",
       "513                   Arihant Capital is bullish on GHCL has recommended buy rating on the stock with a target price of Rs 898 in its research report dated April 13, 2022.   \n",
       "514                         Motilal Oswal is bullish on NMDC recommended buy rating on the stock with a target price of Rs 220 in its research report dated April 12, 2022.   \n",
       "515      Motilal Oswal is bullish on IIFL Wealth Management recommended buy rating on the stock with a target price of Rs 2200 in its research report dated April 12, 2022.   \n",
       "516                                                      ICICI Direct, The pound depreciated by 0.16% yesterday amid strong dollar and risk aversion in the global markets.   \n",
       "\n",
       "                  company  company_c  \n",
       "0           Motilal Oswal          2  \n",
       "1           Motilal Oswal          2  \n",
       "2           Motilal Oswal          2  \n",
       "3           Motilal Oswal          2  \n",
       "4           Motilal Oswal          2  \n",
       "..                    ...        ...  \n",
       "512   Prabhudas Lilladher          2  \n",
       "513       Arihant Capital          2  \n",
       "514         Motilal Oswal          2  \n",
       "515         Motilal Oswal          2  \n",
       "516          ICICI Direct          2  \n",
       "\n",
       "[517 rows x 5 columns]"
      ]
     },
     "execution_count": 3,
     "metadata": {},
     "output_type": "execute_result"
    }
   ],
   "source": [
    "\n",
    "for x in range(1, 30): # 1 is 1st page to 30 is last page (modify this numbers according to ur requirement)\n",
    "# for x in range(1, 6):\n",
    "  #url=\"https://www.moneycontrol.com/news/business/stocks/%d\"\n",
    "  url2 = \"https://www.moneycontrol.com/news/business/stocks/page-%d/\" % (x)\n",
    "  c=pd.read_csv(url2,sep='\\n',header=1)\n",
    "  c.rename(columns={'            \"@context\": \"https://schema.org\",': 'newName1'}, inplace=True)\n",
    "  xyx = c[c.newName1.str.contains(' IST', regex= True, na=False)]\n",
    "  pd.set_option('display.max_colwidth', None)\n",
    "  xyx.loc[:,'datetime'] = xyx['newName1'].str.replace('(.*)(<span>)(.*)(IST)(</span>)(.*)',r'\\3\\4')\n",
    "  xyx.loc[:,'title'] = xyx['newName1'].str.replace('(.*)(title=\\\")(.*)(</a></h2>)(.*)',r'\\3')\n",
    "  xyx.loc[:,'title'] = xyx['title'].str.replace('(.*)(\\\" >)(.*)',r'\\1')\n",
    "  xyx.loc[:,'paragraph'] = xyx['newName1'].str.replace('(.*)(</a></h2>)(.*)(</p>)(.*)',r'\\3')\n",
    "  xyx.loc[:,'paragraph'] = xyx['paragraph'].str.replace('<p>','')\n",
    "  xyx.loc[:,'company'] = xyx['title'].str.replace('(.*)(:)(.*)',r'\\3')\n",
    "  xyx.loc[:,'company_c'] = xyx['company'].str.count(' ')\n",
    "  del xyx['newName1']\n",
    "  if x==1:\n",
    "    xyx[xyx.company_c < 5].to_csv('money_control.csv', sep='|',header=True, encoding='utf-8', index=False)\n",
    "  else:    \n",
    "    xyx[xyx.company_c < 5].to_csv('money_control.csv', sep='|',mode='a', header=False, encoding='utf-8', index=False)\n",
    "pd.read_csv('money_control.csv', sep='|').head(2500)"
   ]
  },
  {
   "cell_type": "code",
   "execution_count": 4,
   "id": "8180f124",
   "metadata": {
    "execution": {
     "iopub.execute_input": "2022-05-08T12:14:41.888093Z",
     "iopub.status.busy": "2022-05-08T12:14:41.887492Z",
     "iopub.status.idle": "2022-05-08T12:14:42.639589Z",
     "shell.execute_reply": "2022-05-08T12:14:42.638826Z"
    },
    "papermill": {
     "duration": 0.764768,
     "end_time": "2022-05-08T12:14:42.641817",
     "exception": false,
     "start_time": "2022-05-08T12:14:41.877049",
     "status": "completed"
    },
    "tags": []
   },
   "outputs": [
    {
     "name": "stdout",
     "output_type": "stream",
     "text": [
      "__notebook__.ipynb  money_control.csv\r\n"
     ]
    }
   ],
   "source": [
    "!ls"
   ]
  },
  {
   "cell_type": "code",
   "execution_count": null,
   "id": "f64131ae",
   "metadata": {
    "papermill": {
     "duration": 0.009165,
     "end_time": "2022-05-08T12:14:42.660404",
     "exception": false,
     "start_time": "2022-05-08T12:14:42.651239",
     "status": "completed"
    },
    "tags": []
   },
   "outputs": [],
   "source": []
  }
 ],
 "metadata": {
  "kernelspec": {
   "display_name": "Python 3",
   "language": "python",
   "name": "python3"
  },
  "language_info": {
   "codemirror_mode": {
    "name": "ipython",
    "version": 3
   },
   "file_extension": ".py",
   "mimetype": "text/x-python",
   "name": "python",
   "nbconvert_exporter": "python",
   "pygments_lexer": "ipython3",
   "version": "3.7.12"
  },
  "papermill": {
   "default_parameters": {},
   "duration": 45.738899,
   "end_time": "2022-05-08T12:14:43.391849",
   "environment_variables": {},
   "exception": null,
   "input_path": "__notebook__.ipynb",
   "output_path": "__notebook__.ipynb",
   "parameters": {},
   "start_time": "2022-05-08T12:13:57.652950",
   "version": "2.3.4"
  }
 },
 "nbformat": 4,
 "nbformat_minor": 5
}
