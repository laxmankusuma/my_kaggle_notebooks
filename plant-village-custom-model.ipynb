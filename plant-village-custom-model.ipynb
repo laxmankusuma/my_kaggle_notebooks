{
 "cells": [
  {
   "cell_type": "code",
   "execution_count": 1,
   "metadata": {
    "_cell_guid": "79c7e3d0-c299-4dcb-8224-4455121ee9b0",
    "_uuid": "d629ff2d2480ee46fbb7e2d37f6b5fab8052498a",
    "execution": {
     "iopub.execute_input": "2021-09-22T18:44:36.776142Z",
     "iopub.status.busy": "2021-09-22T18:44:36.775315Z",
     "iopub.status.idle": "2021-09-22T18:44:41.850482Z",
     "shell.execute_reply": "2021-09-22T18:44:41.849176Z",
     "shell.execute_reply.started": "2021-09-22T18:11:37.177735Z"
    },
    "papermill": {
     "duration": 5.100008,
     "end_time": "2021-09-22T18:44:41.850604",
     "exception": false,
     "start_time": "2021-09-22T18:44:36.750596",
     "status": "completed"
    },
    "tags": []
   },
   "outputs": [],
   "source": [
    "import tensorflow as tf\n",
    "from tensorflow.keras.layers import Flatten,Activation,Dense,Conv2D,MaxPooling2D,Dropout\n",
    "from tensorflow.keras.models import Sequential\n",
    "from tensorflow.keras.layers import BatchNormalization\n",
    "from tensorflow.keras import regularizers\n",
    "from sklearn.model_selection import train_test_split\n",
    "from tensorflow.keras.preprocessing.image import ImageDataGenerator\n",
    "from tensorflow import keras\n",
    "from tensorflow.keras.models import Model\n",
    "import cv2                 # working with, mainly resizing, images\n",
    "import numpy as np         # dealing with arrays\n",
    "import os                  # dealing with directories\n",
    "from random import shuffle # mixing up or currently ordered data that might lead our network astray in training.\n",
    "from tqdm import tqdm      # a nice pretty percentage bar for tasks. \\\n",
    "import matplotlib.pyplot as plt\n",
    "import time \n",
    "\n",
    "TRAIN_DIR ='/kaggle/input/plantdisease/PlantVillage'#path of dataset\n",
    "IMG_SIZE =128\n",
    "input_shape=(IMG_SIZE,IMG_SIZE,3)"
   ]
  },
  {
   "cell_type": "code",
   "execution_count": 2,
   "metadata": {
    "execution": {
     "iopub.execute_input": "2021-09-22T18:44:41.896206Z",
     "iopub.status.busy": "2021-09-22T18:44:41.895662Z",
     "iopub.status.idle": "2021-09-22T18:45:20.829065Z",
     "shell.execute_reply": "2021-09-22T18:45:20.827958Z",
     "shell.execute_reply.started": "2021-09-22T18:11:42.290410Z"
    },
    "papermill": {
     "duration": 38.962055,
     "end_time": "2021-09-22T18:45:20.829192",
     "exception": false,
     "start_time": "2021-09-22T18:44:41.867137",
     "status": "completed"
    },
    "tags": []
   },
   "outputs": [],
   "source": [
    "def label_imgv2(word_label):\n",
    "    if word_label == 'Pepper__bell___Bacterial_spot': return 0\n",
    "    elif word_label == 'Pepper__bell___healthy': return 1\n",
    "    elif word_label == 'Potato___Early_blight': return 2\n",
    "    elif word_label == 'Potato___healthy': return 3\n",
    "    elif word_label == 'Potato___Late_blight': return 4\n",
    "    elif word_label == 'Tomato__Target_Spot': return 5\n",
    "    elif word_label == 'Tomato__Tomato_mosaic_virus': return 6\n",
    "    elif word_label == 'Tomato__Tomato_YellowLeaf__Curl_Virus': return 7\n",
    "    elif word_label == 'Tomato_Bacterial_spot': return 8\n",
    "    elif word_label == 'Tomato_Early_blight': return 9\n",
    "    elif word_label == 'Tomato_healthy': return 10\n",
    "    elif word_label == 'Tomato_Late_blight': return 11\n",
    "    elif word_label == 'Tomato_Leaf_Mold': return 12\n",
    "    elif word_label == 'Tomato_Septoria_leaf_spot': return 13\n",
    "    elif word_label == 'Tomato_Spider_mites_Two_spotted_spider_mite': return 14\n",
    "\n",
    "def create_train_data():\n",
    "    training_data = []\n",
    "    \n",
    "    for folder in os.listdir(TRAIN_DIR):\n",
    "        i=0\n",
    "        for img in os.listdir(TRAIN_DIR+\"/\"+folder):\n",
    "            i+=1\n",
    "            path = os.path.join(TRAIN_DIR+\"/\"+folder,img)\n",
    "            \n",
    "            try:\n",
    "                label = label_imgv2(folder)\n",
    "                img = cv2.imread(path,cv2.IMREAD_COLOR)\n",
    "                img = cv2.resize(img, (IMG_SIZE,IMG_SIZE))\n",
    "                training_data.append([np.array(img),np.array(label)])\n",
    "            \n",
    "            except:\n",
    "                print(path)\n",
    "            if i==500:\n",
    "                break\n",
    "\n",
    "    shuffle(training_data)\n",
    "    return training_data\n",
    "\n",
    "train_data = create_train_data()"
   ]
  },
  {
   "cell_type": "code",
   "execution_count": 3,
   "metadata": {
    "execution": {
     "iopub.execute_input": "2021-09-22T18:45:20.864485Z",
     "iopub.status.busy": "2021-09-22T18:45:20.863982Z",
     "iopub.status.idle": "2021-09-22T18:45:20.872022Z",
     "shell.execute_reply": "2021-09-22T18:45:20.871547Z",
     "shell.execute_reply.started": "2021-09-22T18:12:30.342232Z"
    },
    "papermill": {
     "duration": 0.026766,
     "end_time": "2021-09-22T18:45:20.872113",
     "exception": false,
     "start_time": "2021-09-22T18:45:20.845347",
     "status": "completed"
    },
    "tags": []
   },
   "outputs": [
    {
     "data": {
      "text/plain": [
       "['Pepper__bell___Bacterial_spot',\n",
       " 'Potato___healthy',\n",
       " 'Tomato_Leaf_Mold',\n",
       " 'Tomato__Tomato_YellowLeaf__Curl_Virus',\n",
       " 'Tomato_Bacterial_spot',\n",
       " 'Tomato_Septoria_leaf_spot',\n",
       " 'Tomato_healthy',\n",
       " 'Tomato_Spider_mites_Two_spotted_spider_mite',\n",
       " 'Tomato_Early_blight',\n",
       " 'Tomato__Target_Spot',\n",
       " 'Pepper__bell___healthy',\n",
       " 'Potato___Late_blight',\n",
       " 'Tomato_Late_blight',\n",
       " 'Potato___Early_blight',\n",
       " 'Tomato__Tomato_mosaic_virus']"
      ]
     },
     "execution_count": 3,
     "metadata": {},
     "output_type": "execute_result"
    }
   ],
   "source": [
    "os.listdir('/kaggle/input/plantdisease/PlantVillage/')"
   ]
  },
  {
   "cell_type": "code",
   "execution_count": 4,
   "metadata": {
    "execution": {
     "iopub.execute_input": "2021-09-22T18:45:20.914594Z",
     "iopub.status.busy": "2021-09-22T18:45:20.913456Z",
     "iopub.status.idle": "2021-09-22T18:45:21.024698Z",
     "shell.execute_reply": "2021-09-22T18:45:21.025178Z",
     "shell.execute_reply.started": "2021-09-22T18:12:30.353227Z"
    },
    "papermill": {
     "duration": 0.136853,
     "end_time": "2021-09-22T18:45:21.025308",
     "exception": false,
     "start_time": "2021-09-22T18:45:20.888455",
     "status": "completed"
    },
    "tags": []
   },
   "outputs": [
    {
     "data": {
      "text/plain": [
       "(7025, 128, 128, 3)"
      ]
     },
     "execution_count": 4,
     "metadata": {},
     "output_type": "execute_result"
    }
   ],
   "source": [
    "train_y=np.array([i[1] for i in train_data])\n",
    "train_x=np.array([i[0] for i in train_data]).reshape(-1,IMG_SIZE,IMG_SIZE,3)\n",
    "\n",
    "train_x.shape"
   ]
  },
  {
   "cell_type": "code",
   "execution_count": 5,
   "metadata": {
    "execution": {
     "iopub.execute_input": "2021-09-22T18:45:21.063882Z",
     "iopub.status.busy": "2021-09-22T18:45:21.062863Z",
     "iopub.status.idle": "2021-09-22T18:45:22.673791Z",
     "shell.execute_reply": "2021-09-22T18:45:22.673173Z",
     "shell.execute_reply.started": "2021-09-22T18:12:30.480028Z"
    },
    "papermill": {
     "duration": 1.632188,
     "end_time": "2021-09-22T18:45:22.673919",
     "exception": false,
     "start_time": "2021-09-22T18:45:21.041731",
     "status": "completed"
    },
    "tags": []
   },
   "outputs": [],
   "source": [
    "train_x=train_x/255\n",
    "x_train,x_test,y_train,y_test=train_test_split(train_x,train_y,test_size=0.2)"
   ]
  },
  {
   "cell_type": "code",
   "execution_count": 6,
   "metadata": {
    "execution": {
     "iopub.execute_input": "2021-09-22T18:45:22.713842Z",
     "iopub.status.busy": "2021-09-22T18:45:22.712798Z",
     "iopub.status.idle": "2021-09-22T18:45:23.233997Z",
     "shell.execute_reply": "2021-09-22T18:45:23.234425Z",
     "shell.execute_reply.started": "2021-09-22T18:12:32.252039Z"
    },
    "papermill": {
     "duration": 0.543893,
     "end_time": "2021-09-22T18:45:23.234566",
     "exception": false,
     "start_time": "2021-09-22T18:45:22.690673",
     "status": "completed"
    },
    "tags": []
   },
   "outputs": [],
   "source": [
    "train_datagen = ImageDataGenerator(zoom_range=0.1, rotation_range=50,\n",
    "                                   width_shift_range=0.1, height_shift_range=0.1, shear_range=0.2, \n",
    "                                   horizontal_flip=True, fill_mode='nearest')\n",
    "\n",
    "val_datagen = ImageDataGenerator()\n",
    "train_generator = train_datagen.flow(x_train, y_train, batch_size=32)\n",
    "val_generator = val_datagen.flow(x_test, y_test, batch_size=20)"
   ]
  },
  {
   "cell_type": "code",
   "execution_count": 7,
   "metadata": {
    "execution": {
     "iopub.execute_input": "2021-09-22T18:45:23.282168Z",
     "iopub.status.busy": "2021-09-22T18:45:23.281628Z",
     "iopub.status.idle": "2021-09-22T18:45:25.397639Z",
     "shell.execute_reply": "2021-09-22T18:45:25.396501Z",
     "shell.execute_reply.started": "2021-09-22T18:12:32.795099Z"
    },
    "papermill": {
     "duration": 2.145383,
     "end_time": "2021-09-22T18:45:25.397821",
     "exception": false,
     "start_time": "2021-09-22T18:45:23.252438",
     "status": "completed"
    },
    "tags": []
   },
   "outputs": [
    {
     "name": "stdout",
     "output_type": "stream",
     "text": [
      "Model: \"sequential\"\n",
      "_________________________________________________________________\n",
      "Layer (type)                 Output Shape              Param #   \n",
      "=================================================================\n",
      "conv2d (Conv2D)              (None, 126, 126, 32)      896       \n",
      "_________________________________________________________________\n",
      "batch_normalization (BatchNo (None, 126, 126, 32)      504       \n",
      "_________________________________________________________________\n",
      "max_pooling2d (MaxPooling2D) (None, 63, 63, 32)        0         \n",
      "_________________________________________________________________\n",
      "conv2d_1 (Conv2D)            (None, 61, 61, 64)        18496     \n",
      "_________________________________________________________________\n",
      "batch_normalization_1 (Batch (None, 61, 61, 64)        244       \n",
      "_________________________________________________________________\n",
      "max_pooling2d_1 (MaxPooling2 (None, 30, 30, 64)        0         \n",
      "_________________________________________________________________\n",
      "conv2d_2 (Conv2D)            (None, 28, 28, 64)        36928     \n",
      "_________________________________________________________________\n",
      "batch_normalization_2 (Batch (None, 28, 28, 64)        112       \n",
      "_________________________________________________________________\n",
      "max_pooling2d_2 (MaxPooling2 (None, 14, 14, 64)        0         \n",
      "_________________________________________________________________\n",
      "conv2d_3 (Conv2D)            (None, 12, 12, 32)        18464     \n",
      "_________________________________________________________________\n",
      "batch_normalization_3 (Batch (None, 12, 12, 32)        48        \n",
      "_________________________________________________________________\n",
      "max_pooling2d_3 (MaxPooling2 (None, 6, 6, 32)          0         \n",
      "_________________________________________________________________\n",
      "flatten (Flatten)            (None, 1152)              0         \n",
      "_________________________________________________________________\n",
      "dense (Dense)                (None, 512)               590336    \n",
      "_________________________________________________________________\n",
      "dropout (Dropout)            (None, 512)               0         \n",
      "_________________________________________________________________\n",
      "dense_1 (Dense)              (None, 512)               262656    \n",
      "_________________________________________________________________\n",
      "dropout_1 (Dropout)          (None, 512)               0         \n",
      "_________________________________________________________________\n",
      "dense_2 (Dense)              (None, 15)                7695      \n",
      "=================================================================\n",
      "Total params: 936,379\n",
      "Trainable params: 935,925\n",
      "Non-trainable params: 454\n",
      "_________________________________________________________________\n"
     ]
    }
   ],
   "source": [
    "model = Sequential()\n",
    "\n",
    "model.add(Conv2D(32, kernel_size=(3, 3), activation='relu', \n",
    "                 input_shape=(IMG_SIZE,IMG_SIZE,3)))\n",
    "model.add(BatchNormalization(axis=1))\n",
    "model.add(MaxPooling2D(pool_size=(2, 2)))\n",
    "\n",
    "model.add(Conv2D(64, kernel_size=(3, 3), activation='relu'))\n",
    "model.add(BatchNormalization(axis=1))\n",
    "model.add(MaxPooling2D(pool_size=(2, 2)))\n",
    "\n",
    "#model.add(Conv2D(128, kernel_size=(3, 3), activation='relu'))\n",
    "#model.add(MaxPooling2D(pool_size=(2, 2)))\n",
    "\n",
    "model.add(Conv2D(64, kernel_size=(3, 3), activation='relu'))\n",
    "model.add(BatchNormalization(axis=1))\n",
    "model.add(MaxPooling2D(pool_size=(2, 2)))\n",
    "\n",
    "model.add(Conv2D(32, kernel_size=(3, 3), activation='relu'))\n",
    "model.add(BatchNormalization(axis=1))\n",
    "model.add(MaxPooling2D(pool_size=(2, 2)))\n",
    "\n",
    "model.add(Flatten())\n",
    "model.add(Dense(512, activation='relu'))\n",
    "model.add(Dropout(0.2))\n",
    "model.add(Dense(512, activation='relu'))\n",
    "model.add(Dropout(0.2))\n",
    "model.add(Dense(15, activation='softmax'))\n",
    "\n",
    "opt = tf.keras.optimizers.Adam(learning_rate=0.0001)\n",
    "model.compile(loss='sparse_categorical_crossentropy',optimizer=opt,metrics=['accuracy'])\n",
    "model.summary()\n",
    "\n"
   ]
  },
  {
   "cell_type": "code",
   "execution_count": 8,
   "metadata": {
    "execution": {
     "iopub.execute_input": "2021-09-22T18:45:25.439081Z",
     "iopub.status.busy": "2021-09-22T18:45:25.438378Z",
     "iopub.status.idle": "2021-09-22T18:46:24.083098Z",
     "shell.execute_reply": "2021-09-22T18:46:24.082227Z",
     "shell.execute_reply.started": "2021-09-22T18:12:34.964754Z"
    },
    "papermill": {
     "duration": 58.666726,
     "end_time": "2021-09-22T18:46:24.083216",
     "exception": false,
     "start_time": "2021-09-22T18:45:25.416490",
     "status": "completed"
    },
    "tags": []
   },
   "outputs": [
    {
     "name": "stdout",
     "output_type": "stream",
     "text": [
      "Epoch 1/20\n",
      "88/88 [==============================] - 3s 38ms/step - loss: 2.2019 - accuracy: 0.3014 - val_loss: 2.8712 - val_accuracy: 0.0641\n",
      "Epoch 2/20\n",
      "88/88 [==============================] - 3s 31ms/step - loss: 1.3554 - accuracy: 0.5692 - val_loss: 4.0023 - val_accuracy: 0.1046\n",
      "Epoch 3/20\n",
      "88/88 [==============================] - 3s 30ms/step - loss: 0.9541 - accuracy: 0.6792 - val_loss: 5.0265 - val_accuracy: 0.1359\n",
      "Epoch 4/20\n",
      "88/88 [==============================] - 3s 30ms/step - loss: 0.7662 - accuracy: 0.7464 - val_loss: 4.8600 - val_accuracy: 0.1630\n",
      "Epoch 5/20\n",
      "88/88 [==============================] - 3s 30ms/step - loss: 0.6456 - accuracy: 0.7843 - val_loss: 3.4761 - val_accuracy: 0.2356\n",
      "Epoch 6/20\n",
      "88/88 [==============================] - 3s 30ms/step - loss: 0.5082 - accuracy: 0.8365 - val_loss: 1.1796 - val_accuracy: 0.6021\n",
      "Epoch 7/20\n",
      "88/88 [==============================] - 3s 31ms/step - loss: 0.4656 - accuracy: 0.8434 - val_loss: 0.7332 - val_accuracy: 0.7445\n",
      "Epoch 8/20\n",
      "88/88 [==============================] - 3s 30ms/step - loss: 0.3698 - accuracy: 0.8790 - val_loss: 0.4948 - val_accuracy: 0.8349\n",
      "Epoch 9/20\n",
      "88/88 [==============================] - 3s 29ms/step - loss: 0.3392 - accuracy: 0.8913 - val_loss: 0.4557 - val_accuracy: 0.8527\n",
      "Epoch 10/20\n",
      "88/88 [==============================] - 3s 30ms/step - loss: 0.2743 - accuracy: 0.9094 - val_loss: 0.4482 - val_accuracy: 0.8541\n",
      "Epoch 11/20\n",
      "88/88 [==============================] - 3s 31ms/step - loss: 0.2622 - accuracy: 0.9146 - val_loss: 0.4385 - val_accuracy: 0.8584\n",
      "Epoch 12/20\n",
      "88/88 [==============================] - 3s 30ms/step - loss: 0.2138 - accuracy: 0.9361 - val_loss: 0.3995 - val_accuracy: 0.8641\n",
      "Epoch 13/20\n",
      "88/88 [==============================] - 3s 30ms/step - loss: 0.1741 - accuracy: 0.9452 - val_loss: 0.4054 - val_accuracy: 0.8719\n",
      "Epoch 14/20\n",
      "88/88 [==============================] - 3s 32ms/step - loss: 0.1707 - accuracy: 0.9470 - val_loss: 0.4387 - val_accuracy: 0.8569\n",
      "Epoch 15/20\n",
      "88/88 [==============================] - 3s 31ms/step - loss: 0.1558 - accuracy: 0.9525 - val_loss: 0.3767 - val_accuracy: 0.8790\n",
      "Epoch 16/20\n",
      "88/88 [==============================] - 3s 30ms/step - loss: 0.1168 - accuracy: 0.9642 - val_loss: 0.3976 - val_accuracy: 0.8747\n",
      "Epoch 17/20\n",
      "88/88 [==============================] - 3s 30ms/step - loss: 0.1007 - accuracy: 0.9738 - val_loss: 0.3796 - val_accuracy: 0.8861\n",
      "Epoch 18/20\n",
      "88/88 [==============================] - 3s 29ms/step - loss: 0.0800 - accuracy: 0.9758 - val_loss: 0.4187 - val_accuracy: 0.8790\n",
      "Epoch 19/20\n",
      "88/88 [==============================] - 3s 29ms/step - loss: 0.0900 - accuracy: 0.9735 - val_loss: 0.3849 - val_accuracy: 0.8797\n",
      "Epoch 20/20\n",
      "88/88 [==============================] - 3s 30ms/step - loss: 0.0724 - accuracy: 0.9808 - val_loss: 0.3717 - val_accuracy: 0.8868\n"
     ]
    }
   ],
   "source": [
    "custom=model.fit(x_train,y_train,epochs=20,batch_size=64,validation_data=(x_test,y_test))"
   ]
  },
  {
   "cell_type": "code",
   "execution_count": 9,
   "metadata": {
    "execution": {
     "iopub.execute_input": "2021-09-22T18:46:24.609971Z",
     "iopub.status.busy": "2021-09-22T18:46:24.609408Z",
     "iopub.status.idle": "2021-09-22T18:46:24.809933Z",
     "shell.execute_reply": "2021-09-22T18:46:24.810363Z",
     "shell.execute_reply.started": "2021-09-22T18:13:32.796141Z"
    },
    "papermill": {
     "duration": 0.464066,
     "end_time": "2021-09-22T18:46:24.810485",
     "exception": false,
     "start_time": "2021-09-22T18:46:24.346419",
     "status": "completed"
    },
    "tags": []
   },
   "outputs": [
    {
     "data": {
      "image/png": "[encoded data removed]",
      "text/plain": [
       "<Figure size 432x288 with 1 Axes>"
      ]
     },
     "metadata": {
      "needs_background": "light"
     },
     "output_type": "display_data"
    }
   ],
   "source": [
    "plt.plot(custom.history['loss'])\n",
    "plt.plot(custom.history['val_loss'])\n",
    "plt.title(\"Model Loss\")\n",
    "plt.xlabel('Epochs')\n",
    "plt.ylabel('Loss')\n",
    "plt.legend(['Train', 'Test'])\n",
    "plt.show()"
   ]
  },
  {
   "cell_type": "code",
   "execution_count": 10,
   "metadata": {
    "execution": {
     "iopub.execute_input": "2021-09-22T18:46:25.347378Z",
     "iopub.status.busy": "2021-09-22T18:46:25.346095Z",
     "iopub.status.idle": "2021-09-22T18:46:25.481668Z",
     "shell.execute_reply": "2021-09-22T18:46:25.482218Z",
     "shell.execute_reply.started": "2021-09-22T18:13:32.998298Z"
    },
    "papermill": {
     "duration": 0.40592,
     "end_time": "2021-09-22T18:46:25.482351",
     "exception": false,
     "start_time": "2021-09-22T18:46:25.076431",
     "status": "completed"
    },
    "tags": []
   },
   "outputs": [
    {
     "data": {
      "image/png": "[encoded data removed]",
      "text/plain": [
       "<Figure size 432x288 with 1 Axes>"
      ]
     },
     "metadata": {
      "needs_background": "light"
     },
     "output_type": "display_data"
    }
   ],
   "source": [
    "plt.plot(custom.history['accuracy'])\n",
    "plt.plot(custom.history['val_accuracy'])\n",
    "plt.title(\"Model Accuracy\")\n",
    "plt.xlabel('Epochs')\n",
    "plt.ylabel('Accuracy')\n",
    "plt.legend(['Train', 'Test'])\n",
    "plt.show()"
   ]
  },
  {
   "cell_type": "code",
   "execution_count": 11,
   "metadata": {
    "execution": {
     "iopub.execute_input": "2021-09-22T18:46:26.021195Z",
     "iopub.status.busy": "2021-09-22T18:46:26.020103Z",
     "iopub.status.idle": "2021-09-22T18:46:26.743103Z",
     "shell.execute_reply": "2021-09-22T18:46:26.742491Z",
     "shell.execute_reply.started": "2021-09-22T18:13:33.147177Z"
    },
    "papermill": {
     "duration": 0.989213,
     "end_time": "2021-09-22T18:46:26.743256",
     "exception": false,
     "start_time": "2021-09-22T18:46:25.754043",
     "status": "completed"
    },
    "tags": []
   },
   "outputs": [
    {
     "data": {
      "text/plain": [
       "array([[7.3101642e-06, 1.9192639e-04, 4.6113382e-06, ..., 1.6114413e-03,\n",
       "        7.8439152e-05, 2.7902192e-04],\n",
       "       [4.8544700e-07, 1.3481302e-07, 2.9116075e-06, ..., 1.0362689e-05,\n",
       "        6.1450969e-06, 1.7959060e-02],\n",
       "       [1.4721852e-06, 2.6718728e-05, 5.7182605e-09, ..., 1.0110064e-05,\n",
       "        2.1474629e-05, 6.3232549e-02],\n",
       "       ...,\n",
       "       [2.0098001e-07, 2.3725802e-06, 1.1953815e-06, ..., 8.5372440e-06,\n",
       "        5.4826720e-05, 2.5353082e-03],\n",
       "       [1.0041104e-05, 1.0041692e-06, 7.1179688e-06, ..., 6.1287355e-05,\n",
       "        8.4181367e-05, 9.8692733e-01],\n",
       "       [1.3108998e-05, 1.1011996e-07, 4.6518160e-04, ..., 1.7793475e-06,\n",
       "        3.0470062e-05, 1.4385622e-04]], dtype=float32)"
      ]
     },
     "execution_count": 11,
     "metadata": {},
     "output_type": "execute_result"
    }
   ],
   "source": [
    "predictions = model.predict(x_test)\n",
    "predictions"
   ]
  },
  {
   "cell_type": "code",
   "execution_count": 12,
   "metadata": {
    "execution": {
     "iopub.execute_input": "2021-09-22T18:46:27.279607Z",
     "iopub.status.busy": "2021-09-22T18:46:27.278615Z",
     "iopub.status.idle": "2021-09-22T18:46:27.287171Z",
     "shell.execute_reply": "2021-09-22T18:46:27.286742Z",
     "shell.execute_reply.started": "2021-09-22T18:13:33.899567Z"
    },
    "papermill": {
     "duration": 0.275675,
     "end_time": "2021-09-22T18:46:27.287269",
     "exception": false,
     "start_time": "2021-09-22T18:46:27.011594",
     "status": "completed"
    },
    "tags": []
   },
   "outputs": [],
   "source": [
    "y_preds = [np.argmax(i) for i in predictions]"
   ]
  },
  {
   "cell_type": "code",
   "execution_count": 13,
   "metadata": {
    "execution": {
     "iopub.execute_input": "2021-09-22T18:46:27.812146Z",
     "iopub.status.busy": "2021-09-22T18:46:27.810945Z",
     "iopub.status.idle": "2021-09-22T18:46:27.829381Z",
     "shell.execute_reply": "2021-09-22T18:46:27.829809Z",
     "shell.execute_reply.started": "2021-09-22T18:13:33.914511Z"
    },
    "papermill": {
     "duration": 0.283247,
     "end_time": "2021-09-22T18:46:27.829985",
     "exception": false,
     "start_time": "2021-09-22T18:46:27.546738",
     "status": "completed"
    },
    "tags": []
   },
   "outputs": [
    {
     "name": "stdout",
     "output_type": "stream",
     "text": [
      "[[ 83   8   3   0   0   0   0   4   2   2   0   2   0   1   0]\n",
      " [  1  96   0   0   0   0   0   0   0   0   0   0   0   1   0]\n",
      " [  1   0  81   0   4   0   0   0   0   0   0   1   0   0   0]\n",
      " [  0   2   0  21   1   0   0   1   0   0   0   0   1   0   0]\n",
      " [  0   0   0   0 102   0   0   0   2   2   0   1   1   0   0]\n",
      " [  0   0   0   0   2  89   0   0   2   2   1   1   0   1  10]\n",
      " [  0   0   0   0   0   0  75   0   0   0   0   0   0   0   0]\n",
      " [  0   0   0   0   0   0   0 104   1   4   0   1   0   0   1]\n",
      " [  1   1   0   0   0   0   0   0  84   2   0   2   0   0   0]\n",
      " [  0   1   0   0   4   2   0   2   3  77   0   3   0   1   3]\n",
      " [  0   0   0   0   0   1   0   0   0   0 102   0   0   0   0]\n",
      " [  1   1   4   0   5   2   0   0   1  10   0  84   2   0   0]\n",
      " [  0   0   0   0   2   0   0   0   0   2   0   0 100   1   0]\n",
      " [  1   1   3   0   1   1   3   2   1   4   0   0   6  58   2]\n",
      " [  0   1   0   0   1   6   0   1   0   1   0   0   0   0  90]]\n",
      "              precision    recall  f1-score   support\n",
      "\n",
      "           0       0.94      0.79      0.86       105\n",
      "           1       0.86      0.98      0.92        98\n",
      "           2       0.89      0.93      0.91        87\n",
      "           3       1.00      0.81      0.89        26\n",
      "           4       0.84      0.94      0.89       108\n",
      "           5       0.88      0.82      0.85       108\n",
      "           6       0.96      1.00      0.98        75\n",
      "           7       0.91      0.94      0.92       111\n",
      "           8       0.88      0.93      0.90        90\n",
      "           9       0.73      0.80      0.76        96\n",
      "          10       0.99      0.99      0.99       103\n",
      "          11       0.88      0.76      0.82       110\n",
      "          12       0.91      0.95      0.93       105\n",
      "          13       0.92      0.70      0.79        83\n",
      "          14       0.85      0.90      0.87       100\n",
      "\n",
      "    accuracy                           0.89      1405\n",
      "   macro avg       0.90      0.88      0.89      1405\n",
      "weighted avg       0.89      0.89      0.89      1405\n",
      "\n"
     ]
    }
   ],
   "source": [
    "from sklearn import metrics\n",
    "print(metrics.confusion_matrix(y_test,y_preds))\n",
    "print(metrics.classification_report(y_test,y_preds))"
   ]
  },
  {
   "cell_type": "code",
   "execution_count": 14,
   "metadata": {
    "execution": {
     "iopub.execute_input": "2021-09-22T18:46:28.358526Z",
     "iopub.status.busy": "2021-09-22T18:46:28.357729Z",
     "iopub.status.idle": "2021-09-22T19:05:08.076804Z",
     "shell.execute_reply": "2021-09-22T19:05:08.077222Z",
     "shell.execute_reply.started": "2021-09-22T18:13:33.939477Z"
    },
    "papermill": {
     "duration": 1119.984371,
     "end_time": "2021-09-22T19:05:08.077367",
     "exception": false,
     "start_time": "2021-09-22T18:46:28.092996",
     "status": "completed"
    },
    "tags": []
   },
   "outputs": [
    {
     "name": "stdout",
     "output_type": "stream",
     "text": [
      "Epoch 1/50\n",
      "176/176 [==============================] - 22s 123ms/step - loss: 0.9083 - accuracy: 0.7116 - val_loss: 0.5643 - val_accuracy: 0.8078\n",
      "Epoch 2/50\n",
      "176/176 [==============================] - 21s 121ms/step - loss: 0.6793 - accuracy: 0.7721 - val_loss: 0.9455 - val_accuracy: 0.7068\n",
      "Epoch 3/50\n",
      "176/176 [==============================] - 22s 123ms/step - loss: 0.5814 - accuracy: 0.8037 - val_loss: 0.6993 - val_accuracy: 0.7658\n",
      "Epoch 4/50\n",
      "176/176 [==============================] - 21s 122ms/step - loss: 0.5165 - accuracy: 0.8281 - val_loss: 0.4793 - val_accuracy: 0.8299\n",
      "Epoch 5/50\n",
      "176/176 [==============================] - 22s 125ms/step - loss: 0.4863 - accuracy: 0.8345 - val_loss: 0.5585 - val_accuracy: 0.8142\n",
      "Epoch 6/50\n",
      "176/176 [==============================] - 21s 120ms/step - loss: 0.4752 - accuracy: 0.8370 - val_loss: 0.4186 - val_accuracy: 0.8626\n",
      "Epoch 7/50\n",
      "176/176 [==============================] - 22s 123ms/step - loss: 0.4348 - accuracy: 0.8495 - val_loss: 0.5059 - val_accuracy: 0.8320\n",
      "Epoch 8/50\n",
      "176/176 [==============================] - 22s 124ms/step - loss: 0.3970 - accuracy: 0.8637 - val_loss: 0.5329 - val_accuracy: 0.8249\n",
      "Epoch 9/50\n",
      "176/176 [==============================] - 22s 124ms/step - loss: 0.3677 - accuracy: 0.8778 - val_loss: 0.7342 - val_accuracy: 0.7865\n",
      "Epoch 10/50\n",
      "176/176 [==============================] - 22s 126ms/step - loss: 0.3767 - accuracy: 0.8738 - val_loss: 0.4513 - val_accuracy: 0.8555\n",
      "Epoch 11/50\n",
      "176/176 [==============================] - 22s 123ms/step - loss: 0.3558 - accuracy: 0.8779 - val_loss: 0.4572 - val_accuracy: 0.8498\n",
      "Epoch 12/50\n",
      "176/176 [==============================] - 22s 123ms/step - loss: 0.3356 - accuracy: 0.8867 - val_loss: 0.4080 - val_accuracy: 0.8591\n",
      "Epoch 13/50\n",
      "176/176 [==============================] - 22s 128ms/step - loss: 0.3054 - accuracy: 0.8934 - val_loss: 0.3699 - val_accuracy: 0.8719\n",
      "Epoch 14/50\n",
      "176/176 [==============================] - 22s 123ms/step - loss: 0.3065 - accuracy: 0.8913 - val_loss: 0.5188 - val_accuracy: 0.8335\n",
      "Epoch 15/50\n",
      "176/176 [==============================] - 22s 123ms/step - loss: 0.2706 - accuracy: 0.9075 - val_loss: 0.4822 - val_accuracy: 0.8420\n",
      "Epoch 16/50\n",
      "176/176 [==============================] - 22s 128ms/step - loss: 0.2789 - accuracy: 0.9041 - val_loss: 0.3902 - val_accuracy: 0.8676\n",
      "Epoch 17/50\n",
      "176/176 [==============================] - 22s 123ms/step - loss: 0.2881 - accuracy: 0.9014 - val_loss: 0.3985 - val_accuracy: 0.8769\n",
      "Epoch 18/50\n",
      "176/176 [==============================] - 22s 124ms/step - loss: 0.2644 - accuracy: 0.9116 - val_loss: 0.6236 - val_accuracy: 0.8128\n",
      "Epoch 19/50\n",
      "176/176 [==============================] - 23s 130ms/step - loss: 0.2667 - accuracy: 0.9057 - val_loss: 0.4559 - val_accuracy: 0.8612\n",
      "Epoch 20/50\n",
      "176/176 [==============================] - 23s 128ms/step - loss: 0.2375 - accuracy: 0.9192 - val_loss: 0.3787 - val_accuracy: 0.8719\n",
      "Epoch 21/50\n",
      "176/176 [==============================] - 22s 123ms/step - loss: 0.2403 - accuracy: 0.9160 - val_loss: 0.3131 - val_accuracy: 0.8925\n",
      "Epoch 22/50\n",
      "176/176 [==============================] - 22s 125ms/step - loss: 0.2226 - accuracy: 0.9208 - val_loss: 0.3859 - val_accuracy: 0.8740\n",
      "Epoch 23/50\n",
      "176/176 [==============================] - 22s 128ms/step - loss: 0.2146 - accuracy: 0.9260 - val_loss: 0.2952 - val_accuracy: 0.9089\n",
      "Epoch 24/50\n",
      "176/176 [==============================] - 22s 123ms/step - loss: 0.2312 - accuracy: 0.9178 - val_loss: 0.4360 - val_accuracy: 0.8541\n",
      "Epoch 25/50\n",
      "176/176 [==============================] - 22s 126ms/step - loss: 0.2218 - accuracy: 0.9228 - val_loss: 0.5150 - val_accuracy: 0.8434\n",
      "Epoch 26/50\n",
      "176/176 [==============================] - 23s 129ms/step - loss: 0.1753 - accuracy: 0.9391 - val_loss: 0.4502 - val_accuracy: 0.8555\n",
      "Epoch 27/50\n",
      "176/176 [==============================] - 21s 122ms/step - loss: 0.2000 - accuracy: 0.9319 - val_loss: 0.3044 - val_accuracy: 0.8968\n",
      "Epoch 28/50\n",
      "176/176 [==============================] - 22s 127ms/step - loss: 0.2013 - accuracy: 0.9320 - val_loss: 0.5054 - val_accuracy: 0.8534\n",
      "Epoch 29/50\n",
      "176/176 [==============================] - 23s 129ms/step - loss: 0.1979 - accuracy: 0.9367 - val_loss: 0.4575 - val_accuracy: 0.8669\n",
      "Epoch 30/50\n",
      "176/176 [==============================] - 21s 122ms/step - loss: 0.1824 - accuracy: 0.9388 - val_loss: 0.4327 - val_accuracy: 0.8555\n",
      "Epoch 31/50\n",
      "176/176 [==============================] - 23s 132ms/step - loss: 0.1780 - accuracy: 0.9390 - val_loss: 0.4939 - val_accuracy: 0.8505\n",
      "Epoch 32/50\n",
      "176/176 [==============================] - 23s 129ms/step - loss: 0.1716 - accuracy: 0.9413 - val_loss: 0.3425 - val_accuracy: 0.8918\n",
      "Epoch 33/50\n",
      "176/176 [==============================] - 22s 123ms/step - loss: 0.1759 - accuracy: 0.9386 - val_loss: 0.4645 - val_accuracy: 0.8626\n",
      "Epoch 34/50\n",
      "176/176 [==============================] - 24s 134ms/step - loss: 0.1657 - accuracy: 0.9448 - val_loss: 0.2898 - val_accuracy: 0.9053\n",
      "Epoch 35/50\n",
      "176/176 [==============================] - 23s 130ms/step - loss: 0.1790 - accuracy: 0.9370 - val_loss: 0.3922 - val_accuracy: 0.8776\n",
      "Epoch 36/50\n",
      "176/176 [==============================] - 22s 123ms/step - loss: 0.1648 - accuracy: 0.9416 - val_loss: 0.2708 - val_accuracy: 0.9060\n",
      "Epoch 37/50\n",
      "176/176 [==============================] - 23s 132ms/step - loss: 0.1673 - accuracy: 0.9400 - val_loss: 0.5657 - val_accuracy: 0.8406\n",
      "Epoch 38/50\n",
      "176/176 [==============================] - 23s 128ms/step - loss: 0.1440 - accuracy: 0.9470 - val_loss: 0.5631 - val_accuracy: 0.8470\n",
      "Epoch 39/50\n",
      "176/176 [==============================] - 21s 121ms/step - loss: 0.1515 - accuracy: 0.9489 - val_loss: 0.2976 - val_accuracy: 0.9060\n",
      "Epoch 40/50\n",
      "176/176 [==============================] - 23s 132ms/step - loss: 0.1560 - accuracy: 0.9452 - val_loss: 0.3243 - val_accuracy: 0.8968\n",
      "Epoch 41/50\n",
      "176/176 [==============================] - 23s 130ms/step - loss: 0.1356 - accuracy: 0.9498 - val_loss: 0.3556 - val_accuracy: 0.8982\n",
      "Epoch 42/50\n",
      "176/176 [==============================] - 21s 120ms/step - loss: 0.1496 - accuracy: 0.9477 - val_loss: 0.3132 - val_accuracy: 0.9053\n",
      "Epoch 43/50\n",
      "176/176 [==============================] - 24s 135ms/step - loss: 0.1447 - accuracy: 0.9511 - val_loss: 0.3407 - val_accuracy: 0.8968\n",
      "Epoch 44/50\n",
      "176/176 [==============================] - 23s 133ms/step - loss: 0.1250 - accuracy: 0.9566 - val_loss: 0.3281 - val_accuracy: 0.8954\n",
      "Epoch 45/50\n",
      "176/176 [==============================] - 21s 118ms/step - loss: 0.1179 - accuracy: 0.9587 - val_loss: 0.6797 - val_accuracy: 0.8498\n",
      "Epoch 46/50\n",
      "176/176 [==============================] - 23s 133ms/step - loss: 0.1364 - accuracy: 0.9568 - val_loss: 0.2960 - val_accuracy: 0.9053\n",
      "Epoch 47/50\n",
      "176/176 [==============================] - 24s 136ms/step - loss: 0.1149 - accuracy: 0.9610 - val_loss: 0.6311 - val_accuracy: 0.8441\n",
      "Epoch 48/50\n",
      "176/176 [==============================] - 21s 118ms/step - loss: 0.1400 - accuracy: 0.9507 - val_loss: 0.3355 - val_accuracy: 0.8947\n",
      "Epoch 49/50\n",
      "176/176 [==============================] - 24s 134ms/step - loss: 0.1151 - accuracy: 0.9596 - val_loss: 0.4180 - val_accuracy: 0.8740\n",
      "Epoch 50/50\n",
      "176/176 [==============================] - 24s 137ms/step - loss: 0.1161 - accuracy: 0.9619 - val_loss: 0.2715 - val_accuracy: 0.9181\n"
     ]
    }
   ],
   "source": [
    "custom = model.fit_generator(train_generator, epochs=50, validation_data=val_generator, verbose=1)"
   ]
  },
  {
   "cell_type": "code",
   "execution_count": 15,
   "metadata": {
    "execution": {
     "iopub.execute_input": "2021-09-22T19:05:13.648830Z",
     "iopub.status.busy": "2021-09-22T19:05:13.643875Z",
     "iopub.status.idle": "2021-09-22T19:05:13.784868Z",
     "shell.execute_reply": "2021-09-22T19:05:13.785351Z",
     "shell.execute_reply.started": "2021-09-22T18:30:51.384727Z"
    },
    "papermill": {
     "duration": 2.983954,
     "end_time": "2021-09-22T19:05:13.785502",
     "exception": false,
     "start_time": "2021-09-22T19:05:10.801548",
     "status": "completed"
    },
    "tags": []
   },
   "outputs": [
    {
     "data": {
      "image/png": "[encoded data removed]",
      "text/plain": [
       "<Figure size 432x288 with 1 Axes>"
      ]
     },
     "metadata": {
      "needs_background": "light"
     },
     "output_type": "display_data"
    }
   ],
   "source": [
    "plt.plot(custom.history['loss'])\n",
    "plt.plot(custom.history['val_loss'])\n",
    "plt.title(\"Model Loss\")\n",
    "plt.xlabel('Epochs')\n",
    "plt.ylabel('Loss')\n",
    "plt.legend(['Train', 'Test'])\n",
    "plt.show()"
   ]
  },
  {
   "cell_type": "code",
   "execution_count": 16,
   "metadata": {
    "execution": {
     "iopub.execute_input": "2021-09-22T19:05:19.464223Z",
     "iopub.status.busy": "2021-09-22T19:05:19.463006Z",
     "iopub.status.idle": "2021-09-22T19:05:19.599839Z",
     "shell.execute_reply": "2021-09-22T19:05:19.600278Z",
     "shell.execute_reply.started": "2021-09-22T18:30:51.540552Z"
    },
    "papermill": {
     "duration": 2.856048,
     "end_time": "2021-09-22T19:05:19.600401",
     "exception": false,
     "start_time": "2021-09-22T19:05:16.744353",
     "status": "completed"
    },
    "tags": []
   },
   "outputs": [
    {
     "data": {
      "image/png": "[encoded data removed]",
      "text/plain": [
       "<Figure size 432x288 with 1 Axes>"
      ]
     },
     "metadata": {
      "needs_background": "light"
     },
     "output_type": "display_data"
    }
   ],
   "source": [
    "plt.plot(custom.history['accuracy'])\n",
    "plt.plot(custom.history['val_accuracy'])\n",
    "plt.title(\"Model Accuracy\")\n",
    "plt.xlabel('Epochs')\n",
    "plt.ylabel('Accuracy')\n",
    "plt.legend(['Train', 'Test'])\n",
    "plt.show()"
   ]
  },
  {
   "cell_type": "code",
   "execution_count": 17,
   "metadata": {
    "execution": {
     "iopub.execute_input": "2021-09-22T19:05:25.115128Z",
     "iopub.status.busy": "2021-09-22T19:05:25.114019Z",
     "iopub.status.idle": "2021-09-22T19:05:25.724164Z",
     "shell.execute_reply": "2021-09-22T19:05:25.724859Z",
     "shell.execute_reply.started": "2021-09-22T18:30:51.685933Z"
    },
    "papermill": {
     "duration": 3.327999,
     "end_time": "2021-09-22T19:05:25.725066",
     "exception": false,
     "start_time": "2021-09-22T19:05:22.397067",
     "status": "completed"
    },
    "tags": []
   },
   "outputs": [],
   "source": [
    "predictions = model.predict(x_test)\n",
    "y_preds = [np.argmax(i) for i in predictions]"
   ]
  },
  {
   "cell_type": "code",
   "execution_count": 18,
   "metadata": {
    "execution": {
     "iopub.execute_input": "2021-09-22T19:05:31.294051Z",
     "iopub.status.busy": "2021-09-22T19:05:31.292750Z",
     "iopub.status.idle": "2021-09-22T19:05:31.306065Z",
     "shell.execute_reply": "2021-09-22T19:05:31.305430Z",
     "shell.execute_reply.started": "2021-09-22T18:30:52.220628Z"
    },
    "papermill": {
     "duration": 2.728175,
     "end_time": "2021-09-22T19:05:31.306194",
     "exception": false,
     "start_time": "2021-09-22T19:05:28.578019",
     "status": "completed"
    },
    "tags": []
   },
   "outputs": [
    {
     "name": "stdout",
     "output_type": "stream",
     "text": [
      "[[100   3   1   0   0   0   0   0   0   1   0   0   0   0   0]\n",
      " [  0  98   0   0   0   0   0   0   0   0   0   0   0   0   0]\n",
      " [  0   0  86   1   0   0   0   0   0   0   0   0   0   0   0]\n",
      " [  0   0   0  26   0   0   0   0   0   0   0   0   0   0   0]\n",
      " [  0   0   3   3  95   0   0   0   0   6   0   0   0   0   1]\n",
      " [  0   2   0   2   0  82   0   0   1   3   8   0   0   0  10]\n",
      " [  0   0   0   0   0   0  75   0   0   0   0   0   0   0   0]\n",
      " [  1   0   0   0   0   0   0 108   1   0   0   0   0   0   1]\n",
      " [  0   0   0   0   0   1   0   0  87   1   0   1   0   0   0]\n",
      " [  0   2   0   0   0   0   0   1   0  90   0   1   0   2   0]\n",
      " [  0   0   0   0   0   0   0   0   0   0 103   0   0   0   0]\n",
      " [  1   3   1   1   2   2   0   1   0   7   0  88   1   2   1]\n",
      " [  0   0   0   0   0   0   0   0   0   1   0   0  99   4   1]\n",
      " [  2   1   1   0   0   0   0   2   1   1   0   0   1  74   0]\n",
      " [  0   0   0   0   0   2   2   1   0   5  11   0   0   0  79]]\n",
      "              precision    recall  f1-score   support\n",
      "\n",
      "           0       0.96      0.95      0.96       105\n",
      "           1       0.90      1.00      0.95        98\n",
      "           2       0.93      0.99      0.96        87\n",
      "           3       0.79      1.00      0.88        26\n",
      "           4       0.98      0.88      0.93       108\n",
      "           5       0.94      0.76      0.84       108\n",
      "           6       0.97      1.00      0.99        75\n",
      "           7       0.96      0.97      0.96       111\n",
      "           8       0.97      0.97      0.97        90\n",
      "           9       0.78      0.94      0.85        96\n",
      "          10       0.84      1.00      0.92       103\n",
      "          11       0.98      0.80      0.88       110\n",
      "          12       0.98      0.94      0.96       105\n",
      "          13       0.90      0.89      0.90        83\n",
      "          14       0.85      0.79      0.82       100\n",
      "\n",
      "    accuracy                           0.92      1405\n",
      "   macro avg       0.92      0.93      0.92      1405\n",
      "weighted avg       0.92      0.92      0.92      1405\n",
      "\n"
     ]
    }
   ],
   "source": [
    "print(metrics.confusion_matrix(y_test,y_preds))\n",
    "print(metrics.classification_report(y_test,y_preds))"
   ]
  },
  {
   "cell_type": "code",
   "execution_count": 19,
   "metadata": {
    "execution": {
     "iopub.execute_input": "2021-09-22T19:05:37.023866Z",
     "iopub.status.busy": "2021-09-22T19:05:37.022760Z",
     "iopub.status.idle": "2021-09-22T19:05:37.024583Z",
     "shell.execute_reply": "2021-09-22T19:05:37.025023Z",
     "shell.execute_reply.started": "2021-09-22T18:30:52.244080Z"
    },
    "papermill": {
     "duration": 2.955271,
     "end_time": "2021-09-22T19:05:37.025149",
     "exception": false,
     "start_time": "2021-09-22T19:05:34.069878",
     "status": "completed"
    },
    "tags": []
   },
   "outputs": [],
   "source": [
    "classes = ['Pepper__bell___Bacterial_spot','Pepper__bell___healthy','Potato___Early_blight','Potato___healthy',\n",
    "           'Potato___Late_blight','Tomato__Target_Spot','Tomato__Tomato_mosaic_virus','Tomato__Tomato_YellowLeaf__Curl_Virus',\n",
    "           'Tomato_Bacterial_spot','Tomato_Early_blight','Tomato_healthy','Tomato_Late_blight','Tomato_Leaf_Mold',\n",
    "           'Tomato_Septoria_leaf_spot','Tomato_Spider_mites_Two_spotted_spider_mite']"
   ]
  },
  {
   "cell_type": "markdown",
   "metadata": {
    "papermill": {
     "duration": 3.26049,
     "end_time": "2021-09-22T19:05:43.005682",
     "exception": false,
     "start_time": "2021-09-22T19:05:39.745192",
     "status": "completed"
    },
    "tags": []
   },
   "source": [
    "Let us test any random image from the dataset"
   ]
  },
  {
   "cell_type": "code",
   "execution_count": 20,
   "metadata": {
    "execution": {
     "iopub.execute_input": "2021-09-22T19:05:48.733624Z",
     "iopub.status.busy": "2021-09-22T19:05:48.732784Z",
     "iopub.status.idle": "2021-09-22T19:05:48.908968Z",
     "shell.execute_reply": "2021-09-22T19:05:48.908500Z",
     "shell.execute_reply.started": "2021-09-22T18:30:52.253909Z"
    },
    "papermill": {
     "duration": 3.182921,
     "end_time": "2021-09-22T19:05:48.909069",
     "exception": false,
     "start_time": "2021-09-22T19:05:45.726148",
     "status": "completed"
    },
    "tags": []
   },
   "outputs": [
    {
     "name": "stdout",
     "output_type": "stream",
     "text": [
      "Tomato_Septoria_leaf_spot\n"
     ]
    },
    {
     "data": {
      "image/png": "[encoded data removed]",
      "text/plain": [
       "<Figure size 432x288 with 1 Axes>"
      ]
     },
     "metadata": {
      "needs_background": "light"
     },
     "output_type": "display_data"
    }
   ],
   "source": [
    "plt.imshow(train_x[100])\n",
    "plt.show\n",
    "print(classes[train_y[100]])"
   ]
  },
  {
   "cell_type": "code",
   "execution_count": 21,
   "metadata": {
    "execution": {
     "iopub.execute_input": "2021-09-22T19:05:54.402903Z",
     "iopub.status.busy": "2021-09-22T19:05:54.402047Z",
     "iopub.status.idle": "2021-09-22T19:05:54.467425Z",
     "shell.execute_reply": "2021-09-22T19:05:54.466988Z",
     "shell.execute_reply.started": "2021-09-22T18:30:52.425112Z"
    },
    "papermill": {
     "duration": 2.83697,
     "end_time": "2021-09-22T19:05:54.467527",
     "exception": false,
     "start_time": "2021-09-22T19:05:51.630557",
     "status": "completed"
    },
    "tags": []
   },
   "outputs": [
    {
     "data": {
      "text/plain": [
       "array([[6.6287981e-07, 8.5684203e-12, 2.7137613e-12, 9.6648275e-14,\n",
       "        2.4824399e-11, 8.4509476e-11, 2.5923567e-11, 3.2609976e-14,\n",
       "        4.0249754e-10, 7.9099249e-15, 4.3715843e-11, 3.9485055e-09,\n",
       "        1.4228426e-07, 9.9999917e-01, 9.0808250e-10]], dtype=float32)"
      ]
     },
     "execution_count": 21,
     "metadata": {},
     "output_type": "execute_result"
    }
   ],
   "source": [
    "from tensorflow.keras.preprocessing import image\n",
    "test=train_x[100]\n",
    "test=image.img_to_array(test)\n",
    "test=test.reshape((-1,IMG_SIZE,IMG_SIZE,3))\n",
    "predictions = model.predict(test)\n",
    "predictions"
   ]
  },
  {
   "cell_type": "code",
   "execution_count": 22,
   "metadata": {
    "execution": {
     "iopub.execute_input": "2021-09-22T19:06:00.127700Z",
     "iopub.status.busy": "2021-09-22T19:06:00.127069Z",
     "iopub.status.idle": "2021-09-22T19:06:00.129937Z",
     "shell.execute_reply": "2021-09-22T19:06:00.130346Z",
     "shell.execute_reply.started": "2021-09-22T18:30:52.492552Z"
    },
    "papermill": {
     "duration": 2.926819,
     "end_time": "2021-09-22T19:06:00.130459",
     "exception": false,
     "start_time": "2021-09-22T19:05:57.203640",
     "status": "completed"
    },
    "tags": []
   },
   "outputs": [
    {
     "data": {
      "text/plain": [
       "'Tomato_Septoria_leaf_spot'"
      ]
     },
     "execution_count": 22,
     "metadata": {},
     "output_type": "execute_result"
    }
   ],
   "source": [
    "classes[np.argmax(predictions)]"
   ]
  },
  {
   "cell_type": "code",
   "execution_count": null,
   "metadata": {
    "papermill": {
     "duration": 2.70181,
     "end_time": "2021-09-22T19:06:05.597305",
     "exception": false,
     "start_time": "2021-09-22T19:06:02.895495",
     "status": "completed"
    },
    "tags": []
   },
   "outputs": [],
   "source": []
  }
 ],
 "metadata": {
  "kernelspec": {
   "display_name": "Python 3",
   "language": "python",
   "name": "python3"
  },
  "language_info": {
   "codemirror_mode": {
    "name": "ipython",
    "version": 3
   },
   "file_extension": ".py",
   "mimetype": "text/x-python",
   "name": "python",
   "nbconvert_exporter": "python",
   "pygments_lexer": "ipython3",
   "version": "3.7.6"
  },
  "papermill": {
   "duration": 1296.274888,
   "end_time": "2021-09-22T19:06:09.477337",
   "environment_variables": {},
   "exception": null,
   "input_path": "__notebook__.ipynb",
   "output_path": "__notebook__.ipynb",
   "parameters": {},
   "start_time": "2021-09-22T18:44:33.202449",
   "version": "2.1.0"
  }
 },
 "nbformat": 4,
 "nbformat_minor": 4
}
