{
 "cells": [
  {
   "cell_type": "markdown",
   "id": "dental-labor",
   "metadata": {
    "_cell_guid": "b1076dfc-b9ad-4769-8c92-a6c4dae69d19",
    "_uuid": "8f2839f25d086af736a60e9eeb907d3b93b6e0e5",
    "papermill": {
     "duration": 0.005204,
     "end_time": "2021-06-30T18:18:45.554488",
     "exception": false,
     "start_time": "2021-06-30T18:18:45.549284",
     "status": "completed"
    },
    "tags": []
   },
   "source": [
    "Ref :\n",
    "\n",
    "https://thecleverprogrammer.com/2020/11/27/machine-learning-algorithms-with-python/\n",
    "    \n",
    "https://hub.packtpub.com/implementing-3-naive-bayes-classifiers-in-scikit-learn/\n",
    "    \n",
    "https://thecleverprogrammer.com/2021/02/07/naive-bayes-algorithm-in-machine-learning/    "
   ]
  },
  {
   "cell_type": "code",
   "execution_count": 1,
   "id": "running-observation",
   "metadata": {
    "execution": {
     "iopub.execute_input": "2021-06-30T18:18:45.567029Z",
     "iopub.status.busy": "2021-06-30T18:18:45.565904Z",
     "iopub.status.idle": "2021-06-30T18:18:46.729416Z",
     "shell.execute_reply": "2021-06-30T18:18:46.730312Z",
     "shell.execute_reply.started": "2021-06-30T18:18:01.521608Z"
    },
    "papermill": {
     "duration": 1.171772,
     "end_time": "2021-06-30T18:18:46.730610",
     "exception": false,
     "start_time": "2021-06-30T18:18:45.558838",
     "status": "completed"
    },
    "tags": []
   },
   "outputs": [
    {
     "name": "stdout",
     "output_type": "stream",
     "text": [
      "[[50  0  0]\n",
      " [ 0 47  3]\n",
      " [ 0  3 47]]\n"
     ]
    }
   ],
   "source": [
    "#In machine learning, the Naive Bayes is a classification algorithm based on Bayes’ theorem.\n",
    "\n",
    "from sklearn.naive_bayes import GaussianNB\n",
    "from sklearn.naive_bayes import MultinomialNB\n",
    "from sklearn.naive_bayes import BernoulliNB\n",
    "from sklearn import datasets\n",
    "from sklearn.metrics import confusion_matrix\n",
    "\n",
    "iris = datasets.load_iris()\n",
    "\n",
    "gnb = GaussianNB()\n",
    "mnb = MultinomialNB()\n",
    "bnb = BernoulliNB(binarize=0.0)\n",
    "\n",
    "\n",
    "y_pred_gnb = gnb.fit(iris.data, iris.target).predict(iris.data)\n",
    "cnf_matrix_gnb = confusion_matrix(iris.target, y_pred_gnb)\n",
    "print(cnf_matrix_gnb)"
   ]
  },
  {
   "cell_type": "code",
   "execution_count": 2,
   "id": "friendly-treasure",
   "metadata": {
    "execution": {
     "iopub.execute_input": "2021-06-30T18:18:46.746118Z",
     "iopub.status.busy": "2021-06-30T18:18:46.745491Z",
     "iopub.status.idle": "2021-06-30T18:18:46.753824Z",
     "shell.execute_reply": "2021-06-30T18:18:46.754522Z",
     "shell.execute_reply.started": "2021-06-30T18:18:02.623412Z"
    },
    "papermill": {
     "duration": 0.019032,
     "end_time": "2021-06-30T18:18:46.754757",
     "exception": false,
     "start_time": "2021-06-30T18:18:46.735725",
     "status": "completed"
    },
    "tags": []
   },
   "outputs": [
    {
     "name": "stdout",
     "output_type": "stream",
     "text": [
      "[[50  0  0]\n",
      " [ 0 46  4]\n",
      " [ 0  3 47]]\n"
     ]
    }
   ],
   "source": [
    "y_pred_mnb = mnb.fit(iris.data, iris.target).predict(iris.data)\n",
    "cnf_matrix_mnb = confusion_matrix(iris.target, y_pred_mnb)\n",
    "print(cnf_matrix_mnb)"
   ]
  },
  {
   "cell_type": "code",
   "execution_count": 3,
   "id": "practical-franklin",
   "metadata": {
    "execution": {
     "iopub.execute_input": "2021-06-30T18:18:46.776841Z",
     "iopub.status.busy": "2021-06-30T18:18:46.773007Z",
     "iopub.status.idle": "2021-06-30T18:18:46.781158Z",
     "shell.execute_reply": "2021-06-30T18:18:46.780175Z",
     "shell.execute_reply.started": "2021-06-30T18:18:02.635501Z"
    },
    "papermill": {
     "duration": 0.021324,
     "end_time": "2021-06-30T18:18:46.781382",
     "exception": false,
     "start_time": "2021-06-30T18:18:46.760058",
     "status": "completed"
    },
    "tags": []
   },
   "outputs": [
    {
     "name": "stdout",
     "output_type": "stream",
     "text": [
      "[[50  0  0]\n",
      " [ 0 46  4]\n",
      " [ 0  3 47]]\n"
     ]
    }
   ],
   "source": [
    "y_pred_bnb = bnb.fit(iris.data, iris.target).predict(iris.data)\n",
    "cnf_matrix_bnb = confusion_matrix(iris.target, y_pred_mnb)\n",
    "print(cnf_matrix_bnb)"
   ]
  }
 ],
 "metadata": {
  "kernelspec": {
   "display_name": "Python 3",
   "language": "python",
   "name": "python3"
  },
  "language_info": {
   "codemirror_mode": {
    "name": "ipython",
    "version": 3
   },
   "file_extension": ".py",
   "mimetype": "text/x-python",
   "name": "python",
   "nbconvert_exporter": "python",
   "pygments_lexer": "ipython3",
   "version": "3.7.10"
  },
  "papermill": {
   "default_parameters": {},
   "duration": 10.856106,
   "end_time": "2021-06-30T18:18:48.248832",
   "environment_variables": {},
   "exception": null,
   "input_path": "__notebook__.ipynb",
   "output_path": "__notebook__.ipynb",
   "parameters": {},
   "start_time": "2021-06-30T18:18:37.392726",
   "version": "2.3.3"
  }
 },
 "nbformat": 4,
 "nbformat_minor": 5
}
