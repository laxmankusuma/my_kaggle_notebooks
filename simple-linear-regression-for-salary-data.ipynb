{
 "cells": [
  {
   "cell_type": "code",
   "execution_count": 1,
   "metadata": {
    "execution": {
     "iopub.execute_input": "2021-12-28T22:30:52.261290Z",
     "iopub.status.busy": "2021-12-28T22:30:52.260450Z",
     "iopub.status.idle": "2021-12-28T22:30:52.871518Z",
     "shell.execute_reply": "2021-12-28T22:30:52.870579Z",
     "shell.execute_reply.started": "2021-12-28T22:30:52.261219Z"
    }
   },
   "outputs": [],
   "source": [
    "# import all the lib\n",
    "import pandas as pd\n",
    "import numpy as np\n",
    "import pickle"
   ]
  },
  {
   "cell_type": "code",
   "execution_count": 2,
   "metadata": {
    "execution": {
     "iopub.execute_input": "2021-12-28T22:30:52.875228Z",
     "iopub.status.busy": "2021-12-28T22:30:52.874651Z",
     "iopub.status.idle": "2021-12-28T22:30:52.900717Z",
     "shell.execute_reply": "2021-12-28T22:30:52.899980Z",
     "shell.execute_reply.started": "2021-12-28T22:30:52.875164Z"
    }
   },
   "outputs": [],
   "source": [
    "# read the dataset using pandas\n",
    "data = pd.read_csv('/kaggle/input/salary-data-simple-linear-regression/Salary_Data.csv')"
   ]
  },
  {
   "cell_type": "code",
   "execution_count": 3,
   "metadata": {
    "execution": {
     "iopub.execute_input": "2021-12-28T22:30:52.905232Z",
     "iopub.status.busy": "2021-12-28T22:30:52.904102Z",
     "iopub.status.idle": "2021-12-28T22:30:52.926558Z",
     "shell.execute_reply": "2021-12-28T22:30:52.925932Z",
     "shell.execute_reply.started": "2021-12-28T22:30:52.905165Z"
    }
   },
   "outputs": [
    {
     "data": {
      "text/html": [
       "<div>\n",
       "<style scoped>\n",
       "    .dataframe tbody tr th:only-of-type {\n",
       "        vertical-align: middle;\n",
       "    }\n",
       "\n",
       "    .dataframe tbody tr th {\n",
       "        vertical-align: top;\n",
       "    }\n",
       "\n",
       "    .dataframe thead th {\n",
       "        text-align: right;\n",
       "    }\n",
       "</style>\n",
       "<table border=\"1\" class=\"dataframe\">\n",
       "  <thead>\n",
       "    <tr style=\"text-align: right;\">\n",
       "      <th></th>\n",
       "      <th>YearsExperience</th>\n",
       "      <th>Salary</th>\n",
       "    </tr>\n",
       "  </thead>\n",
       "  <tbody>\n",
       "    <tr>\n",
       "      <th>0</th>\n",
       "      <td>1.1</td>\n",
       "      <td>39343.0</td>\n",
       "    </tr>\n",
       "    <tr>\n",
       "      <th>1</th>\n",
       "      <td>1.3</td>\n",
       "      <td>46205.0</td>\n",
       "    </tr>\n",
       "    <tr>\n",
       "      <th>2</th>\n",
       "      <td>1.5</td>\n",
       "      <td>37731.0</td>\n",
       "    </tr>\n",
       "    <tr>\n",
       "      <th>3</th>\n",
       "      <td>2.0</td>\n",
       "      <td>43525.0</td>\n",
       "    </tr>\n",
       "    <tr>\n",
       "      <th>4</th>\n",
       "      <td>2.2</td>\n",
       "      <td>39891.0</td>\n",
       "    </tr>\n",
       "  </tbody>\n",
       "</table>\n",
       "</div>"
      ],
      "text/plain": [
       "   YearsExperience   Salary\n",
       "0              1.1  39343.0\n",
       "1              1.3  46205.0\n",
       "2              1.5  37731.0\n",
       "3              2.0  43525.0\n",
       "4              2.2  39891.0"
      ]
     },
     "execution_count": 3,
     "metadata": {},
     "output_type": "execute_result"
    }
   ],
   "source": [
    "# This displays the top 5 rows of the data\n",
    "data.head()"
   ]
  },
  {
   "cell_type": "code",
   "execution_count": 4,
   "metadata": {
    "execution": {
     "iopub.execute_input": "2021-12-28T22:30:52.927839Z",
     "iopub.status.busy": "2021-12-28T22:30:52.927506Z",
     "iopub.status.idle": "2021-12-28T22:30:52.937120Z",
     "shell.execute_reply": "2021-12-28T22:30:52.936190Z",
     "shell.execute_reply.started": "2021-12-28T22:30:52.927802Z"
    }
   },
   "outputs": [
    {
     "name": "stdout",
     "output_type": "stream",
     "text": [
      "<class 'pandas.core.frame.DataFrame'>\n",
      "RangeIndex: 30 entries, 0 to 29\n",
      "Data columns (total 2 columns):\n",
      "YearsExperience    30 non-null float64\n",
      "Salary             30 non-null float64\n",
      "dtypes: float64(2)\n",
      "memory usage: 608.0 bytes\n"
     ]
    }
   ],
   "source": [
    "# Provides some information regarding the columns in the data\n",
    "data.info()"
   ]
  },
  {
   "cell_type": "code",
   "execution_count": 5,
   "metadata": {
    "execution": {
     "iopub.execute_input": "2021-12-28T22:30:52.940087Z",
     "iopub.status.busy": "2021-12-28T22:30:52.939779Z",
     "iopub.status.idle": "2021-12-28T22:30:52.965607Z",
     "shell.execute_reply": "2021-12-28T22:30:52.964823Z",
     "shell.execute_reply.started": "2021-12-28T22:30:52.940015Z"
    }
   },
   "outputs": [
    {
     "data": {
      "text/html": [
       "<div>\n",
       "<style scoped>\n",
       "    .dataframe tbody tr th:only-of-type {\n",
       "        vertical-align: middle;\n",
       "    }\n",
       "\n",
       "    .dataframe tbody tr th {\n",
       "        vertical-align: top;\n",
       "    }\n",
       "\n",
       "    .dataframe thead th {\n",
       "        text-align: right;\n",
       "    }\n",
       "</style>\n",
       "<table border=\"1\" class=\"dataframe\">\n",
       "  <thead>\n",
       "    <tr style=\"text-align: right;\">\n",
       "      <th></th>\n",
       "      <th>YearsExperience</th>\n",
       "      <th>Salary</th>\n",
       "    </tr>\n",
       "  </thead>\n",
       "  <tbody>\n",
       "    <tr>\n",
       "      <th>count</th>\n",
       "      <td>30.000000</td>\n",
       "      <td>30.000000</td>\n",
       "    </tr>\n",
       "    <tr>\n",
       "      <th>mean</th>\n",
       "      <td>5.313333</td>\n",
       "      <td>76003.000000</td>\n",
       "    </tr>\n",
       "    <tr>\n",
       "      <th>std</th>\n",
       "      <td>2.837888</td>\n",
       "      <td>27414.429785</td>\n",
       "    </tr>\n",
       "    <tr>\n",
       "      <th>min</th>\n",
       "      <td>1.100000</td>\n",
       "      <td>37731.000000</td>\n",
       "    </tr>\n",
       "    <tr>\n",
       "      <th>25%</th>\n",
       "      <td>3.200000</td>\n",
       "      <td>56720.750000</td>\n",
       "    </tr>\n",
       "    <tr>\n",
       "      <th>50%</th>\n",
       "      <td>4.700000</td>\n",
       "      <td>65237.000000</td>\n",
       "    </tr>\n",
       "    <tr>\n",
       "      <th>75%</th>\n",
       "      <td>7.700000</td>\n",
       "      <td>100544.750000</td>\n",
       "    </tr>\n",
       "    <tr>\n",
       "      <th>max</th>\n",
       "      <td>10.500000</td>\n",
       "      <td>122391.000000</td>\n",
       "    </tr>\n",
       "  </tbody>\n",
       "</table>\n",
       "</div>"
      ],
      "text/plain": [
       "       YearsExperience         Salary\n",
       "count        30.000000      30.000000\n",
       "mean          5.313333   76003.000000\n",
       "std           2.837888   27414.429785\n",
       "min           1.100000   37731.000000\n",
       "25%           3.200000   56720.750000\n",
       "50%           4.700000   65237.000000\n",
       "75%           7.700000  100544.750000\n",
       "max          10.500000  122391.000000"
      ]
     },
     "execution_count": 5,
     "metadata": {},
     "output_type": "execute_result"
    }
   ],
   "source": [
    "# this describes the basic stat behind the dataset used \n",
    "data.describe()"
   ]
  },
  {
   "cell_type": "code",
   "execution_count": 6,
   "metadata": {
    "execution": {
     "iopub.execute_input": "2021-12-28T22:30:52.968142Z",
     "iopub.status.busy": "2021-12-28T22:30:52.967775Z",
     "iopub.status.idle": "2021-12-28T22:30:52.974884Z",
     "shell.execute_reply": "2021-12-28T22:30:52.974262Z",
     "shell.execute_reply.started": "2021-12-28T22:30:52.968104Z"
    }
   },
   "outputs": [
    {
     "data": {
      "text/plain": [
       "0    1.1\n",
       "1    1.3\n",
       "2    1.5\n",
       "3    2.0\n",
       "4    2.2\n",
       "Name: YearsExperience, dtype: float64"
      ]
     },
     "execution_count": 6,
     "metadata": {},
     "output_type": "execute_result"
    }
   ],
   "source": [
    "# Cooking the data\n",
    "X = data['YearsExperience']\n",
    "X.head()"
   ]
  },
  {
   "cell_type": "code",
   "execution_count": 7,
   "metadata": {
    "execution": {
     "iopub.execute_input": "2021-12-28T22:30:52.976938Z",
     "iopub.status.busy": "2021-12-28T22:30:52.976575Z",
     "iopub.status.idle": "2021-12-28T22:30:52.988652Z",
     "shell.execute_reply": "2021-12-28T22:30:52.987717Z",
     "shell.execute_reply.started": "2021-12-28T22:30:52.976794Z"
    }
   },
   "outputs": [
    {
     "data": {
      "text/plain": [
       "0    39343.0\n",
       "1    46205.0\n",
       "2    37731.0\n",
       "3    43525.0\n",
       "4    39891.0\n",
       "Name: Salary, dtype: float64"
      ]
     },
     "execution_count": 7,
     "metadata": {},
     "output_type": "execute_result"
    }
   ],
   "source": [
    "# Cooking the data\n",
    "y = data['Salary']\n",
    "y.head()"
   ]
  },
  {
   "cell_type": "code",
   "execution_count": 8,
   "metadata": {
    "execution": {
     "iopub.execute_input": "2021-12-28T22:30:52.990706Z",
     "iopub.status.busy": "2021-12-28T22:30:52.990204Z",
     "iopub.status.idle": "2021-12-28T22:30:53.889354Z",
     "shell.execute_reply": "2021-12-28T22:30:53.888493Z",
     "shell.execute_reply.started": "2021-12-28T22:30:52.990644Z"
    }
   },
   "outputs": [],
   "source": [
    "# Import Segregating data from scikit learn\n",
    "from sklearn.model_selection import train_test_split"
   ]
  },
  {
   "cell_type": "code",
   "execution_count": 9,
   "metadata": {
    "execution": {
     "iopub.execute_input": "2021-12-28T22:30:53.890798Z",
     "iopub.status.busy": "2021-12-28T22:30:53.890554Z",
     "iopub.status.idle": "2021-12-28T22:30:53.897491Z",
     "shell.execute_reply": "2021-12-28T22:30:53.896856Z",
     "shell.execute_reply.started": "2021-12-28T22:30:53.890756Z"
    }
   },
   "outputs": [],
   "source": [
    "# Split the data for train and test \n",
    "X_train,X_test,y_train,y_test = train_test_split(X,y,train_size=0.7,random_state=100)"
   ]
  },
  {
   "cell_type": "code",
   "execution_count": 10,
   "metadata": {
    "execution": {
     "iopub.execute_input": "2021-12-28T22:30:53.898912Z",
     "iopub.status.busy": "2021-12-28T22:30:53.898565Z",
     "iopub.status.idle": "2021-12-28T22:30:53.909318Z",
     "shell.execute_reply": "2021-12-28T22:30:53.908514Z",
     "shell.execute_reply.started": "2021-12-28T22:30:53.898874Z"
    }
   },
   "outputs": [],
   "source": [
    "# Create new axis for x column\n",
    "X_train = X_train[:,np.newaxis]\n",
    "X_test = X_test[:,np.newaxis]"
   ]
  },
  {
   "cell_type": "code",
   "execution_count": 11,
   "metadata": {
    "execution": {
     "iopub.execute_input": "2021-12-28T22:30:53.910741Z",
     "iopub.status.busy": "2021-12-28T22:30:53.910503Z",
     "iopub.status.idle": "2021-12-28T22:30:53.987693Z",
     "shell.execute_reply": "2021-12-28T22:30:53.986338Z",
     "shell.execute_reply.started": "2021-12-28T22:30:53.910691Z"
    }
   },
   "outputs": [],
   "source": [
    "# Importing Linear Regression model from scikit learn\n",
    "from sklearn.linear_model import LinearRegression"
   ]
  },
  {
   "cell_type": "code",
   "execution_count": 12,
   "metadata": {
    "execution": {
     "iopub.execute_input": "2021-12-28T22:30:53.989423Z",
     "iopub.status.busy": "2021-12-28T22:30:53.989154Z",
     "iopub.status.idle": "2021-12-28T22:30:54.011390Z",
     "shell.execute_reply": "2021-12-28T22:30:54.010344Z",
     "shell.execute_reply.started": "2021-12-28T22:30:53.989370Z"
    }
   },
   "outputs": [
    {
     "data": {
      "text/plain": [
       "LinearRegression(copy_X=True, fit_intercept=True, n_jobs=None, normalize=False)"
      ]
     },
     "execution_count": 12,
     "metadata": {},
     "output_type": "execute_result"
    }
   ],
   "source": [
    "# Fitting the model\n",
    "lr = LinearRegression()\n",
    "lr.fit(X_train,y_train)"
   ]
  },
  {
   "cell_type": "code",
   "execution_count": 13,
   "metadata": {
    "execution": {
     "iopub.execute_input": "2021-12-28T22:30:54.013611Z",
     "iopub.status.busy": "2021-12-28T22:30:54.013070Z",
     "iopub.status.idle": "2021-12-28T22:30:54.019032Z",
     "shell.execute_reply": "2021-12-28T22:30:54.018363Z",
     "shell.execute_reply.started": "2021-12-28T22:30:54.013365Z"
    }
   },
   "outputs": [],
   "source": [
    "# Predicting the Salary for the Test values\n",
    "y_pred = lr.predict(X_test)"
   ]
  },
  {
   "cell_type": "code",
   "execution_count": 14,
   "metadata": {
    "execution": {
     "iopub.execute_input": "2021-12-28T22:30:54.020724Z",
     "iopub.status.busy": "2021-12-28T22:30:54.020328Z",
     "iopub.status.idle": "2021-12-28T22:30:54.034839Z",
     "shell.execute_reply": "2021-12-28T22:30:54.033974Z",
     "shell.execute_reply.started": "2021-12-28T22:30:54.020527Z"
    }
   },
   "outputs": [
    {
     "data": {
      "text/plain": [
       "array([ 61208.34198766, 117649.32424949, 125434.28732008,  65100.82352296,\n",
       "        53423.37891707,  64127.70313914, 118622.44463331, 112783.72233036,\n",
       "        54396.49930089])"
      ]
     },
     "execution_count": 14,
     "metadata": {},
     "output_type": "execute_result"
    }
   ],
   "source": [
    "y_pred"
   ]
  },
  {
   "cell_type": "code",
   "execution_count": 15,
   "metadata": {
    "execution": {
     "iopub.execute_input": "2021-12-28T22:30:54.036729Z",
     "iopub.status.busy": "2021-12-28T22:30:54.036364Z",
     "iopub.status.idle": "2021-12-28T22:30:54.047125Z",
     "shell.execute_reply": "2021-12-28T22:30:54.045811Z",
     "shell.execute_reply.started": "2021-12-28T22:30:54.036659Z"
    }
   },
   "outputs": [
    {
     "name": "stdout",
     "output_type": "stream",
     "text": [
      "Intercept of the model: 25202.887786154883\n",
      "Coefficient of the line: [9731.20383825]\n"
     ]
    }
   ],
   "source": [
    "# Intecept and coeff of the line\n",
    "print('Intercept of the model:',lr.intercept_)\n",
    "print('Coefficient of the line:',lr.coef_)"
   ]
  },
  {
   "cell_type": "markdown",
   "metadata": {},
   "source": [
    "![](http://)Then it is said to form a line with\n",
    "# y = 25202.8 + 9731.2x"
   ]
  },
  {
   "cell_type": "code",
   "execution_count": 16,
   "metadata": {
    "execution": {
     "iopub.execute_input": "2021-12-28T22:30:54.048866Z",
     "iopub.status.busy": "2021-12-28T22:30:54.048339Z",
     "iopub.status.idle": "2021-12-28T22:30:54.057323Z",
     "shell.execute_reply": "2021-12-28T22:30:54.056597Z",
     "shell.execute_reply.started": "2021-12-28T22:30:54.048809Z"
    }
   },
   "outputs": [],
   "source": [
    "# Save the trained model as a pickle string.\n",
    "saved_model = pickle.dumps(lr)"
   ]
  },
  {
   "cell_type": "code",
   "execution_count": 17,
   "metadata": {
    "execution": {
     "iopub.execute_input": "2021-12-28T22:30:54.060230Z",
     "iopub.status.busy": "2021-12-28T22:30:54.058377Z",
     "iopub.status.idle": "2021-12-28T22:30:54.070919Z",
     "shell.execute_reply": "2021-12-28T22:30:54.069792Z",
     "shell.execute_reply.started": "2021-12-28T22:30:54.060165Z"
    }
   },
   "outputs": [],
   "source": [
    "# Load the pickled model\n",
    "lr_from_pickle = pickle.loads(saved_model)"
   ]
  },
  {
   "cell_type": "code",
   "execution_count": 18,
   "metadata": {
    "execution": {
     "iopub.execute_input": "2021-12-28T22:30:54.072463Z",
     "iopub.status.busy": "2021-12-28T22:30:54.072092Z",
     "iopub.status.idle": "2021-12-28T22:30:54.083690Z",
     "shell.execute_reply": "2021-12-28T22:30:54.082973Z",
     "shell.execute_reply.started": "2021-12-28T22:30:54.072424Z"
    }
   },
   "outputs": [],
   "source": [
    "# Use the loaded pickled model to make predictions\n",
    "y_pred = lr_from_pickle.predict(X_test)"
   ]
  },
  {
   "cell_type": "code",
   "execution_count": 19,
   "metadata": {
    "execution": {
     "iopub.execute_input": "2021-12-28T22:30:54.085360Z",
     "iopub.status.busy": "2021-12-28T22:30:54.084883Z",
     "iopub.status.idle": "2021-12-28T22:30:54.096360Z",
     "shell.execute_reply": "2021-12-28T22:30:54.095461Z",
     "shell.execute_reply.started": "2021-12-28T22:30:54.085302Z"
    }
   },
   "outputs": [
    {
     "data": {
      "text/plain": [
       "array([ 61208.34198766, 117649.32424949, 125434.28732008,  65100.82352296,\n",
       "        53423.37891707,  64127.70313914, 118622.44463331, 112783.72233036,\n",
       "        54396.49930089])"
      ]
     },
     "execution_count": 19,
     "metadata": {},
     "output_type": "execute_result"
    }
   ],
   "source": [
    "y_pred"
   ]
  },
  {
   "cell_type": "code",
   "execution_count": 20,
   "metadata": {
    "execution": {
     "iopub.execute_input": "2021-12-28T22:30:54.098119Z",
     "iopub.status.busy": "2021-12-28T22:30:54.097700Z",
     "iopub.status.idle": "2021-12-28T22:30:54.108460Z",
     "shell.execute_reply": "2021-12-28T22:30:54.107803Z",
     "shell.execute_reply.started": "2021-12-28T22:30:54.098068Z"
    }
   },
   "outputs": [
    {
     "name": "stderr",
     "output_type": "stream",
     "text": [
      "/opt/conda/lib/python3.6/site-packages/sklearn/externals/joblib/__init__.py:15: FutureWarning: sklearn.externals.joblib is deprecated in 0.21 and will be removed in 0.23. Please import this functionality directly from joblib, which can be installed with: pip install joblib. If this warning is raised when loading pickled models, you may need to re-serialize those models with scikit-learn 0.21+.\n",
      "  warnings.warn(msg, category=FutureWarning)\n"
     ]
    }
   ],
   "source": [
    "from sklearn.externals import joblib"
   ]
  },
  {
   "cell_type": "code",
   "execution_count": 21,
   "metadata": {
    "execution": {
     "iopub.execute_input": "2021-12-28T22:30:54.109931Z",
     "iopub.status.busy": "2021-12-28T22:30:54.109457Z",
     "iopub.status.idle": "2021-12-28T22:30:54.119072Z",
     "shell.execute_reply": "2021-12-28T22:30:54.118123Z",
     "shell.execute_reply.started": "2021-12-28T22:30:54.109892Z"
    }
   },
   "outputs": [
    {
     "data": {
      "text/plain": [
       "['simple_linear_regression.pkl']"
      ]
     },
     "execution_count": 21,
     "metadata": {},
     "output_type": "execute_result"
    }
   ],
   "source": [
    "# Save the model as a pickle in a file\n",
    "joblib.dump(lr, 'simple_linear_regression.pkl')"
   ]
  },
  {
   "cell_type": "code",
   "execution_count": 22,
   "metadata": {
    "execution": {
     "iopub.execute_input": "2021-12-28T22:30:54.122183Z",
     "iopub.status.busy": "2021-12-28T22:30:54.121817Z",
     "iopub.status.idle": "2021-12-28T22:30:54.128508Z",
     "shell.execute_reply": "2021-12-28T22:30:54.127869Z",
     "shell.execute_reply.started": "2021-12-28T22:30:54.122145Z"
    }
   },
   "outputs": [],
   "source": [
    "# Load the model from the file\n",
    "lr_from_joblib = joblib.load('simple_linear_regression.pkl')"
   ]
  },
  {
   "cell_type": "code",
   "execution_count": 23,
   "metadata": {
    "execution": {
     "iopub.execute_input": "2021-12-28T22:30:54.129838Z",
     "iopub.status.busy": "2021-12-28T22:30:54.129456Z",
     "iopub.status.idle": "2021-12-28T22:30:54.142220Z",
     "shell.execute_reply": "2021-12-28T22:30:54.140834Z",
     "shell.execute_reply.started": "2021-12-28T22:30:54.129789Z"
    }
   },
   "outputs": [
    {
     "data": {
      "text/plain": [
       "array([[ 3.7],\n",
       "       [ 9.5],\n",
       "       [10.3],\n",
       "       [ 4.1],\n",
       "       [ 2.9],\n",
       "       [ 4. ],\n",
       "       [ 9.6],\n",
       "       [ 9. ],\n",
       "       [ 3. ]])"
      ]
     },
     "execution_count": 23,
     "metadata": {},
     "output_type": "execute_result"
    }
   ],
   "source": [
    "X_test"
   ]
  },
  {
   "cell_type": "code",
   "execution_count": 24,
   "metadata": {
    "execution": {
     "iopub.execute_input": "2021-12-28T22:30:54.143633Z",
     "iopub.status.busy": "2021-12-28T22:30:54.143283Z",
     "iopub.status.idle": "2021-12-28T22:30:54.152554Z",
     "shell.execute_reply": "2021-12-28T22:30:54.151691Z",
     "shell.execute_reply.started": "2021-12-28T22:30:54.143593Z"
    }
   },
   "outputs": [],
   "source": [
    "# Use the loaded model to make predictions\n",
    "y_pred = lr_from_joblib.predict(X_test)"
   ]
  },
  {
   "cell_type": "code",
   "execution_count": 25,
   "metadata": {
    "execution": {
     "iopub.execute_input": "2021-12-28T22:30:54.154655Z",
     "iopub.status.busy": "2021-12-28T22:30:54.154086Z",
     "iopub.status.idle": "2021-12-28T22:30:54.165847Z",
     "shell.execute_reply": "2021-12-28T22:30:54.164949Z",
     "shell.execute_reply.started": "2021-12-28T22:30:54.154536Z"
    }
   },
   "outputs": [
    {
     "data": {
      "text/plain": [
       "array([ 61208.34198766, 117649.32424949, 125434.28732008,  65100.82352296,\n",
       "        53423.37891707,  64127.70313914, 118622.44463331, 112783.72233036,\n",
       "        54396.49930089])"
      ]
     },
     "execution_count": 25,
     "metadata": {},
     "output_type": "execute_result"
    }
   ],
   "source": [
    "y_pred"
   ]
  },
  {
   "cell_type": "code",
   "execution_count": 26,
   "metadata": {
    "execution": {
     "iopub.execute_input": "2021-12-28T22:30:54.167793Z",
     "iopub.status.busy": "2021-12-28T22:30:54.167247Z",
     "iopub.status.idle": "2021-12-28T22:30:54.177885Z",
     "shell.execute_reply": "2021-12-28T22:30:54.176764Z",
     "shell.execute_reply.started": "2021-12-28T22:30:54.167736Z"
    }
   },
   "outputs": [
    {
     "data": {
      "text/plain": [
       "'[59262.1012200137]'"
      ]
     },
     "execution_count": 26,
     "metadata": {},
     "output_type": "execute_result"
    }
   ],
   "source": [
    "import json\n",
    "json.dumps(list(lr_from_joblib.predict([[3.5]])))"
   ]
  },
  {
   "cell_type": "code",
   "execution_count": null,
   "metadata": {},
   "outputs": [],
   "source": []
  },
  {
   "cell_type": "code",
   "execution_count": null,
   "metadata": {},
   "outputs": [],
   "source": []
  }
 ],
 "metadata": {
  "kernelspec": {
   "display_name": "Python 3",
   "language": "python",
   "name": "python3"
  },
  "language_info": {
   "codemirror_mode": {
    "name": "ipython",
    "version": 3
   },
   "file_extension": ".py",
   "mimetype": "text/x-python",
   "name": "python",
   "nbconvert_exporter": "python",
   "pygments_lexer": "ipython3",
   "version": "3.6.6"
  }
 },
 "nbformat": 4,
 "nbformat_minor": 4
}
