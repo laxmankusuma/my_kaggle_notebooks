{
 "cells": [
  {
   "cell_type": "code",
   "execution_count": 1,
   "id": "fcf79a07",
   "metadata": {
    "execution": {
     "iopub.execute_input": "2021-09-22T17:28:15.273313Z",
     "iopub.status.busy": "2021-09-22T17:28:15.271824Z",
     "iopub.status.idle": "2021-09-22T17:28:19.657834Z",
     "shell.execute_reply": "2021-09-22T17:28:19.659387Z",
     "shell.execute_reply.started": "2021-09-22T17:16:34.940553Z"
    },
    "papermill": {
     "duration": 4.417809,
     "end_time": "2021-09-22T17:28:19.660005",
     "exception": false,
     "start_time": "2021-09-22T17:28:15.242196",
     "status": "completed"
    },
    "tags": []
   },
   "outputs": [
    {
     "name": "stderr",
     "output_type": "stream",
     "text": [
      "2021-09-22 17:28:15.843464: I tensorflow/stream_executor/platform/default/dso_loader.cc:49] Successfully opened dynamic library libcudart.so.11.0\n"
     ]
    }
   ],
   "source": [
    "import tensorflow as tf\n",
    "from tensorflow.keras import models,layers\n",
    "import matplotlib.pyplot as plt"
   ]
  },
  {
   "cell_type": "code",
   "execution_count": 2,
   "id": "199ebae1",
   "metadata": {
    "execution": {
     "iopub.execute_input": "2021-09-22T17:28:19.758586Z",
     "iopub.status.busy": "2021-09-22T17:28:19.757717Z",
     "iopub.status.idle": "2021-09-22T17:28:19.759912Z",
     "shell.execute_reply": "2021-09-22T17:28:19.759287Z",
     "shell.execute_reply.started": "2021-09-22T17:16:34.950515Z"
    },
    "papermill": {
     "duration": 0.047345,
     "end_time": "2021-09-22T17:28:19.760057",
     "exception": false,
     "start_time": "2021-09-22T17:28:19.712712",
     "status": "completed"
    },
    "tags": []
   },
   "outputs": [],
   "source": [
    "import time\n",
    "start_time = time.time()"
   ]
  },
  {
   "cell_type": "code",
   "execution_count": 3,
   "id": "023a204c",
   "metadata": {
    "execution": {
     "iopub.execute_input": "2021-09-22T17:28:19.856559Z",
     "iopub.status.busy": "2021-09-22T17:28:19.855697Z",
     "iopub.status.idle": "2021-09-22T17:28:20.622420Z",
     "shell.execute_reply": "2021-09-22T17:28:20.621742Z",
     "shell.execute_reply.started": "2021-09-22T17:16:34.961827Z"
    },
    "papermill": {
     "duration": 0.824699,
     "end_time": "2021-09-22T17:28:20.622600",
     "exception": false,
     "start_time": "2021-09-22T17:28:19.797901",
     "status": "completed"
    },
    "tags": []
   },
   "outputs": [
    {
     "name": "stdout",
     "output_type": "stream",
     "text": [
      "GPU 0: Tesla P100-PCIE-16GB (UUID: GPU-a5145eea-9cd2-58eb-034b-638825cfe4ca)\r\n"
     ]
    }
   ],
   "source": [
    "!nvidia-smi -L"
   ]
  },
  {
   "cell_type": "code",
   "execution_count": 4,
   "id": "964dd726",
   "metadata": {
    "execution": {
     "iopub.execute_input": "2021-09-22T17:28:20.716712Z",
     "iopub.status.busy": "2021-09-22T17:28:20.715962Z",
     "iopub.status.idle": "2021-09-22T17:28:21.390967Z",
     "shell.execute_reply": "2021-09-22T17:28:21.390106Z",
     "shell.execute_reply.started": "2021-09-22T17:16:35.807949Z"
    },
    "papermill": {
     "duration": 0.726812,
     "end_time": "2021-09-22T17:28:21.391102",
     "exception": false,
     "start_time": "2021-09-22T17:28:20.664290",
     "status": "completed"
    },
    "tags": []
   },
   "outputs": [
    {
     "name": "stdout",
     "output_type": "stream",
     "text": [
      "Wed Sep 22 17:28:21 2021       \r\n",
      "+-----------------------------------------------------------------------------+\r\n",
      "| NVIDIA-SMI 450.119.04   Driver Version: 450.119.04   CUDA Version: 11.0     |\r\n",
      "|-------------------------------+----------------------+----------------------+\r\n",
      "| GPU  Name        Persistence-M| Bus-Id        Disp.A | Volatile Uncorr. ECC |\r\n",
      "| Fan  Temp  Perf  Pwr:Usage/Cap|         Memory-Usage | GPU-Util  Compute M. |\r\n",
      "|                               |                      |               MIG M. |\r\n",
      "|===============================+======================+======================|\r\n",
      "|   0  Tesla P100-PCIE...  Off  | 00000000:00:04.0 Off |                    0 |\r\n",
      "| N/A   32C    P0    26W / 250W |      0MiB / 16280MiB |      0%      Default |\r\n",
      "|                               |                      |                  N/A |\r\n",
      "+-------------------------------+----------------------+----------------------+\r\n",
      "                                                                               \r\n",
      "+-----------------------------------------------------------------------------+\r\n",
      "| Processes:                                                                  |\r\n",
      "|  GPU   GI   CI        PID   Type   Process name                  GPU Memory |\r\n",
      "|        ID   ID                                                   Usage      |\r\n",
      "|=============================================================================|\r\n",
      "|  No running processes found                                                 |\r\n",
      "+-----------------------------------------------------------------------------+\r\n"
     ]
    }
   ],
   "source": [
    "!nvidia-smi"
   ]
  },
  {
   "cell_type": "code",
   "execution_count": 5,
   "id": "d5ca64e4",
   "metadata": {
    "execution": {
     "iopub.execute_input": "2021-09-22T17:28:21.447505Z",
     "iopub.status.busy": "2021-09-22T17:28:21.445882Z",
     "iopub.status.idle": "2021-09-22T17:28:21.448126Z",
     "shell.execute_reply": "2021-09-22T17:28:21.448532Z",
     "shell.execute_reply.started": "2021-09-22T17:16:36.628018Z"
    },
    "papermill": {
     "duration": 0.032032,
     "end_time": "2021-09-22T17:28:21.448659",
     "exception": false,
     "start_time": "2021-09-22T17:28:21.416627",
     "status": "completed"
    },
    "tags": []
   },
   "outputs": [],
   "source": [
    "IMAGE_SIZE = 256\n",
    "BATCH_SIZE=16\n",
    "# EPOCHS=50\n",
    "EPOCHS=50"
   ]
  },
  {
   "cell_type": "code",
   "execution_count": 6,
   "id": "e3008b5c",
   "metadata": {
    "execution": {
     "iopub.execute_input": "2021-09-22T17:28:21.508324Z",
     "iopub.status.busy": "2021-09-22T17:28:21.502039Z",
     "iopub.status.idle": "2021-09-22T17:28:22.132830Z",
     "shell.execute_reply": "2021-09-22T17:28:22.132328Z",
     "shell.execute_reply.started": "2021-09-22T17:16:36.638070Z"
    },
    "papermill": {
     "duration": 0.65884,
     "end_time": "2021-09-22T17:28:22.132948",
     "exception": false,
     "start_time": "2021-09-22T17:28:21.474108",
     "status": "completed"
    },
    "tags": []
   },
   "outputs": [
    {
     "name": "stdout",
     "output_type": "stream",
     "text": [
      "/kaggle/working\r\n"
     ]
    }
   ],
   "source": [
    " !pwd"
   ]
  },
  {
   "cell_type": "code",
   "execution_count": 7,
   "id": "d5a22456",
   "metadata": {
    "execution": {
     "iopub.execute_input": "2021-09-22T17:28:22.189613Z",
     "iopub.status.busy": "2021-09-22T17:28:22.188983Z",
     "iopub.status.idle": "2021-09-22T17:28:38.791198Z",
     "shell.execute_reply": "2021-09-22T17:28:38.790725Z",
     "shell.execute_reply.started": "2021-09-22T17:16:37.427521Z"
    },
    "papermill": {
     "duration": 16.631996,
     "end_time": "2021-09-22T17:28:38.791346",
     "exception": false,
     "start_time": "2021-09-22T17:28:22.159350",
     "status": "completed"
    },
    "tags": []
   },
   "outputs": [
    {
     "name": "stdout",
     "output_type": "stream",
     "text": [
      "Found 20638 files belonging to 15 classes.\n"
     ]
    },
    {
     "name": "stderr",
     "output_type": "stream",
     "text": [
      "2021-09-22 17:28:36.755794: I tensorflow/compiler/jit/xla_cpu_device.cc:41] Not creating XLA devices, tf_xla_enable_xla_devices not set\n",
      "2021-09-22 17:28:36.758955: I tensorflow/stream_executor/platform/default/dso_loader.cc:49] Successfully opened dynamic library libcuda.so.1\n",
      "2021-09-22 17:28:36.801356: I tensorflow/stream_executor/cuda/cuda_gpu_executor.cc:941] successful NUMA node read from SysFS had negative value (-1), but there must be at least one NUMA node, so returning NUMA node zero\n",
      "2021-09-22 17:28:36.801996: I tensorflow/core/common_runtime/gpu/gpu_device.cc:1720] Found device 0 with properties: \n",
      "pciBusID: 0000:00:04.0 name: Tesla P100-PCIE-16GB computeCapability: 6.0\n",
      "coreClock: 1.3285GHz coreCount: 56 deviceMemorySize: 15.90GiB deviceMemoryBandwidth: 681.88GiB/s\n",
      "2021-09-22 17:28:36.802055: I tensorflow/stream_executor/platform/default/dso_loader.cc:49] Successfully opened dynamic library libcudart.so.11.0\n",
      "2021-09-22 17:28:36.839874: I tensorflow/stream_executor/platform/default/dso_loader.cc:49] Successfully opened dynamic library libcublas.so.11\n",
      "2021-09-22 17:28:36.839951: I tensorflow/stream_executor/platform/default/dso_loader.cc:49] Successfully opened dynamic library libcublasLt.so.11\n",
      "2021-09-22 17:28:36.856687: I tensorflow/stream_executor/platform/default/dso_loader.cc:49] Successfully opened dynamic library libcufft.so.10\n",
      "2021-09-22 17:28:36.878777: I tensorflow/stream_executor/platform/default/dso_loader.cc:49] Successfully opened dynamic library libcurand.so.10\n",
      "2021-09-22 17:28:36.912494: I tensorflow/stream_executor/platform/default/dso_loader.cc:49] Successfully opened dynamic library libcusolver.so.10\n",
      "2021-09-22 17:28:36.920001: I tensorflow/stream_executor/platform/default/dso_loader.cc:49] Successfully opened dynamic library libcusparse.so.11\n",
      "2021-09-22 17:28:36.924009: I tensorflow/stream_executor/platform/default/dso_loader.cc:49] Successfully opened dynamic library libcudnn.so.8\n",
      "2021-09-22 17:28:36.924174: I tensorflow/stream_executor/cuda/cuda_gpu_executor.cc:941] successful NUMA node read from SysFS had negative value (-1), but there must be at least one NUMA node, so returning NUMA node zero\n",
      "2021-09-22 17:28:36.924918: I tensorflow/stream_executor/cuda/cuda_gpu_executor.cc:941] successful NUMA node read from SysFS had negative value (-1), but there must be at least one NUMA node, so returning NUMA node zero\n",
      "2021-09-22 17:28:36.926541: I tensorflow/core/common_runtime/gpu/gpu_device.cc:1862] Adding visible gpu devices: 0\n",
      "2021-09-22 17:28:36.930116: I tensorflow/core/platform/cpu_feature_guard.cc:142] This TensorFlow binary is optimized with oneAPI Deep Neural Network Library (oneDNN) to use the following CPU instructions in performance-critical operations:  AVX2 AVX512F FMA\n",
      "To enable them in other operations, rebuild TensorFlow with the appropriate compiler flags.\n",
      "2021-09-22 17:28:36.931001: I tensorflow/compiler/jit/xla_gpu_device.cc:99] Not creating XLA devices, tf_xla_enable_xla_devices not set\n",
      "2021-09-22 17:28:36.931154: I tensorflow/stream_executor/cuda/cuda_gpu_executor.cc:941] successful NUMA node read from SysFS had negative value (-1), but there must be at least one NUMA node, so returning NUMA node zero\n",
      "2021-09-22 17:28:36.931741: I tensorflow/core/common_runtime/gpu/gpu_device.cc:1720] Found device 0 with properties: \n",
      "pciBusID: 0000:00:04.0 name: Tesla P100-PCIE-16GB computeCapability: 6.0\n",
      "coreClock: 1.3285GHz coreCount: 56 deviceMemorySize: 15.90GiB deviceMemoryBandwidth: 681.88GiB/s\n",
      "2021-09-22 17:28:36.931788: I tensorflow/stream_executor/platform/default/dso_loader.cc:49] Successfully opened dynamic library libcudart.so.11.0\n",
      "2021-09-22 17:28:36.931815: I tensorflow/stream_executor/platform/default/dso_loader.cc:49] Successfully opened dynamic library libcublas.so.11\n",
      "2021-09-22 17:28:36.931834: I tensorflow/stream_executor/platform/default/dso_loader.cc:49] Successfully opened dynamic library libcublasLt.so.11\n",
      "2021-09-22 17:28:36.931853: I tensorflow/stream_executor/platform/default/dso_loader.cc:49] Successfully opened dynamic library libcufft.so.10\n",
      "2021-09-22 17:28:36.931872: I tensorflow/stream_executor/platform/default/dso_loader.cc:49] Successfully opened dynamic library libcurand.so.10\n",
      "2021-09-22 17:28:36.931890: I tensorflow/stream_executor/platform/default/dso_loader.cc:49] Successfully opened dynamic library libcusolver.so.10\n",
      "2021-09-22 17:28:36.931925: I tensorflow/stream_executor/platform/default/dso_loader.cc:49] Successfully opened dynamic library libcusparse.so.11\n",
      "2021-09-22 17:28:36.931945: I tensorflow/stream_executor/platform/default/dso_loader.cc:49] Successfully opened dynamic library libcudnn.so.8\n",
      "2021-09-22 17:28:36.932017: I tensorflow/stream_executor/cuda/cuda_gpu_executor.cc:941] successful NUMA node read from SysFS had negative value (-1), but there must be at least one NUMA node, so returning NUMA node zero\n",
      "2021-09-22 17:28:36.932648: I tensorflow/stream_executor/cuda/cuda_gpu_executor.cc:941] successful NUMA node read from SysFS had negative value (-1), but there must be at least one NUMA node, so returning NUMA node zero\n",
      "2021-09-22 17:28:36.933174: I tensorflow/core/common_runtime/gpu/gpu_device.cc:1862] Adding visible gpu devices: 0\n",
      "2021-09-22 17:28:36.934140: I tensorflow/stream_executor/platform/default/dso_loader.cc:49] Successfully opened dynamic library libcudart.so.11.0\n",
      "2021-09-22 17:28:38.411087: I tensorflow/core/common_runtime/gpu/gpu_device.cc:1261] Device interconnect StreamExecutor with strength 1 edge matrix:\n",
      "2021-09-22 17:28:38.411141: I tensorflow/core/common_runtime/gpu/gpu_device.cc:1267]      0 \n",
      "2021-09-22 17:28:38.411151: I tensorflow/core/common_runtime/gpu/gpu_device.cc:1280] 0:   N \n",
      "2021-09-22 17:28:38.415925: I tensorflow/stream_executor/cuda/cuda_gpu_executor.cc:941] successful NUMA node read from SysFS had negative value (-1), but there must be at least one NUMA node, so returning NUMA node zero\n",
      "2021-09-22 17:28:38.416673: I tensorflow/stream_executor/cuda/cuda_gpu_executor.cc:941] successful NUMA node read from SysFS had negative value (-1), but there must be at least one NUMA node, so returning NUMA node zero\n",
      "2021-09-22 17:28:38.417304: I tensorflow/stream_executor/cuda/cuda_gpu_executor.cc:941] successful NUMA node read from SysFS had negative value (-1), but there must be at least one NUMA node, so returning NUMA node zero\n",
      "2021-09-22 17:28:38.417879: I tensorflow/core/common_runtime/gpu/gpu_device.cc:1406] Created TensorFlow device (/job:localhost/replica:0/task:0/device:GPU:0 with 14957 MB memory) -> physical GPU (device: 0, name: Tesla P100-PCIE-16GB, pci bus id: 0000:00:04.0, compute capability: 6.0)\n"
     ]
    }
   ],
   "source": [
    "dataset = tf.keras.preprocessing.image_dataset_from_directory(\n",
    "\"/kaggle/input/plant-village/PlantVillage\",\n",
    "    shuffle=True,\n",
    "    image_size = (IMAGE_SIZE, IMAGE_SIZE),\n",
    "    batch_size = BATCH_SIZE\n",
    ")"
   ]
  },
  {
   "cell_type": "code",
   "execution_count": 8,
   "id": "04d26bb4",
   "metadata": {
    "execution": {
     "iopub.execute_input": "2021-09-22T17:28:38.852901Z",
     "iopub.status.busy": "2021-09-22T17:28:38.852143Z",
     "iopub.status.idle": "2021-09-22T17:28:38.855261Z",
     "shell.execute_reply": "2021-09-22T17:28:38.855685Z",
     "shell.execute_reply.started": "2021-09-22T17:16:40.800287Z"
    },
    "papermill": {
     "duration": 0.037442,
     "end_time": "2021-09-22T17:28:38.855807",
     "exception": false,
     "start_time": "2021-09-22T17:28:38.818365",
     "status": "completed"
    },
    "tags": []
   },
   "outputs": [
    {
     "data": {
      "text/plain": [
       "['Pepper__bell___Bacterial_spot',\n",
       " 'Pepper__bell___healthy',\n",
       " 'Potato___Early_blight',\n",
       " 'Potato___Late_blight',\n",
       " 'Potato___healthy',\n",
       " 'Tomato_Bacterial_spot',\n",
       " 'Tomato_Early_blight',\n",
       " 'Tomato_Late_blight',\n",
       " 'Tomato_Leaf_Mold',\n",
       " 'Tomato_Septoria_leaf_spot',\n",
       " 'Tomato_Spider_mites_Two_spotted_spider_mite',\n",
       " 'Tomato__Target_Spot',\n",
       " 'Tomato__Tomato_YellowLeaf__Curl_Virus',\n",
       " 'Tomato__Tomato_mosaic_virus',\n",
       " 'Tomato_healthy']"
      ]
     },
     "execution_count": 8,
     "metadata": {},
     "output_type": "execute_result"
    }
   ],
   "source": [
    "class_names = dataset.class_names\n",
    "class_names"
   ]
  },
  {
   "cell_type": "code",
   "execution_count": 9,
   "id": "9af6c2a9",
   "metadata": {
    "execution": {
     "iopub.execute_input": "2021-09-22T17:28:38.913203Z",
     "iopub.status.busy": "2021-09-22T17:28:38.912468Z",
     "iopub.status.idle": "2021-09-22T17:28:38.917478Z",
     "shell.execute_reply": "2021-09-22T17:28:38.917883Z",
     "shell.execute_reply.started": "2021-09-22T17:16:40.813332Z"
    },
    "papermill": {
     "duration": 0.035471,
     "end_time": "2021-09-22T17:28:38.917997",
     "exception": false,
     "start_time": "2021-09-22T17:28:38.882526",
     "status": "completed"
    },
    "tags": []
   },
   "outputs": [
    {
     "data": {
      "text/plain": [
       "1290"
      ]
     },
     "execution_count": 9,
     "metadata": {},
     "output_type": "execute_result"
    }
   ],
   "source": [
    "len(dataset)"
   ]
  },
  {
   "cell_type": "code",
   "execution_count": 10,
   "id": "bd7d71f1",
   "metadata": {
    "execution": {
     "iopub.execute_input": "2021-09-22T17:28:38.976371Z",
     "iopub.status.busy": "2021-09-22T17:28:38.975764Z",
     "iopub.status.idle": "2021-09-22T17:28:38.978298Z",
     "shell.execute_reply": "2021-09-22T17:28:38.978704Z",
     "shell.execute_reply.started": "2021-09-22T17:16:40.828965Z"
    },
    "papermill": {
     "duration": 0.033726,
     "end_time": "2021-09-22T17:28:38.978818",
     "exception": false,
     "start_time": "2021-09-22T17:28:38.945092",
     "status": "completed"
    },
    "tags": []
   },
   "outputs": [
    {
     "data": {
      "text/plain": [
       "20640"
      ]
     },
     "execution_count": 10,
     "metadata": {},
     "output_type": "execute_result"
    }
   ],
   "source": [
    "645*32"
   ]
  },
  {
   "cell_type": "code",
   "execution_count": 11,
   "id": "b807ca82",
   "metadata": {
    "execution": {
     "iopub.execute_input": "2021-09-22T17:28:39.038235Z",
     "iopub.status.busy": "2021-09-22T17:28:39.037628Z",
     "iopub.status.idle": "2021-09-22T17:28:39.948190Z",
     "shell.execute_reply": "2021-09-22T17:28:39.948849Z",
     "shell.execute_reply.started": "2021-09-22T17:16:40.841664Z"
    },
    "papermill": {
     "duration": 0.942748,
     "end_time": "2021-09-22T17:28:39.949069",
     "exception": false,
     "start_time": "2021-09-22T17:28:39.006321",
     "status": "completed"
    },
    "tags": []
   },
   "outputs": [
    {
     "name": "stderr",
     "output_type": "stream",
     "text": [
      "2021-09-22 17:28:39.068086: I tensorflow/compiler/mlir/mlir_graph_optimization_pass.cc:116] None of the MLIR optimization passes are enabled (registered 2)\n",
      "2021-09-22 17:28:39.071989: I tensorflow/core/platform/profile_utils/cpu_utils.cc:112] CPU Frequency: 2000189999 Hz\n"
     ]
    },
    {
     "name": "stdout",
     "output_type": "stream",
     "text": [
      "(16, 256, 256, 3)\n",
      "[14  5  1  9  5  0  3 10  6  5  1  0 12 10  3  5]\n"
     ]
    }
   ],
   "source": [
    "for image_batch, label_batch in dataset.take(1):\n",
    "    print(image_batch.shape)\n",
    "    print(label_batch.numpy())\n"
   ]
  },
  {
   "cell_type": "code",
   "execution_count": 12,
   "id": "da6fc6a5",
   "metadata": {
    "execution": {
     "iopub.execute_input": "2021-09-22T17:28:40.011340Z",
     "iopub.status.busy": "2021-09-22T17:28:40.009805Z",
     "iopub.status.idle": "2021-09-22T17:28:40.011986Z",
     "shell.execute_reply": "2021-09-22T17:28:40.012432Z",
     "shell.execute_reply.started": "2021-09-22T17:16:42.063392Z"
    },
    "papermill": {
     "duration": 0.034481,
     "end_time": "2021-09-22T17:28:40.012558",
     "exception": false,
     "start_time": "2021-09-22T17:28:39.978077",
     "status": "completed"
    },
    "tags": []
   },
   "outputs": [],
   "source": [
    "# plt.figure(figsize=(10,10))\n",
    "# for image_batch, label_batch in dataset.take(1):\n",
    "#     for i in range(12):\n",
    "#         ax = plt.subplot(3,4,i+1)\n",
    "#         plt.imshow(image_batch[i].numpy().astype(\"uint8\"))\n",
    "#         plt.title(class_names[label_batch[i]])\n",
    "#         plt.axis(\"off\")"
   ]
  },
  {
   "cell_type": "code",
   "execution_count": 13,
   "id": "01953dc0",
   "metadata": {
    "execution": {
     "iopub.execute_input": "2021-09-22T17:28:40.074118Z",
     "iopub.status.busy": "2021-09-22T17:28:40.073513Z",
     "iopub.status.idle": "2021-09-22T17:28:40.076117Z",
     "shell.execute_reply": "2021-09-22T17:28:40.076527Z",
     "shell.execute_reply.started": "2021-09-22T17:16:42.072353Z"
    },
    "papermill": {
     "duration": 0.036582,
     "end_time": "2021-09-22T17:28:40.076766",
     "exception": false,
     "start_time": "2021-09-22T17:28:40.040184",
     "status": "completed"
    },
    "tags": []
   },
   "outputs": [
    {
     "data": {
      "text/plain": [
       "1032.0"
      ]
     },
     "execution_count": 13,
     "metadata": {},
     "output_type": "execute_result"
    }
   ],
   "source": [
    "train_size = 0.8\n",
    "len(dataset)*train_size"
   ]
  },
  {
   "cell_type": "code",
   "execution_count": 14,
   "id": "51f97656",
   "metadata": {
    "execution": {
     "iopub.execute_input": "2021-09-22T17:28:40.139300Z",
     "iopub.status.busy": "2021-09-22T17:28:40.138493Z",
     "iopub.status.idle": "2021-09-22T17:28:40.142976Z",
     "shell.execute_reply": "2021-09-22T17:28:40.142571Z",
     "shell.execute_reply.started": "2021-09-22T17:16:42.090447Z"
    },
    "papermill": {
     "duration": 0.036418,
     "end_time": "2021-09-22T17:28:40.143079",
     "exception": false,
     "start_time": "2021-09-22T17:28:40.106661",
     "status": "completed"
    },
    "tags": []
   },
   "outputs": [
    {
     "data": {
      "text/plain": [
       "516"
      ]
     },
     "execution_count": 14,
     "metadata": {},
     "output_type": "execute_result"
    }
   ],
   "source": [
    "train_ds = dataset.take(516)\n",
    "len(train_ds)"
   ]
  },
  {
   "cell_type": "code",
   "execution_count": 15,
   "id": "8d9e7df1",
   "metadata": {
    "execution": {
     "iopub.execute_input": "2021-09-22T17:28:40.204007Z",
     "iopub.status.busy": "2021-09-22T17:28:40.203177Z",
     "iopub.status.idle": "2021-09-22T17:28:40.207505Z",
     "shell.execute_reply": "2021-09-22T17:28:40.207973Z",
     "shell.execute_reply.started": "2021-09-22T17:16:42.100979Z"
    },
    "papermill": {
     "duration": 0.036416,
     "end_time": "2021-09-22T17:28:40.208086",
     "exception": false,
     "start_time": "2021-09-22T17:28:40.171670",
     "status": "completed"
    },
    "tags": []
   },
   "outputs": [
    {
     "data": {
      "text/plain": [
       "774"
      ]
     },
     "execution_count": 15,
     "metadata": {},
     "output_type": "execute_result"
    }
   ],
   "source": [
    "test_ds = dataset.skip(516)\n",
    "len(test_ds)"
   ]
  },
  {
   "cell_type": "code",
   "execution_count": 16,
   "id": "dea50159",
   "metadata": {
    "execution": {
     "iopub.execute_input": "2021-09-22T17:28:40.269797Z",
     "iopub.status.busy": "2021-09-22T17:28:40.268976Z",
     "iopub.status.idle": "2021-09-22T17:28:40.273454Z",
     "shell.execute_reply": "2021-09-22T17:28:40.273036Z",
     "shell.execute_reply.started": "2021-09-22T17:16:42.113959Z"
    },
    "papermill": {
     "duration": 0.036968,
     "end_time": "2021-09-22T17:28:40.273554",
     "exception": false,
     "start_time": "2021-09-22T17:28:40.236586",
     "status": "completed"
    },
    "tags": []
   },
   "outputs": [
    {
     "data": {
      "text/plain": [
       "65"
      ]
     },
     "execution_count": 16,
     "metadata": {},
     "output_type": "execute_result"
    }
   ],
   "source": [
    "validation_ds = test_ds.take(65)\n",
    "len(validation_ds)"
   ]
  },
  {
   "cell_type": "code",
   "execution_count": 17,
   "id": "5f8f70d8",
   "metadata": {
    "execution": {
     "iopub.execute_input": "2021-09-22T17:28:40.336724Z",
     "iopub.status.busy": "2021-09-22T17:28:40.336108Z",
     "iopub.status.idle": "2021-09-22T17:28:40.338940Z",
     "shell.execute_reply": "2021-09-22T17:28:40.339342Z",
     "shell.execute_reply.started": "2021-09-22T17:16:42.125426Z"
    },
    "papermill": {
     "duration": 0.03713,
     "end_time": "2021-09-22T17:28:40.339454",
     "exception": false,
     "start_time": "2021-09-22T17:28:40.302324",
     "status": "completed"
    },
    "tags": []
   },
   "outputs": [
    {
     "data": {
      "text/plain": [
       "709"
      ]
     },
     "execution_count": 17,
     "metadata": {},
     "output_type": "execute_result"
    }
   ],
   "source": [
    "test_ds = test_ds.skip(65)\n",
    "len(test_ds)"
   ]
  },
  {
   "cell_type": "markdown",
   "id": "1952174c",
   "metadata": {
    "execution": {
     "iopub.execute_input": "2021-09-18T06:41:19.048436Z",
     "iopub.status.busy": "2021-09-18T06:41:19.048083Z",
     "iopub.status.idle": "2021-09-18T06:41:19.056048Z",
     "shell.execute_reply": "2021-09-18T06:41:19.05531Z",
     "shell.execute_reply.started": "2021-09-18T06:41:19.0484Z"
    },
    "papermill": {
     "duration": 0.028833,
     "end_time": "2021-09-22T17:28:40.397667",
     "exception": false,
     "start_time": "2021-09-22T17:28:40.368834",
     "status": "completed"
    },
    "tags": []
   },
   "source": [
    "def get_dataset_partitions_tf(ds, train_split=0.8, val_split=0.1, test_split=0.1,shuffle=True,shuffle_size=10000):\n",
    "    ds_size = len(ds)\n",
    "    \n",
    "    if shuffle:\n",
    "        ds = ds.shuffle(shuffle_size, seed=12)\n",
    "        \n",
    "    train_size = int(train_split * ds_size) \n",
    "    val_size = int(val_split * ds_size)\n",
    "        \n",
    "    train_ds = ds.take(train_size)\n",
    "        \n",
    "    val_ds = ds.skip(train_size).take(val_size)\n",
    "    test_ds = ds.skip(train_size).skip(val_size)\n",
    "    \n",
    "    return train_ds,val_ds,test_ds              "
   ]
  },
  {
   "cell_type": "code",
   "execution_count": 18,
   "id": "14a2e31d",
   "metadata": {
    "execution": {
     "iopub.execute_input": "2021-09-22T17:28:40.462286Z",
     "iopub.status.busy": "2021-09-22T17:28:40.461779Z",
     "iopub.status.idle": "2021-09-22T17:28:40.464866Z",
     "shell.execute_reply": "2021-09-22T17:28:40.465313Z",
     "shell.execute_reply.started": "2021-09-22T17:16:42.136653Z"
    },
    "papermill": {
     "duration": 0.038499,
     "end_time": "2021-09-22T17:28:40.465451",
     "exception": false,
     "start_time": "2021-09-22T17:28:40.426952",
     "status": "completed"
    },
    "tags": []
   },
   "outputs": [],
   "source": [
    "def get_dataset_partitions_tf(ds, train_split=0.8, val_split=0.1, test_split=0.1,shuffle=True,shuffle_size=10):\n",
    "    ds_size = len(ds)\n",
    "    \n",
    "    if shuffle:\n",
    "        ds = ds.shuffle(shuffle_size, seed=12)\n",
    "        \n",
    "    train_size = int(train_split * ds_size) \n",
    "    val_size = int(val_split * ds_size)\n",
    "        \n",
    "    train_ds = ds.take(516)\n",
    "        \n",
    "    val_ds = ds.skip(516).take(65)\n",
    "    test_ds = ds.skip(581).take(64)\n",
    "    \n",
    "    return train_ds,val_ds,test_ds"
   ]
  },
  {
   "cell_type": "code",
   "execution_count": 19,
   "id": "b4d75dcf",
   "metadata": {
    "execution": {
     "iopub.execute_input": "2021-09-22T17:28:40.527891Z",
     "iopub.status.busy": "2021-09-22T17:28:40.527172Z",
     "iopub.status.idle": "2021-09-22T17:28:40.531824Z",
     "shell.execute_reply": "2021-09-22T17:28:40.532197Z",
     "shell.execute_reply.started": "2021-09-22T17:16:42.148856Z"
    },
    "papermill": {
     "duration": 0.03781,
     "end_time": "2021-09-22T17:28:40.532332",
     "exception": false,
     "start_time": "2021-09-22T17:28:40.494522",
     "status": "completed"
    },
    "tags": []
   },
   "outputs": [],
   "source": [
    "train_ds,val_ds,test_ds = get_dataset_partitions_tf(dataset)"
   ]
  },
  {
   "cell_type": "code",
   "execution_count": 20,
   "id": "ee1b2fb0",
   "metadata": {
    "execution": {
     "iopub.execute_input": "2021-09-22T17:28:40.596513Z",
     "iopub.status.busy": "2021-09-22T17:28:40.595870Z",
     "iopub.status.idle": "2021-09-22T17:28:40.598785Z",
     "shell.execute_reply": "2021-09-22T17:28:40.599168Z",
     "shell.execute_reply.started": "2021-09-22T17:16:42.167375Z"
    },
    "papermill": {
     "duration": 0.037137,
     "end_time": "2021-09-22T17:28:40.599295",
     "exception": false,
     "start_time": "2021-09-22T17:28:40.562158",
     "status": "completed"
    },
    "tags": []
   },
   "outputs": [
    {
     "data": {
      "text/plain": [
       "516"
      ]
     },
     "execution_count": 20,
     "metadata": {},
     "output_type": "execute_result"
    }
   ],
   "source": [
    "len(train_ds)"
   ]
  },
  {
   "cell_type": "code",
   "execution_count": 21,
   "id": "f13ad7c6",
   "metadata": {
    "execution": {
     "iopub.execute_input": "2021-09-22T17:28:40.662240Z",
     "iopub.status.busy": "2021-09-22T17:28:40.661765Z",
     "iopub.status.idle": "2021-09-22T17:28:40.666180Z",
     "shell.execute_reply": "2021-09-22T17:28:40.665760Z",
     "shell.execute_reply.started": "2021-09-22T17:16:42.179075Z"
    },
    "papermill": {
     "duration": 0.03761,
     "end_time": "2021-09-22T17:28:40.666292",
     "exception": false,
     "start_time": "2021-09-22T17:28:40.628682",
     "status": "completed"
    },
    "tags": []
   },
   "outputs": [
    {
     "data": {
      "text/plain": [
       "65"
      ]
     },
     "execution_count": 21,
     "metadata": {},
     "output_type": "execute_result"
    }
   ],
   "source": [
    "len(val_ds)"
   ]
  },
  {
   "cell_type": "code",
   "execution_count": 22,
   "id": "99a7a0a0",
   "metadata": {
    "execution": {
     "iopub.execute_input": "2021-09-22T17:28:40.731364Z",
     "iopub.status.busy": "2021-09-22T17:28:40.730758Z",
     "iopub.status.idle": "2021-09-22T17:28:40.733405Z",
     "shell.execute_reply": "2021-09-22T17:28:40.733802Z",
     "shell.execute_reply.started": "2021-09-22T17:16:42.190311Z"
    },
    "papermill": {
     "duration": 0.037701,
     "end_time": "2021-09-22T17:28:40.733917",
     "exception": false,
     "start_time": "2021-09-22T17:28:40.696216",
     "status": "completed"
    },
    "tags": []
   },
   "outputs": [
    {
     "data": {
      "text/plain": [
       "64"
      ]
     },
     "execution_count": 22,
     "metadata": {},
     "output_type": "execute_result"
    }
   ],
   "source": [
    "len(test_ds)"
   ]
  },
  {
   "cell_type": "code",
   "execution_count": 23,
   "id": "a15f9030",
   "metadata": {
    "execution": {
     "iopub.execute_input": "2021-09-22T17:28:40.798723Z",
     "iopub.status.busy": "2021-09-22T17:28:40.798214Z",
     "iopub.status.idle": "2021-09-22T17:28:40.804187Z",
     "shell.execute_reply": "2021-09-22T17:28:40.803783Z",
     "shell.execute_reply.started": "2021-09-22T17:16:42.201148Z"
    },
    "papermill": {
     "duration": 0.040384,
     "end_time": "2021-09-22T17:28:40.804300",
     "exception": false,
     "start_time": "2021-09-22T17:28:40.763916",
     "status": "completed"
    },
    "tags": []
   },
   "outputs": [],
   "source": [
    "train_ds = train_ds.cache().shuffle(1000).prefetch(buffer_size=tf.data.AUTOTUNE)\n",
    "val_ds = val_ds.cache().shuffle(1000).prefetch(buffer_size=tf.data.AUTOTUNE)\n",
    "test_ds = test_ds.cache().shuffle(1000).prefetch(buffer_size=tf.data.AUTOTUNE)"
   ]
  },
  {
   "cell_type": "code",
   "execution_count": 24,
   "id": "df8cfb14",
   "metadata": {
    "execution": {
     "iopub.execute_input": "2021-09-22T17:28:40.868978Z",
     "iopub.status.busy": "2021-09-22T17:28:40.868493Z",
     "iopub.status.idle": "2021-09-22T17:28:40.884574Z",
     "shell.execute_reply": "2021-09-22T17:28:40.885074Z",
     "shell.execute_reply.started": "2021-09-22T17:16:42.216157Z"
    },
    "papermill": {
     "duration": 0.05066,
     "end_time": "2021-09-22T17:28:40.885208",
     "exception": false,
     "start_time": "2021-09-22T17:28:40.834548",
     "status": "completed"
    },
    "tags": []
   },
   "outputs": [],
   "source": [
    "resize_rescale = tf.keras.Sequential([\n",
    "    layers.experimental.preprocessing.Resizing(IMAGE_SIZE,IMAGE_SIZE),\n",
    "    layers.experimental.preprocessing.Rescaling(1.0/255)\n",
    "])"
   ]
  },
  {
   "cell_type": "code",
   "execution_count": 25,
   "id": "f1541a39",
   "metadata": {
    "execution": {
     "iopub.execute_input": "2021-09-22T17:28:40.952323Z",
     "iopub.status.busy": "2021-09-22T17:28:40.951797Z",
     "iopub.status.idle": "2021-09-22T17:28:40.962084Z",
     "shell.execute_reply": "2021-09-22T17:28:40.961666Z",
     "shell.execute_reply.started": "2021-09-22T17:16:42.245516Z"
    },
    "papermill": {
     "duration": 0.046827,
     "end_time": "2021-09-22T17:28:40.962187",
     "exception": false,
     "start_time": "2021-09-22T17:28:40.915360",
     "status": "completed"
    },
    "tags": []
   },
   "outputs": [],
   "source": [
    "data_augmentation = tf.keras.Sequential([\n",
    "    layers.experimental.preprocessing.RandomFlip(\"horizontal_and_vertical\"),\n",
    "    layers.experimental.preprocessing.RandomRotation(0.2),\n",
    "])"
   ]
  },
  {
   "cell_type": "code",
   "execution_count": 26,
   "id": "797af834",
   "metadata": {
    "execution": {
     "iopub.execute_input": "2021-09-22T17:28:41.049785Z",
     "iopub.status.busy": "2021-09-22T17:28:41.030460Z",
     "iopub.status.idle": "2021-09-22T17:28:41.369518Z",
     "shell.execute_reply": "2021-09-22T17:28:41.368761Z",
     "shell.execute_reply.started": "2021-09-22T17:16:42.268991Z"
    },
    "papermill": {
     "duration": 0.376579,
     "end_time": "2021-09-22T17:28:41.369699",
     "exception": false,
     "start_time": "2021-09-22T17:28:40.993120",
     "status": "completed"
    },
    "tags": []
   },
   "outputs": [],
   "source": [
    "CHANNELS = 3\n",
    "input_shape = (BATCH_SIZE, IMAGE_SIZE,IMAGE_SIZE,CHANNELS)\n",
    "n_classes = 15\n",
    "\n",
    "model = models.Sequential([\n",
    "    resize_rescale,\n",
    "    data_augmentation,\n",
    "    layers.Conv2D(32, (3,3), activation='relu', input_shape=input_shape),\n",
    "    layers.MaxPooling2D((2,2)),\n",
    "    layers.Conv2D(64,  kernel_size=(3,3), activation='relu'),\n",
    "    layers.MaxPooling2D((2,2)),\n",
    "    layers.Conv2D(64,  kernel_size=(3,3), activation='relu'),\n",
    "    layers.MaxPooling2D((2,2)),\n",
    "    layers.Conv2D(64, (3,3), activation='relu'),\n",
    "    layers.MaxPooling2D((2,2)),\n",
    "    layers.Conv2D(64, (3,3), activation='relu'),\n",
    "    layers.MaxPooling2D((2,2)),\n",
    "    layers.Conv2D(64, (3,3), activation='relu'),\n",
    "    layers.MaxPooling2D((2,2)),\n",
    "    layers.Flatten(),\n",
    "    layers.Dense(64,activation='relu'),\n",
    "    layers.Dense(n_classes,activation='softmax'),\n",
    "])\n",
    "model.build(input_shape=input_shape)"
   ]
  },
  {
   "cell_type": "code",
   "execution_count": 27,
   "id": "55d474e2",
   "metadata": {
    "execution": {
     "iopub.execute_input": "2021-09-22T17:28:41.487568Z",
     "iopub.status.busy": "2021-09-22T17:28:41.485740Z",
     "iopub.status.idle": "2021-09-22T17:28:41.501388Z",
     "shell.execute_reply": "2021-09-22T17:28:41.500518Z",
     "shell.execute_reply.started": "2021-09-22T17:16:42.600639Z"
    },
    "papermill": {
     "duration": 0.076811,
     "end_time": "2021-09-22T17:28:41.501548",
     "exception": false,
     "start_time": "2021-09-22T17:28:41.424737",
     "status": "completed"
    },
    "tags": []
   },
   "outputs": [
    {
     "name": "stdout",
     "output_type": "stream",
     "text": [
      "Model: \"sequential_2\"\n",
      "_________________________________________________________________\n",
      "Layer (type)                 Output Shape              Param #   \n",
      "=================================================================\n",
      "sequential (Sequential)      (16, 256, 256, 3)         0         \n",
      "_________________________________________________________________\n",
      "sequential_1 (Sequential)    (16, 256, 256, 3)         0         \n",
      "_________________________________________________________________\n",
      "conv2d (Conv2D)              (16, 254, 254, 32)        896       \n",
      "_________________________________________________________________\n",
      "max_pooling2d (MaxPooling2D) (16, 127, 127, 32)        0         \n",
      "_________________________________________________________________\n",
      "conv2d_1 (Conv2D)            (16, 125, 125, 64)        18496     \n",
      "_________________________________________________________________\n",
      "max_pooling2d_1 (MaxPooling2 (16, 62, 62, 64)          0         \n",
      "_________________________________________________________________\n",
      "conv2d_2 (Conv2D)            (16, 60, 60, 64)          36928     \n",
      "_________________________________________________________________\n",
      "max_pooling2d_2 (MaxPooling2 (16, 30, 30, 64)          0         \n",
      "_________________________________________________________________\n",
      "conv2d_3 (Conv2D)            (16, 28, 28, 64)          36928     \n",
      "_________________________________________________________________\n",
      "max_pooling2d_3 (MaxPooling2 (16, 14, 14, 64)          0         \n",
      "_________________________________________________________________\n",
      "conv2d_4 (Conv2D)            (16, 12, 12, 64)          36928     \n",
      "_________________________________________________________________\n",
      "max_pooling2d_4 (MaxPooling2 (16, 6, 6, 64)            0         \n",
      "_________________________________________________________________\n",
      "conv2d_5 (Conv2D)            (16, 4, 4, 64)            36928     \n",
      "_________________________________________________________________\n",
      "max_pooling2d_5 (MaxPooling2 (16, 2, 2, 64)            0         \n",
      "_________________________________________________________________\n",
      "flatten (Flatten)            (16, 256)                 0         \n",
      "_________________________________________________________________\n",
      "dense (Dense)                (16, 64)                  16448     \n",
      "_________________________________________________________________\n",
      "dense_1 (Dense)              (16, 15)                  975       \n",
      "=================================================================\n",
      "Total params: 184,527\n",
      "Trainable params: 184,527\n",
      "Non-trainable params: 0\n",
      "_________________________________________________________________\n"
     ]
    }
   ],
   "source": [
    "model.summary()"
   ]
  },
  {
   "cell_type": "code",
   "execution_count": 28,
   "id": "ac241228",
   "metadata": {
    "execution": {
     "iopub.execute_input": "2021-09-22T17:28:41.621890Z",
     "iopub.status.busy": "2021-09-22T17:28:41.621107Z",
     "iopub.status.idle": "2021-09-22T17:28:41.637050Z",
     "shell.execute_reply": "2021-09-22T17:28:41.636643Z",
     "shell.execute_reply.started": "2021-09-22T17:16:42.627541Z"
    },
    "papermill": {
     "duration": 0.081065,
     "end_time": "2021-09-22T17:28:41.637162",
     "exception": false,
     "start_time": "2021-09-22T17:28:41.556097",
     "status": "completed"
    },
    "tags": []
   },
   "outputs": [],
   "source": [
    "model.compile(\n",
    "    optimizer='adam',\n",
    "    loss = tf.keras.losses.SparseCategoricalCrossentropy(from_logits=False),\n",
    "    metrics=['accuracy']\n",
    ")"
   ]
  },
  {
   "cell_type": "code",
   "execution_count": 29,
   "id": "d5cd5c46",
   "metadata": {
    "execution": {
     "iopub.execute_input": "2021-09-22T17:28:41.707400Z",
     "iopub.status.busy": "2021-09-22T17:28:41.706146Z",
     "iopub.status.idle": "2021-09-22T17:38:36.640123Z",
     "shell.execute_reply": "2021-09-22T17:38:36.639700Z",
     "shell.execute_reply.started": "2021-09-22T17:16:42.655091Z"
    },
    "papermill": {
     "duration": 594.967986,
     "end_time": "2021-09-22T17:38:36.640249",
     "exception": false,
     "start_time": "2021-09-22T17:28:41.672263",
     "status": "completed"
    },
    "tags": []
   },
   "outputs": [
    {
     "name": "stdout",
     "output_type": "stream",
     "text": [
      "Epoch 1/50\n"
     ]
    },
    {
     "name": "stderr",
     "output_type": "stream",
     "text": [
      "2021-09-22 17:28:42.649339: I tensorflow/stream_executor/platform/default/dso_loader.cc:49] Successfully opened dynamic library libcublas.so.11\n",
      "2021-09-22 17:28:43.527365: I tensorflow/stream_executor/platform/default/dso_loader.cc:49] Successfully opened dynamic library libcublasLt.so.11\n",
      "2021-09-22 17:28:52.691986: I tensorflow/core/kernels/data/shuffle_dataset_op.cc:177] Filling up shuffle buffer (this may take a while): 97 of 1000\n",
      "2021-09-22 17:29:02.629501: I tensorflow/core/kernels/data/shuffle_dataset_op.cc:177] Filling up shuffle buffer (this may take a while): 207 of 1000\n",
      "2021-09-22 17:29:12.682998: I tensorflow/core/kernels/data/shuffle_dataset_op.cc:177] Filling up shuffle buffer (this may take a while): 318 of 1000\n",
      "2021-09-22 17:29:22.697244: I tensorflow/core/kernels/data/shuffle_dataset_op.cc:177] Filling up shuffle buffer (this may take a while): 427 of 1000\n",
      "2021-09-22 17:29:30.755842: I tensorflow/core/kernels/data/shuffle_dataset_op.cc:230] Shuffle buffer filled.\n",
      "2021-09-22 17:29:30.775797: I tensorflow/stream_executor/platform/default/dso_loader.cc:49] Successfully opened dynamic library libcudnn.so.8\n"
     ]
    },
    {
     "name": "stdout",
     "output_type": "stream",
     "text": [
      "514/516 [============================>.] - ETA: 0s - loss: 2.4506 - accuracy: 0.1933"
     ]
    },
    {
     "name": "stderr",
     "output_type": "stream",
     "text": [
      "2021-09-22 17:29:59.191926: I tensorflow/core/kernels/data/shuffle_dataset_op.cc:177] Filling up shuffle buffer (this may take a while): 1 of 1000\n",
      "2021-09-22 17:30:05.376318: I tensorflow/core/kernels/data/shuffle_dataset_op.cc:230] Shuffle buffer filled.\n"
     ]
    },
    {
     "name": "stdout",
     "output_type": "stream",
     "text": [
      "516/516 [==============================] - 84s 57ms/step - loss: 2.4499 - accuracy: 0.1935 - val_loss: 2.2647 - val_accuracy: 0.2481\n",
      "Epoch 2/50\n",
      "516/516 [==============================] - 10s 20ms/step - loss: 2.0458 - accuracy: 0.3101 - val_loss: 1.7632 - val_accuracy: 0.4442\n",
      "Epoch 3/50\n",
      "516/516 [==============================] - 10s 20ms/step - loss: 1.6136 - accuracy: 0.4807 - val_loss: 1.1958 - val_accuracy: 0.5981\n",
      "Epoch 4/50\n",
      "516/516 [==============================] - 10s 20ms/step - loss: 1.2064 - accuracy: 0.5937 - val_loss: 1.1072 - val_accuracy: 0.6365\n",
      "Epoch 5/50\n",
      "516/516 [==============================] - 10s 20ms/step - loss: 0.9402 - accuracy: 0.6842 - val_loss: 0.9458 - val_accuracy: 0.7038\n",
      "Epoch 6/50\n",
      "516/516 [==============================] - 10s 20ms/step - loss: 0.7004 - accuracy: 0.7487 - val_loss: 0.8439 - val_accuracy: 0.6942\n",
      "Epoch 7/50\n",
      "516/516 [==============================] - 10s 20ms/step - loss: 0.6371 - accuracy: 0.7783 - val_loss: 0.5479 - val_accuracy: 0.8000\n",
      "Epoch 8/50\n",
      "516/516 [==============================] - 10s 20ms/step - loss: 0.5447 - accuracy: 0.8134 - val_loss: 0.4572 - val_accuracy: 0.8288\n",
      "Epoch 9/50\n",
      "516/516 [==============================] - 10s 20ms/step - loss: 0.4886 - accuracy: 0.8361 - val_loss: 0.4756 - val_accuracy: 0.8279\n",
      "Epoch 10/50\n",
      "516/516 [==============================] - 10s 20ms/step - loss: 0.4633 - accuracy: 0.8388 - val_loss: 0.4650 - val_accuracy: 0.8337\n",
      "Epoch 11/50\n",
      "516/516 [==============================] - 10s 20ms/step - loss: 0.4050 - accuracy: 0.8630 - val_loss: 1.1295 - val_accuracy: 0.7000\n",
      "Epoch 12/50\n",
      "516/516 [==============================] - 10s 20ms/step - loss: 0.4148 - accuracy: 0.8598 - val_loss: 0.5878 - val_accuracy: 0.8173\n",
      "Epoch 13/50\n",
      "516/516 [==============================] - 10s 20ms/step - loss: 0.3640 - accuracy: 0.8743 - val_loss: 0.3316 - val_accuracy: 0.8817\n",
      "Epoch 14/50\n",
      "516/516 [==============================] - 10s 20ms/step - loss: 0.3149 - accuracy: 0.8897 - val_loss: 0.3132 - val_accuracy: 0.8894\n",
      "Epoch 15/50\n",
      "516/516 [==============================] - 10s 20ms/step - loss: 0.3136 - accuracy: 0.8920 - val_loss: 0.2734 - val_accuracy: 0.9067\n",
      "Epoch 16/50\n",
      "516/516 [==============================] - 10s 20ms/step - loss: 0.3043 - accuracy: 0.8963 - val_loss: 0.2847 - val_accuracy: 0.8971\n",
      "Epoch 17/50\n",
      "516/516 [==============================] - 10s 20ms/step - loss: 0.2807 - accuracy: 0.9039 - val_loss: 0.3814 - val_accuracy: 0.8731\n",
      "Epoch 18/50\n",
      "516/516 [==============================] - 10s 20ms/step - loss: 0.2912 - accuracy: 0.9021 - val_loss: 0.3021 - val_accuracy: 0.8962\n",
      "Epoch 19/50\n",
      "516/516 [==============================] - 10s 20ms/step - loss: 0.2677 - accuracy: 0.9076 - val_loss: 0.2690 - val_accuracy: 0.9106\n",
      "Epoch 20/50\n",
      "516/516 [==============================] - 11s 20ms/step - loss: 0.2769 - accuracy: 0.9066 - val_loss: 0.2583 - val_accuracy: 0.9144\n",
      "Epoch 21/50\n",
      "516/516 [==============================] - 10s 20ms/step - loss: 0.2478 - accuracy: 0.9140 - val_loss: 0.2510 - val_accuracy: 0.9058\n",
      "Epoch 22/50\n",
      "516/516 [==============================] - 10s 20ms/step - loss: 0.2384 - accuracy: 0.9173 - val_loss: 0.2224 - val_accuracy: 0.9163\n",
      "Epoch 23/50\n",
      "516/516 [==============================] - 10s 20ms/step - loss: 0.2270 - accuracy: 0.9190 - val_loss: 0.4425 - val_accuracy: 0.8471\n",
      "Epoch 24/50\n",
      "516/516 [==============================] - 10s 20ms/step - loss: 0.2217 - accuracy: 0.9240 - val_loss: 0.3967 - val_accuracy: 0.8721\n",
      "Epoch 25/50\n",
      "516/516 [==============================] - 10s 20ms/step - loss: 0.2213 - accuracy: 0.9279 - val_loss: 0.2296 - val_accuracy: 0.9288\n",
      "Epoch 26/50\n",
      "516/516 [==============================] - 11s 20ms/step - loss: 0.2166 - accuracy: 0.9249 - val_loss: 0.2379 - val_accuracy: 0.9231\n",
      "Epoch 27/50\n",
      "516/516 [==============================] - 10s 20ms/step - loss: 0.2220 - accuracy: 0.9193 - val_loss: 0.2228 - val_accuracy: 0.9308\n",
      "Epoch 28/50\n",
      "516/516 [==============================] - 10s 20ms/step - loss: 0.2004 - accuracy: 0.9281 - val_loss: 0.2589 - val_accuracy: 0.9154\n",
      "Epoch 29/50\n",
      "516/516 [==============================] - 11s 20ms/step - loss: 0.2073 - accuracy: 0.9237 - val_loss: 0.2203 - val_accuracy: 0.9192\n",
      "Epoch 30/50\n",
      "516/516 [==============================] - 10s 20ms/step - loss: 0.1798 - accuracy: 0.9341 - val_loss: 0.1972 - val_accuracy: 0.9317\n",
      "Epoch 31/50\n",
      "516/516 [==============================] - 10s 20ms/step - loss: 0.1669 - accuracy: 0.9437 - val_loss: 0.2011 - val_accuracy: 0.9308\n",
      "Epoch 32/50\n",
      "516/516 [==============================] - 11s 21ms/step - loss: 0.1897 - accuracy: 0.9317 - val_loss: 0.3134 - val_accuracy: 0.8875\n",
      "Epoch 33/50\n",
      "516/516 [==============================] - 10s 20ms/step - loss: 0.2118 - accuracy: 0.9259 - val_loss: 0.1921 - val_accuracy: 0.9394\n",
      "Epoch 34/50\n",
      "516/516 [==============================] - 10s 20ms/step - loss: 0.1815 - accuracy: 0.9374 - val_loss: 0.2776 - val_accuracy: 0.9067\n",
      "Epoch 35/50\n",
      "516/516 [==============================] - 11s 20ms/step - loss: 0.1692 - accuracy: 0.9409 - val_loss: 0.1815 - val_accuracy: 0.9385\n",
      "Epoch 36/50\n",
      "516/516 [==============================] - 11s 21ms/step - loss: 0.1643 - accuracy: 0.9413 - val_loss: 0.3031 - val_accuracy: 0.9058\n",
      "Epoch 37/50\n",
      "516/516 [==============================] - 10s 20ms/step - loss: 0.1772 - accuracy: 0.9385 - val_loss: 0.3199 - val_accuracy: 0.8913\n",
      "Epoch 38/50\n",
      "516/516 [==============================] - 10s 20ms/step - loss: 0.1841 - accuracy: 0.9417 - val_loss: 0.2121 - val_accuracy: 0.9298\n",
      "Epoch 39/50\n",
      "516/516 [==============================] - 11s 21ms/step - loss: 0.1674 - accuracy: 0.9412 - val_loss: 0.2214 - val_accuracy: 0.9269\n",
      "Epoch 40/50\n",
      "516/516 [==============================] - 10s 20ms/step - loss: 0.1674 - accuracy: 0.9421 - val_loss: 0.2778 - val_accuracy: 0.9106\n",
      "Epoch 41/50\n",
      "516/516 [==============================] - 10s 20ms/step - loss: 0.1353 - accuracy: 0.9554 - val_loss: 0.1556 - val_accuracy: 0.9433\n",
      "Epoch 42/50\n",
      "516/516 [==============================] - 11s 21ms/step - loss: 0.2022 - accuracy: 0.9351 - val_loss: 0.2315 - val_accuracy: 0.9327\n",
      "Epoch 43/50\n",
      "516/516 [==============================] - 10s 20ms/step - loss: 0.1323 - accuracy: 0.9539 - val_loss: 0.1304 - val_accuracy: 0.9567\n",
      "Epoch 44/50\n",
      "516/516 [==============================] - 10s 20ms/step - loss: 0.1538 - accuracy: 0.9485 - val_loss: 0.2123 - val_accuracy: 0.9394\n",
      "Epoch 45/50\n",
      "516/516 [==============================] - 11s 21ms/step - loss: 0.1485 - accuracy: 0.9463 - val_loss: 0.1801 - val_accuracy: 0.9423\n",
      "Epoch 46/50\n",
      "516/516 [==============================] - 10s 20ms/step - loss: 0.1404 - accuracy: 0.9506 - val_loss: 0.2596 - val_accuracy: 0.9269\n",
      "Epoch 47/50\n",
      "516/516 [==============================] - 10s 20ms/step - loss: 0.1555 - accuracy: 0.9458 - val_loss: 0.1635 - val_accuracy: 0.9452\n",
      "Epoch 48/50\n",
      "516/516 [==============================] - 10s 20ms/step - loss: 0.1193 - accuracy: 0.9565 - val_loss: 0.1761 - val_accuracy: 0.9481\n",
      "Epoch 49/50\n",
      "516/516 [==============================] - 10s 20ms/step - loss: 0.1471 - accuracy: 0.9475 - val_loss: 0.1762 - val_accuracy: 0.9481\n",
      "Epoch 50/50\n",
      "516/516 [==============================] - 10s 20ms/step - loss: 0.1316 - accuracy: 0.9549 - val_loss: 0.2216 - val_accuracy: 0.9375\n"
     ]
    }
   ],
   "source": [
    "hostory =  model.fit(\n",
    "    train_ds,\n",
    "    epochs=EPOCHS,\n",
    "    batch_size=BATCH_SIZE,\n",
    "    verbose=1,\n",
    "    validation_data = val_ds\n",
    ")"
   ]
  },
  {
   "cell_type": "code",
   "execution_count": 30,
   "id": "8bf397d0",
   "metadata": {
    "execution": {
     "iopub.execute_input": "2021-09-22T17:38:41.147035Z",
     "iopub.status.busy": "2021-09-22T17:38:41.146207Z",
     "iopub.status.idle": "2021-09-22T17:39:02.827120Z",
     "shell.execute_reply": "2021-09-22T17:39:02.827570Z",
     "shell.execute_reply.started": "2021-09-22T17:27:11.363926Z"
    },
    "papermill": {
     "duration": 23.910435,
     "end_time": "2021-09-22T17:39:02.827723",
     "exception": false,
     "start_time": "2021-09-22T17:38:38.917288",
     "status": "completed"
    },
    "tags": []
   },
   "outputs": [
    {
     "name": "stderr",
     "output_type": "stream",
     "text": [
      "2021-09-22 17:38:55.230558: I tensorflow/core/kernels/data/shuffle_dataset_op.cc:177] Filling up shuffle buffer (this may take a while): 1 of 1000\n",
      "2021-09-22 17:39:01.269172: I tensorflow/core/kernels/data/shuffle_dataset_op.cc:177] Filling up shuffle buffer (this may take a while): 56 of 1000\n"
     ]
    },
    {
     "name": "stdout",
     "output_type": "stream",
     "text": [
      "19/64 [=======>......................] - ETA: 0s - loss: 0.1017 - accuracy: 0.9605"
     ]
    },
    {
     "name": "stderr",
     "output_type": "stream",
     "text": [
      "2021-09-22 17:39:02.227232: I tensorflow/core/kernels/data/shuffle_dataset_op.cc:230] Shuffle buffer filled.\n"
     ]
    },
    {
     "name": "stdout",
     "output_type": "stream",
     "text": [
      "64/64 [==============================] - 22s 9ms/step - loss: 0.2363 - accuracy: 0.9229\n"
     ]
    },
    {
     "data": {
      "text/plain": [
       "[0.23633022606372833, 0.9228515625]"
      ]
     },
     "execution_count": 30,
     "metadata": {},
     "output_type": "execute_result"
    }
   ],
   "source": [
    "model.evaluate(test_ds)"
   ]
  },
  {
   "cell_type": "code",
   "execution_count": 31,
   "id": "7e354d95",
   "metadata": {
    "execution": {
     "iopub.execute_input": "2021-09-22T17:39:07.399383Z",
     "iopub.status.busy": "2021-09-22T17:39:07.398732Z",
     "iopub.status.idle": "2021-09-22T17:39:07.401454Z",
     "shell.execute_reply": "2021-09-22T17:39:07.401847Z",
     "shell.execute_reply.started": "2021-09-22T17:27:44.778405Z"
    },
    "papermill": {
     "duration": 2.298669,
     "end_time": "2021-09-22T17:39:07.401984",
     "exception": false,
     "start_time": "2021-09-22T17:39:05.103315",
     "status": "completed"
    },
    "tags": []
   },
   "outputs": [
    {
     "data": {
      "text/plain": [
       "{'verbose': 1, 'epochs': 50, 'steps': 516}"
      ]
     },
     "execution_count": 31,
     "metadata": {},
     "output_type": "execute_result"
    }
   ],
   "source": [
    "hostory.params"
   ]
  },
  {
   "cell_type": "code",
   "execution_count": 32,
   "id": "b89c32e1",
   "metadata": {
    "execution": {
     "iopub.execute_input": "2021-09-22T17:39:12.111970Z",
     "iopub.status.busy": "2021-09-22T17:39:12.111357Z",
     "iopub.status.idle": "2021-09-22T17:39:12.114015Z",
     "shell.execute_reply": "2021-09-22T17:39:12.114471Z",
     "shell.execute_reply.started": "2021-09-22T17:27:44.790143Z"
    },
    "papermill": {
     "duration": 2.241205,
     "end_time": "2021-09-22T17:39:12.114606",
     "exception": false,
     "start_time": "2021-09-22T17:39:09.873401",
     "status": "completed"
    },
    "tags": []
   },
   "outputs": [
    {
     "data": {
      "text/plain": [
       "dict_keys(['loss', 'accuracy', 'val_loss', 'val_accuracy'])"
      ]
     },
     "execution_count": 32,
     "metadata": {},
     "output_type": "execute_result"
    }
   ],
   "source": [
    "hostory.history.keys()"
   ]
  },
  {
   "cell_type": "code",
   "execution_count": 33,
   "id": "371e25ef",
   "metadata": {
    "execution": {
     "iopub.execute_input": "2021-09-22T17:39:16.610758Z",
     "iopub.status.busy": "2021-09-22T17:39:16.609929Z",
     "iopub.status.idle": "2021-09-22T17:39:16.615487Z",
     "shell.execute_reply": "2021-09-22T17:39:16.615913Z",
     "shell.execute_reply.started": "2021-09-22T17:27:44.802581Z"
    },
    "papermill": {
     "duration": 2.24194,
     "end_time": "2021-09-22T17:39:16.616048",
     "exception": false,
     "start_time": "2021-09-22T17:39:14.374108",
     "status": "completed"
    },
    "tags": []
   },
   "outputs": [
    {
     "data": {
      "text/plain": [
       "0.8686506754159927"
      ]
     },
     "execution_count": 33,
     "metadata": {},
     "output_type": "execute_result"
    }
   ],
   "source": [
    "from statistics import mean\n",
    "mean(hostory.history['accuracy'])"
   ]
  },
  {
   "cell_type": "code",
   "execution_count": 34,
   "id": "27705ba3",
   "metadata": {
    "execution": {
     "iopub.execute_input": "2021-09-22T17:39:21.409738Z",
     "iopub.status.busy": "2021-09-22T17:39:21.408896Z",
     "iopub.status.idle": "2021-09-22T17:39:21.411305Z",
     "shell.execute_reply": "2021-09-22T17:39:21.410876Z",
     "shell.execute_reply.started": "2021-09-22T17:27:44.816712Z"
    },
    "papermill": {
     "duration": 2.497268,
     "end_time": "2021-09-22T17:39:21.411421",
     "exception": false,
     "start_time": "2021-09-22T17:39:18.914153",
     "status": "completed"
    },
    "tags": []
   },
   "outputs": [],
   "source": [
    "loss = hostory.history['loss']\n",
    "acc = hostory.history['accuracy']\n",
    "\n",
    "val_loss = hostory.history['val_loss']\n",
    "val_acc = hostory.history['val_accuracy']"
   ]
  },
  {
   "cell_type": "code",
   "execution_count": 35,
   "id": "36b1c7f9",
   "metadata": {
    "execution": {
     "iopub.execute_input": "2021-09-22T17:39:25.957979Z",
     "iopub.status.busy": "2021-09-22T17:39:25.957285Z",
     "iopub.status.idle": "2021-09-22T17:39:26.475255Z",
     "shell.execute_reply": "2021-09-22T17:39:26.475848Z",
     "shell.execute_reply.started": "2021-09-22T17:27:44.826108Z"
    },
    "papermill": {
     "duration": 2.829428,
     "end_time": "2021-09-22T17:39:26.476024",
     "exception": false,
     "start_time": "2021-09-22T17:39:23.646596",
     "status": "completed"
    },
    "tags": []
   },
   "outputs": [
    {
     "data": {
      "image/png": "[encoded data removed]",
      "text/plain": [
       "<Figure size 576x576 with 2 Axes>"
      ]
     },
     "metadata": {
      "needs_background": "light"
     },
     "output_type": "display_data"
    }
   ],
   "source": [
    "plt.figure(figsize=(8,8))\n",
    "plt.subplot(1,2,1)\n",
    "plt.plot(range(EPOCHS), acc, label='training accuracy')\n",
    "plt.plot(range(EPOCHS), val_acc, label='validation accuracy')\n",
    "plt.legend(loc='lower right')\n",
    "plt.title('tarining and validation accuracy')\n",
    "\n",
    "plt.subplot(1,2,2)\n",
    "plt.plot(range(EPOCHS), loss, label='training accuracy')\n",
    "plt.plot(range(EPOCHS), val_loss, label='validation accuracy')\n",
    "plt.legend(loc='lower right')\n",
    "plt.title('tarining and validation accuracy')\n",
    "plt.show()"
   ]
  },
  {
   "cell_type": "code",
   "execution_count": 36,
   "id": "eb6113a9",
   "metadata": {
    "execution": {
     "iopub.execute_input": "2021-09-22T17:39:31.388475Z",
     "iopub.status.busy": "2021-09-22T17:39:31.387802Z",
     "iopub.status.idle": "2021-09-22T17:39:31.390876Z",
     "shell.execute_reply": "2021-09-22T17:39:31.389037Z",
     "shell.execute_reply.started": "2021-09-22T17:27:45.257154Z"
    },
    "papermill": {
     "duration": 2.61157,
     "end_time": "2021-09-22T17:39:31.390992",
     "exception": false,
     "start_time": "2021-09-22T17:39:28.779422",
     "status": "completed"
    },
    "tags": []
   },
   "outputs": [
    {
     "name": "stdout",
     "output_type": "stream",
     "text": [
      "--- 671.6291079521179 seconds ---\n"
     ]
    }
   ],
   "source": [
    "print(\"--- %s seconds ---\" % (time.time() - start_time))"
   ]
  }
 ],
 "metadata": {
  "kernelspec": {
   "display_name": "Python 3",
   "language": "python",
   "name": "python3"
  },
  "language_info": {
   "codemirror_mode": {
    "name": "ipython",
    "version": 3
   },
   "file_extension": ".py",
   "mimetype": "text/x-python",
   "name": "python",
   "nbconvert_exporter": "python",
   "pygments_lexer": "ipython3",
   "version": "3.7.10"
  },
  "papermill": {
   "default_parameters": {},
   "duration": 688.308836,
   "end_time": "2021-09-22T17:39:37.302505",
   "environment_variables": {},
   "exception": null,
   "input_path": "__notebook__.ipynb",
   "output_path": "__notebook__.ipynb",
   "parameters": {},
   "start_time": "2021-09-22T17:28:08.993669",
   "version": "2.3.3"
  }
 },
 "nbformat": 4,
 "nbformat_minor": 5
}
